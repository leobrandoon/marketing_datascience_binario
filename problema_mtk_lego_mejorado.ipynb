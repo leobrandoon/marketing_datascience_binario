{
 "cells": [
  {
   "cell_type": "markdown",
   "id": "b224bdde",
   "metadata": {},
   "source": [
    "# Descripción\n",
    "   ### Los datos están relacionados con campañas de marketing directo de una institución bancaria. Las campañas de marketing se basaron en llamadas telefónicas. A menudo, se requería más de un contacto con el mismo cliente, para poder acceder si el producto (depósito a plazo bancario) estaría ('sí') o no ('no') suscrito.\n",
    "\n",
    "\n",
    "    Reglas y método de evaluación\n",
    "    \n",
    "    El desafío consistirá en que cada grupo formado deberá entregar un arreglo con los resultados ('yes' o 'no') y se medirá la medida de desempeño F1 score (macro).\n",
    "    \n",
    "    EL archivo de entrega debe ser en formato csv sin indice. Debe ser una sola columna con valores ´yes´ o ´no´ en 5210 filas\n",
    "\n",
    "\n",
    "#### Variables de entrada:\n",
    "\n",
    "# datos del cliente bancario:\n",
    "1 - edad (numérico)\n",
    "\n",
    "2 - trabajo: tipo de trabajo (categórico: 'admin.', 'Obrero', 'emprendedor', 'empleada doméstica', 'gerencia', 'jubilado', 'autónomo', 'servicios', 'estudiante' , 'técnico', 'desempleado', 'desconocido')\n",
    "\n",
    "3 - marital: estado civil (categórico: 'divorciado', 'casado', 'soltero', 'desconocido'; nota: 'divorciado' significa divorciado o viudo)\n",
    "\n",
    "4 - educación (categórica: 'básico.4y', 'básico.6y', 'básico.9y', 'escuela secundaria', 'analfabeto', 'curso.profesional', 'título universitario', 'desconocido')\n",
    "\n",
    "5 - incumplimiento: ¿tiene crédito en incumplimiento? (categórico: 'no', 'sí', 'desconocido')\n",
    "\n",
    "6 - vivienda: ¿tiene préstamo para vivienda? (categórico: 'no', 'sí', 'desconocido')\n",
    "\n",
    "7 - préstamo: ¿tiene préstamo personal? (categórico: 'no', 'sí', 'desconocido')\n",
    "\n",
    "# relacionado con el último contacto de la campaña actual:\n",
    "\n",
    "8 - contacto: tipo de comunicación de contacto (categórico: 'celular', 'teléfono')\n",
    "\n",
    "9 - mes: último mes de contacto del año (categórico: 'jan', 'feb', 'mar', ..., 'nov', 'dec')\n",
    "\n",
    "10 - day_of_week: último día de contacto de la semana (categórico: 'lun', 'tue', 'mié', 'jue', 'vie')\n",
    "\n",
    "11 - duración: duración del último contacto, en segundos (numérico). Nota importante: este atributo afecta en gran medida el objetivo de salida (por ejemplo, si duración = 0, entonces y = 'no'). Sin embargo, se desconoce la duración antes de realizar una llamada. Además, después de la finalización de la llamada y, obviamente, se conoce. Por lo tanto, esta entrada solo debe incluirse con fines de referencia y debe descartarse si la intención es tener un modelo predictivo realista.\n",
    "\n",
    "# otros atributos:\n",
    "\n",
    "12 - campaña: número de contactos realizados durante esta campaña y para este cliente (numérico, incluye último contacto)\n",
    "\n",
    "13 - pdays: número de días que pasaron después de que el cliente fue contactado por última vez desde una campaña anterior (numérico; 999 significa que el cliente no fue contactado previamente)\n",
    "\n",
    "14 - anterior: número de contactos realizados antes de esta campaña y para este cliente (numérico)\n",
    "\n",
    "15 - poutcome: resultado de la campaña de marketing anterior (categórico: 'fracaso', 'inexistente', 'éxito')\n",
    "\n",
    "Variable de salida (objetivo deseado):\n",
    "\n",
    "21 - y - ¿el cliente ha suscrito un depósito a plazo? (binario: 'sí', 'no')\n"
   ]
  },
  {
   "cell_type": "markdown",
   "id": "26c3dd6e",
   "metadata": {},
   "source": [
    "# Comenzando"
   ]
  },
  {
   "cell_type": "code",
   "execution_count": 1,
   "id": "e00eafb3",
   "metadata": {},
   "outputs": [],
   "source": [
    "import numpy as np\n",
    "import pandas as pd\n",
    "import pylab as plt\n",
    "from scipy.optimize import curve_fit\n",
    "import matplotlib.pyplot as plt\n",
    "import seaborn as sns\n",
    "from sklearn import preprocessing\n",
    "\n",
    "\n",
    "from imblearn.over_sampling import RandomOverSampler\n",
    "import imblearn"
   ]
  },
  {
   "cell_type": "code",
   "execution_count": 2,
   "id": "2629e828",
   "metadata": {},
   "outputs": [],
   "source": [
    "df_train = pd.read_csv('Trainset.csv', index_col= 'Unnamed: 0')\n",
    "df_test = pd.read_csv('TestFeatures.csv')\n",
    "final = pd.read_csv('submission_example.csv')"
   ]
  },
  {
   "cell_type": "code",
   "execution_count": 3,
   "id": "7f3efed6",
   "metadata": {},
   "outputs": [
    {
     "name": "stdout",
     "output_type": "stream",
     "text": [
      "<class 'pandas.core.frame.DataFrame'>\n",
      "Int64Index: 40000 entries, 0 to 39999\n",
      "Data columns (total 17 columns):\n",
      " #   Column     Non-Null Count  Dtype \n",
      "---  ------     --------------  ----- \n",
      " 0   age        40000 non-null  int64 \n",
      " 1   job        40000 non-null  object\n",
      " 2   marital    40000 non-null  object\n",
      " 3   education  40000 non-null  object\n",
      " 4   default    40000 non-null  object\n",
      " 5   balance    40000 non-null  int64 \n",
      " 6   housing    40000 non-null  object\n",
      " 7   loan       40000 non-null  object\n",
      " 8   contact    40000 non-null  object\n",
      " 9   day        40000 non-null  int64 \n",
      " 10  month      40000 non-null  object\n",
      " 11  duration   40000 non-null  int64 \n",
      " 12  campaign   40000 non-null  int64 \n",
      " 13  pdays      40000 non-null  int64 \n",
      " 14  previous   40000 non-null  int64 \n",
      " 15  poutcome   40000 non-null  object\n",
      " 16  y          40000 non-null  object\n",
      "dtypes: int64(7), object(10)\n",
      "memory usage: 5.5+ MB\n"
     ]
    }
   ],
   "source": [
    "df_train.info()"
   ]
  },
  {
   "cell_type": "code",
   "execution_count": 4,
   "id": "826646c4",
   "metadata": {
    "scrolled": false
   },
   "outputs": [
    {
     "data": {
      "text/html": [
       "<div>\n",
       "<style scoped>\n",
       "    .dataframe tbody tr th:only-of-type {\n",
       "        vertical-align: middle;\n",
       "    }\n",
       "\n",
       "    .dataframe tbody tr th {\n",
       "        vertical-align: top;\n",
       "    }\n",
       "\n",
       "    .dataframe thead th {\n",
       "        text-align: right;\n",
       "    }\n",
       "</style>\n",
       "<table border=\"1\" class=\"dataframe\">\n",
       "  <thead>\n",
       "    <tr style=\"text-align: right;\">\n",
       "      <th></th>\n",
       "      <th>age</th>\n",
       "      <th>job</th>\n",
       "      <th>marital</th>\n",
       "      <th>education</th>\n",
       "      <th>default</th>\n",
       "      <th>balance</th>\n",
       "      <th>housing</th>\n",
       "      <th>loan</th>\n",
       "      <th>contact</th>\n",
       "      <th>day</th>\n",
       "      <th>month</th>\n",
       "      <th>duration</th>\n",
       "      <th>campaign</th>\n",
       "      <th>pdays</th>\n",
       "      <th>previous</th>\n",
       "      <th>poutcome</th>\n",
       "      <th>y</th>\n",
       "    </tr>\n",
       "  </thead>\n",
       "  <tbody>\n",
       "    <tr>\n",
       "      <th>0</th>\n",
       "      <td>46</td>\n",
       "      <td>management</td>\n",
       "      <td>single</td>\n",
       "      <td>tertiary</td>\n",
       "      <td>no</td>\n",
       "      <td>593</td>\n",
       "      <td>yes</td>\n",
       "      <td>no</td>\n",
       "      <td>cellular</td>\n",
       "      <td>29</td>\n",
       "      <td>jan</td>\n",
       "      <td>190</td>\n",
       "      <td>3</td>\n",
       "      <td>-1</td>\n",
       "      <td>0</td>\n",
       "      <td>unknown</td>\n",
       "      <td>no</td>\n",
       "    </tr>\n",
       "    <tr>\n",
       "      <th>1</th>\n",
       "      <td>42</td>\n",
       "      <td>admin.</td>\n",
       "      <td>married</td>\n",
       "      <td>tertiary</td>\n",
       "      <td>no</td>\n",
       "      <td>1536</td>\n",
       "      <td>no</td>\n",
       "      <td>no</td>\n",
       "      <td>cellular</td>\n",
       "      <td>6</td>\n",
       "      <td>aug</td>\n",
       "      <td>140</td>\n",
       "      <td>1</td>\n",
       "      <td>182</td>\n",
       "      <td>4</td>\n",
       "      <td>failure</td>\n",
       "      <td>no</td>\n",
       "    </tr>\n",
       "    <tr>\n",
       "      <th>2</th>\n",
       "      <td>33</td>\n",
       "      <td>blue-collar</td>\n",
       "      <td>married</td>\n",
       "      <td>secondary</td>\n",
       "      <td>no</td>\n",
       "      <td>370</td>\n",
       "      <td>yes</td>\n",
       "      <td>no</td>\n",
       "      <td>cellular</td>\n",
       "      <td>8</td>\n",
       "      <td>apr</td>\n",
       "      <td>249</td>\n",
       "      <td>1</td>\n",
       "      <td>-1</td>\n",
       "      <td>0</td>\n",
       "      <td>unknown</td>\n",
       "      <td>no</td>\n",
       "    </tr>\n",
       "    <tr>\n",
       "      <th>3</th>\n",
       "      <td>29</td>\n",
       "      <td>blue-collar</td>\n",
       "      <td>single</td>\n",
       "      <td>secondary</td>\n",
       "      <td>no</td>\n",
       "      <td>1472</td>\n",
       "      <td>no</td>\n",
       "      <td>no</td>\n",
       "      <td>cellular</td>\n",
       "      <td>18</td>\n",
       "      <td>may</td>\n",
       "      <td>246</td>\n",
       "      <td>2</td>\n",
       "      <td>-1</td>\n",
       "      <td>0</td>\n",
       "      <td>unknown</td>\n",
       "      <td>no</td>\n",
       "    </tr>\n",
       "    <tr>\n",
       "      <th>4</th>\n",
       "      <td>29</td>\n",
       "      <td>technician</td>\n",
       "      <td>married</td>\n",
       "      <td>secondary</td>\n",
       "      <td>no</td>\n",
       "      <td>767</td>\n",
       "      <td>yes</td>\n",
       "      <td>no</td>\n",
       "      <td>cellular</td>\n",
       "      <td>5</td>\n",
       "      <td>feb</td>\n",
       "      <td>253</td>\n",
       "      <td>1</td>\n",
       "      <td>-1</td>\n",
       "      <td>0</td>\n",
       "      <td>unknown</td>\n",
       "      <td>no</td>\n",
       "    </tr>\n",
       "  </tbody>\n",
       "</table>\n",
       "</div>"
      ],
      "text/plain": [
       "   age          job  marital  education default  balance housing loan  \\\n",
       "0   46   management   single   tertiary      no      593     yes   no   \n",
       "1   42       admin.  married   tertiary      no     1536      no   no   \n",
       "2   33  blue-collar  married  secondary      no      370     yes   no   \n",
       "3   29  blue-collar   single  secondary      no     1472      no   no   \n",
       "4   29   technician  married  secondary      no      767     yes   no   \n",
       "\n",
       "    contact  day month  duration  campaign  pdays  previous poutcome   y  \n",
       "0  cellular   29   jan       190         3     -1         0  unknown  no  \n",
       "1  cellular    6   aug       140         1    182         4  failure  no  \n",
       "2  cellular    8   apr       249         1     -1         0  unknown  no  \n",
       "3  cellular   18   may       246         2     -1         0  unknown  no  \n",
       "4  cellular    5   feb       253         1     -1         0  unknown  no  "
      ]
     },
     "execution_count": 4,
     "metadata": {},
     "output_type": "execute_result"
    }
   ],
   "source": [
    "df_train.head()"
   ]
  },
  {
   "cell_type": "markdown",
   "id": "f1848cbf",
   "metadata": {},
   "source": [
    "## Eliminar Columnas\n",
    "duration   \n",
    "\n"
   ]
  },
  {
   "cell_type": "code",
   "execution_count": 5,
   "id": "402367d5",
   "metadata": {
    "scrolled": false
   },
   "outputs": [],
   "source": [
    "df_train = df_train.drop(['duration'], axis=1)"
   ]
  },
  {
   "cell_type": "markdown",
   "id": "0ed8b6ce",
   "metadata": {},
   "source": [
    "## Distribution"
   ]
  },
  {
   "cell_type": "code",
   "execution_count": 6,
   "id": "bd972e8a",
   "metadata": {},
   "outputs": [
    {
     "data": {
      "text/plain": [
       "blue-collar      0.214075\n",
       "management       0.209575\n",
       "technician       0.169400\n",
       "admin.           0.115025\n",
       "services         0.091850\n",
       "retired          0.049625\n",
       "self-employed    0.034675\n",
       "entrepreneur     0.033150\n",
       "unemployed       0.028200\n",
       "housemaid        0.027200\n",
       "student          0.020775\n",
       "unknown          0.006450\n",
       "Name: job, dtype: float64"
      ]
     },
     "execution_count": 6,
     "metadata": {},
     "output_type": "execute_result"
    }
   ],
   "source": [
    "df_train['job'].value_counts()/df_train['poutcome'].shape[0]"
   ]
  },
  {
   "cell_type": "code",
   "execution_count": 7,
   "id": "eb19f0cc",
   "metadata": {},
   "outputs": [
    {
     "data": {
      "image/png": "[encoded data removed]",
      "text/plain": [
       "<Figure size 720x216 with 1 Axes>"
      ]
     },
     "metadata": {
      "needs_background": "light"
     },
     "output_type": "display_data"
    }
   ],
   "source": [
    "plt.figure(figsize = (10,3))\n",
    "sns.countplot(x=\"job\", data = df_train, hue =\"y\")\n",
    "plt.title(\"Job vs Count\")\n",
    "plt.xticks(rotation=90)\n",
    "plt.show()"
   ]
  },
  {
   "cell_type": "markdown",
   "id": "445ab35b",
   "metadata": {},
   "source": [
    "### Mayormente los usuarios NO tiene contratado el producto"
   ]
  },
  {
   "cell_type": "code",
   "execution_count": 8,
   "id": "812f48a7",
   "metadata": {
    "scrolled": false
   },
   "outputs": [],
   "source": [
    "# df_train.hist(figsize=(12,12), color = 'darkblue')\n",
    "# plt.show()"
   ]
  },
  {
   "cell_type": "code",
   "execution_count": 9,
   "id": "e375f590",
   "metadata": {},
   "outputs": [
    {
     "data": {
      "text/plain": [
       "array([ 1,  2,  3,  4,  5,  6,  7,  8,  9, 10, 11, 12, 13, 14, 15, 16, 17,\n",
       "       18, 19, 20, 21, 22, 23, 24, 25, 26, 27, 28, 29, 30, 31],\n",
       "      dtype=int64)"
      ]
     },
     "execution_count": 9,
     "metadata": {},
     "output_type": "execute_result"
    }
   ],
   "source": [
    "df_train['day'].sort_values(ascending= True).unique()"
   ]
  },
  {
   "cell_type": "code",
   "execution_count": null,
   "id": "33457970",
   "metadata": {},
   "outputs": [],
   "source": []
  },
  {
   "cell_type": "code",
   "execution_count": 10,
   "id": "02b44c28",
   "metadata": {},
   "outputs": [
    {
     "data": {
      "image/png": "[encoded data removed]",
      "text/plain": [
       "<Figure size 360x360 with 1 Axes>"
      ]
     },
     "metadata": {
      "needs_background": "light"
     },
     "output_type": "display_data"
    },
    {
     "name": "stdout",
     "output_type": "stream",
     "text": [
      "-1      32715\n",
      " 182      138\n",
      " 92       128\n",
      " 183      113\n",
      " 91       108\n",
      " 181      103\n",
      " 370       86\n",
      " 184       74\n",
      " 364       71\n",
      " 350       67\n",
      "Name: pdays, dtype: int64\n"
     ]
    }
   ],
   "source": [
    "sns.displot(x=\"pdays\", data = df_train)\n",
    "plt.title(\"Job vs Count\")\n",
    "plt.xticks(rotation=90)\n",
    "plt.show()\n",
    "print(df_train.pdays.value_counts().sort_values(ascending= False).head(10))"
   ]
  },
  {
   "cell_type": "markdown",
   "id": "869c82cb",
   "metadata": {},
   "source": [
    "###### Aparentemente gran parte de los clientes fueron por eso haremos una transformacion a los valores -1 a 999."
   ]
  },
  {
   "cell_type": "code",
   "execution_count": 11,
   "id": "eb3a075b",
   "metadata": {},
   "outputs": [],
   "source": [
    "# remplazamos el valor -1 por 999\n",
    "df_train.loc[(df_train.pdays == -1),\"pdays\"] = 999"
   ]
  },
  {
   "cell_type": "code",
   "execution_count": 12,
   "id": "267a4bb0",
   "metadata": {},
   "outputs": [
    {
     "data": {
      "text/plain": [
       "no     35347\n",
       "yes     4653\n",
       "Name: y, dtype: int64"
      ]
     },
     "execution_count": 12,
     "metadata": {},
     "output_type": "execute_result"
    }
   ],
   "source": [
    "df_train.y.value_counts()"
   ]
  },
  {
   "cell_type": "code",
   "execution_count": 13,
   "id": "29b41b1d",
   "metadata": {},
   "outputs": [
    {
     "data": {
      "text/plain": [
       "blue-collar      8563\n",
       "management       8383\n",
       "technician       6776\n",
       "admin.           4601\n",
       "services         3674\n",
       "retired          1985\n",
       "self-employed    1387\n",
       "entrepreneur     1326\n",
       "unemployed       1128\n",
       "housemaid        1088\n",
       "student           831\n",
       "unknown           258\n",
       "Name: job, dtype: int64"
      ]
     },
     "execution_count": 13,
     "metadata": {},
     "output_type": "execute_result"
    }
   ],
   "source": [
    "df_train.job.value_counts()"
   ]
  },
  {
   "cell_type": "code",
   "execution_count": 14,
   "id": "252e5dbb",
   "metadata": {},
   "outputs": [
    {
     "data": {
      "text/plain": [
       "cellular     25915\n",
       "unknown      11528\n",
       "telephone     2557\n",
       "Name: contact, dtype: int64"
      ]
     },
     "execution_count": 14,
     "metadata": {},
     "output_type": "execute_result"
    }
   ],
   "source": [
    "df_train.contact.value_counts()"
   ]
  },
  {
   "cell_type": "code",
   "execution_count": 15,
   "id": "8c56a6fd",
   "metadata": {},
   "outputs": [
    {
     "data": {
      "text/plain": [
       "no     0.883675\n",
       "yes    0.116325\n",
       "Name: y, dtype: float64"
      ]
     },
     "execution_count": 15,
     "metadata": {},
     "output_type": "execute_result"
    }
   ],
   "source": [
    "df_train.y.value_counts()/df_train.shape[0]"
   ]
  },
  {
   "cell_type": "markdown",
   "id": "a2d07899",
   "metadata": {},
   "source": [
    "###### Poutcome es una variable con muchos datos faltantes por que la quitaremos"
   ]
  },
  {
   "cell_type": "code",
   "execution_count": 16,
   "id": "6c0dbc44",
   "metadata": {},
   "outputs": [
    {
     "data": {
      "text/plain": [
       "unknown    32720\n",
       "failure     4350\n",
       "other       1610\n",
       "success     1320\n",
       "Name: poutcome, dtype: int64"
      ]
     },
     "execution_count": 16,
     "metadata": {},
     "output_type": "execute_result"
    }
   ],
   "source": [
    "df_train.poutcome.value_counts()"
   ]
  },
  {
   "cell_type": "code",
   "execution_count": 17,
   "id": "4469912a",
   "metadata": {},
   "outputs": [],
   "source": [
    "df_train.drop('poutcome', axis = 1, inplace = True)"
   ]
  },
  {
   "cell_type": "code",
   "execution_count": 18,
   "id": "4d5e1968",
   "metadata": {},
   "outputs": [
    {
     "data": {
      "text/plain": [
       "cellular     25915\n",
       "unknown      11528\n",
       "telephone     2557\n",
       "Name: contact, dtype: int64"
      ]
     },
     "execution_count": 18,
     "metadata": {},
     "output_type": "execute_result"
    }
   ],
   "source": [
    "df_train.contact.value_counts()"
   ]
  },
  {
   "cell_type": "markdown",
   "id": "d0b96c00",
   "metadata": {},
   "source": [
    "    Aca es necesario imputar algunos valores."
   ]
  },
  {
   "cell_type": "code",
   "execution_count": 19,
   "id": "b2c20932",
   "metadata": {},
   "outputs": [
    {
     "data": {
      "text/plain": [
       "married     24017\n",
       "single      11364\n",
       "divorced     4619\n",
       "Name: marital, dtype: int64"
      ]
     },
     "execution_count": 19,
     "metadata": {},
     "output_type": "execute_result"
    }
   ],
   "source": [
    "df_train.marital.value_counts()"
   ]
  },
  {
   "cell_type": "code",
   "execution_count": 20,
   "id": "8eaccc7b",
   "metadata": {},
   "outputs": [
    {
     "data": {
      "text/plain": [
       "array([ 1,  2,  3,  4,  5,  6,  7,  8,  9, 10, 11, 12, 13, 14, 15, 16, 17,\n",
       "       18, 19, 20, 21, 22, 23, 24, 25, 26, 27, 28, 29, 30, 31, 32, 33, 34,\n",
       "       35, 36, 37, 38, 39, 41, 43, 44, 46, 50, 51, 55, 58, 63],\n",
       "      dtype=int64)"
      ]
     },
     "execution_count": 20,
     "metadata": {},
     "output_type": "execute_result"
    }
   ],
   "source": [
    "df_train['campaign'].sort_values(ascending= True).unique()"
   ]
  },
  {
   "cell_type": "markdown",
   "id": "69a2a86e",
   "metadata": {},
   "source": [
    "### Relacion entre la edad y producto (depósito a plazo bancario) "
   ]
  },
  {
   "cell_type": "code",
   "execution_count": 21,
   "id": "8cb7261c",
   "metadata": {},
   "outputs": [
    {
     "name": "stderr",
     "output_type": "stream",
     "text": [
      "C:\\Users\\leogo\\anaconda3\\lib\\site-packages\\seaborn\\distributions.py:2619: FutureWarning: `distplot` is a deprecated function and will be removed in a future version. Please adapt your code to use either `displot` (a figure-level function with similar flexibility) or `histplot` (an axes-level function for histograms).\n",
      "  warnings.warn(msg, FutureWarning)\n",
      "C:\\Users\\leogo\\anaconda3\\lib\\site-packages\\seaborn\\distributions.py:2619: FutureWarning: `distplot` is a deprecated function and will be removed in a future version. Please adapt your code to use either `displot` (a figure-level function with similar flexibility) or `histplot` (an axes-level function for histograms).\n",
      "  warnings.warn(msg, FutureWarning)\n",
      "C:\\Users\\leogo\\anaconda3\\lib\\site-packages\\seaborn\\distributions.py:2619: FutureWarning: `distplot` is a deprecated function and will be removed in a future version. Please adapt your code to use either `displot` (a figure-level function with similar flexibility) or `histplot` (an axes-level function for histograms).\n",
      "  warnings.warn(msg, FutureWarning)\n",
      "C:\\Users\\leogo\\anaconda3\\lib\\site-packages\\seaborn\\distributions.py:2619: FutureWarning: `distplot` is a deprecated function and will be removed in a future version. Please adapt your code to use either `displot` (a figure-level function with similar flexibility) or `histplot` (an axes-level function for histograms).\n",
      "  warnings.warn(msg, FutureWarning)\n"
     ]
    },
    {
     "data": {
      "image/png": "[encoded data removed]",
      "text/plain": [
       "<Figure size 720x216 with 1 Axes>"
      ]
     },
     "metadata": {
      "needs_background": "light"
     },
     "output_type": "display_data"
    },
    {
     "data": {
      "image/png": "[encoded data removed]",
      "text/plain": [
       "<Figure size 720x216 with 1 Axes>"
      ]
     },
     "metadata": {
      "needs_background": "light"
     },
     "output_type": "display_data"
    }
   ],
   "source": [
    "plt.figure(figsize = (10,3))\n",
    "sns.distplot(df_train.loc[df_train.y == 'no', 'age'], label = \"no\", hist = True, color='red')\n",
    "sns.distplot(df_train.loc[df_train.y == 'yes', 'age'], label = \"yes\", hist = True)\n",
    "plt.title(\"distribucion Edad vs Subscription\")\n",
    "\n",
    "plt.figure(figsize = (10,3))\n",
    "sns.distplot(df_train.loc[df_train.y == 'no', 'day'], label = \"no\", hist = True, color='red')\n",
    "sns.distplot(df_train.loc[df_train.y == 'yes', 'day'], label = \"yes\", hist = True)\n",
    "plt.title(\"distribucion pdays vs Subscription\")\n",
    "plt.show()\n"
   ]
  },
  {
   "cell_type": "markdown",
   "id": "73bdf1af",
   "metadata": {},
   "source": [
    "    Podemos observar que las personas entre 20 y 60 años son mas propicios a contratar el producto con un pic cerca a los 30 años donde, asi mismo podemos observar que los clientes aceptan el producto con mayor proporcion antes de los 15 primeros dias del mes, reduciendo en la medida que concluye el mes."
   ]
  },
  {
   "cell_type": "code",
   "execution_count": 22,
   "id": "6d38692f",
   "metadata": {},
   "outputs": [
    {
     "data": {
      "text/plain": [
       "Text(0.5, 1.0, 'Age Distribution by Job, Divided by Subscription (0) for Not Subscribed, (1) for Subscribed')"
      ]
     },
     "execution_count": 22,
     "metadata": {},
     "output_type": "execute_result"
    },
    {
     "data": {
      "image/png": "[encoded data removed]",
      "text/plain": [
       "<Figure size 1080x360 with 1 Axes>"
      ]
     },
     "metadata": {
      "needs_background": "light"
     },
     "output_type": "display_data"
    }
   ],
   "source": [
    "plt.figure( figsize = (15, 5))\n",
    "sns.violinplot(x = 'job', y = 'age', hue = 'y', data = df_train, split = True)\n",
    "plt.xlabel(\"Job\", fontsize = 14)\n",
    "plt.ylabel(\"Age\", fontsize = 14)\n",
    "plt.xticks(rotation=90)\n",
    "plt.title(\"Age Distribution by Job, Divided by Subscription (0) for Not Subscribed, (1) for Subscribed\", fontsize = 15)"
   ]
  },
  {
   "cell_type": "markdown",
   "id": "38a5a0c7",
   "metadata": {},
   "source": [
    "Es relevante mencionar que las personas entre 30 y 50 años son mas propicios a contratar el productos sobre todo en aquellos que se han retirado. Esto puede estar relacionados a las expectativas relacionadas con la mayoria de edad y cercania con la jubilacion. Tambien es interesante la relacion con las dueñas de casa, quienes tienden a tomar el productos cuando se acercan a los 40 años."
   ]
  },
  {
   "cell_type": "markdown",
   "id": "a4320b27",
   "metadata": {},
   "source": [
    "# Preproceso de datos Ecoding Test Train"
   ]
  },
  {
   "cell_type": "markdown",
   "id": "7f6666cd",
   "metadata": {},
   "source": [
    "### Copias de los datos."
   ]
  },
  {
   "cell_type": "code",
   "execution_count": 23,
   "id": "14646774",
   "metadata": {
    "scrolled": true
   },
   "outputs": [],
   "source": [
    "# Datos sin balanceo\n",
    "df_prep = df_train.copy()\n",
    "df_train_oh = df_train.copy()"
   ]
  },
  {
   "cell_type": "markdown",
   "id": "f47b0289",
   "metadata": {},
   "source": [
    "# Valores ausentes o no registrados"
   ]
  },
  {
   "cell_type": "markdown",
   "id": "13aed5ed",
   "metadata": {},
   "source": [
    "### Educacion vs Trabajo\n",
    "\n",
    "        Suponemos que para cierto nivel de trabajo calificado es necesario un grado mayor de educacion, por tanto podemos inferir el nivel educacion en funcion del tipo de trabajo que realiza."
   ]
  },
  {
   "cell_type": "code",
   "execution_count": 24,
   "id": "ec548160",
   "metadata": {},
   "outputs": [],
   "source": [
    "df_train_oh.loc[(df_train_oh.education == \"unknown\") & (df_train_oh.job == \"admin.\"),\"education\"] = \"secondary\"\n",
    "df_train_oh.loc[(df_train_oh.education == \"unknown\") & (df_train_oh.job == \"management\"),\"education\"] = \"secondary\"\n",
    "df_train_oh.loc[(df_train_oh.education == \"unknown\") & (df_train_oh.job == \"services\"),\"education\"] = \"tertiary\"\n",
    "df_train_oh.loc[(df_train_oh.education == \"unknown\") & (df_train_oh.job == \"technician.\"),\"education\"] = \"secondary\"\n",
    "df_train_oh.loc[(df_train_oh.education == \"unknown\") & (df_train_oh.job == \"retired\"),\"education\"] = \"secondary\"\n",
    "df_train_oh.loc[(df_train_oh.education == \"unknown\") & (df_train_oh.job == \"blue-collar\"),\"education\"] = \"secondary\"\n",
    "df_train_oh.loc[(df_train_oh.education == \"unknown\") & (df_train_oh.job == \"housemaid.\"),\"education\"] = \"primary\"\n",
    "df_train_oh.loc[(df_train_oh.education == \"unknown\") & (df_train_oh.job == \"self-employed\"),\"education\"] = \"tertiary\"\n",
    "df_train_oh.loc[(df_train_oh.education == \"unknown\") & (df_train_oh.job == \"student\"),\"education\"] = \"secondary\"\n",
    "df_train_oh.loc[(df_train_oh.education == \"unknown\") & (df_train_oh.job == \"entrepreneur\"),\"education\"] = \"tertiary\"\n",
    "df_train_oh.loc[(df_train_oh.education == \"unknown\") & (df_train_oh.job == \"unemployed\"),\"education\"] = \"secondary\"\n",
    "#REST CAN BE SECONDARY\n",
    "df_train_oh.loc[(df_train_oh.education == \"unknown\"),\"education\"] = \"secondary\""
   ]
  },
  {
   "cell_type": "code",
   "execution_count": 25,
   "id": "448346b9",
   "metadata": {
    "scrolled": false
   },
   "outputs": [
    {
     "data": {
      "text/plain": [
       "array(['tertiary', 'secondary', 'primary'], dtype=object)"
      ]
     },
     "execution_count": 25,
     "metadata": {},
     "output_type": "execute_result"
    }
   ],
   "source": [
    "df_train_oh['education'].unique()"
   ]
  },
  {
   "cell_type": "markdown",
   "id": "e972f5e6",
   "metadata": {},
   "source": [
    "#### Contacto  y Trabajo seran remplazados por la moda en el caso de los ausentes"
   ]
  },
  {
   "cell_type": "code",
   "execution_count": 26,
   "id": "d96c7d0d",
   "metadata": {},
   "outputs": [],
   "source": [
    "df_train_oh[\"contact\"].replace([\"unknown\"],df_train_oh[\"contact\"].mode(),inplace = True) \n",
    "df_train_oh[\"job\"].replace([\"unknown\"],df_train_oh[\"job\"].mode(),inplace = True) "
   ]
  },
  {
   "cell_type": "code",
   "execution_count": 27,
   "id": "f5147df3",
   "metadata": {
    "scrolled": false
   },
   "outputs": [
    {
     "data": {
      "text/plain": [
       "(array(['management', 'admin.', 'blue-collar', 'technician',\n",
       "        'self-employed', 'housemaid', 'services', 'unemployed', 'retired',\n",
       "        'student', 'entrepreneur'], dtype=object),\n",
       " array(['cellular', 'telephone'], dtype=object))"
      ]
     },
     "execution_count": 27,
     "metadata": {},
     "output_type": "execute_result"
    }
   ],
   "source": [
    "df_train_oh['job'].unique(), df_train_oh['contact'].unique()"
   ]
  },
  {
   "cell_type": "markdown",
   "id": "573b9fc8",
   "metadata": {},
   "source": [
    "# Encoding de datos Train"
   ]
  },
  {
   "cell_type": "markdown",
   "id": "b3f3d053",
   "metadata": {},
   "source": [
    "### Categorizacion y Dummies"
   ]
  },
  {
   "cell_type": "code",
   "execution_count": 28,
   "id": "9c58b8c3",
   "metadata": {
    "scrolled": true
   },
   "outputs": [
    {
     "data": {
      "text/html": [
       "<div>\n",
       "<style scoped>\n",
       "    .dataframe tbody tr th:only-of-type {\n",
       "        vertical-align: middle;\n",
       "    }\n",
       "\n",
       "    .dataframe tbody tr th {\n",
       "        vertical-align: top;\n",
       "    }\n",
       "\n",
       "    .dataframe thead th {\n",
       "        text-align: right;\n",
       "    }\n",
       "</style>\n",
       "<table border=\"1\" class=\"dataframe\">\n",
       "  <thead>\n",
       "    <tr style=\"text-align: right;\">\n",
       "      <th></th>\n",
       "      <th>age</th>\n",
       "      <th>job</th>\n",
       "      <th>marital</th>\n",
       "      <th>education</th>\n",
       "      <th>default</th>\n",
       "      <th>balance</th>\n",
       "      <th>housing</th>\n",
       "      <th>loan</th>\n",
       "      <th>contact</th>\n",
       "      <th>day</th>\n",
       "      <th>month</th>\n",
       "      <th>campaign</th>\n",
       "      <th>pdays</th>\n",
       "      <th>previous</th>\n",
       "      <th>y</th>\n",
       "    </tr>\n",
       "  </thead>\n",
       "  <tbody>\n",
       "    <tr>\n",
       "      <th>0</th>\n",
       "      <td>46</td>\n",
       "      <td>management</td>\n",
       "      <td>single</td>\n",
       "      <td>tertiary</td>\n",
       "      <td>no</td>\n",
       "      <td>593</td>\n",
       "      <td>yes</td>\n",
       "      <td>no</td>\n",
       "      <td>cellular</td>\n",
       "      <td>29</td>\n",
       "      <td>jan</td>\n",
       "      <td>3</td>\n",
       "      <td>999</td>\n",
       "      <td>0</td>\n",
       "      <td>no</td>\n",
       "    </tr>\n",
       "    <tr>\n",
       "      <th>1</th>\n",
       "      <td>42</td>\n",
       "      <td>admin.</td>\n",
       "      <td>married</td>\n",
       "      <td>tertiary</td>\n",
       "      <td>no</td>\n",
       "      <td>1536</td>\n",
       "      <td>no</td>\n",
       "      <td>no</td>\n",
       "      <td>cellular</td>\n",
       "      <td>6</td>\n",
       "      <td>aug</td>\n",
       "      <td>1</td>\n",
       "      <td>182</td>\n",
       "      <td>4</td>\n",
       "      <td>no</td>\n",
       "    </tr>\n",
       "    <tr>\n",
       "      <th>2</th>\n",
       "      <td>33</td>\n",
       "      <td>blue-collar</td>\n",
       "      <td>married</td>\n",
       "      <td>secondary</td>\n",
       "      <td>no</td>\n",
       "      <td>370</td>\n",
       "      <td>yes</td>\n",
       "      <td>no</td>\n",
       "      <td>cellular</td>\n",
       "      <td>8</td>\n",
       "      <td>apr</td>\n",
       "      <td>1</td>\n",
       "      <td>999</td>\n",
       "      <td>0</td>\n",
       "      <td>no</td>\n",
       "    </tr>\n",
       "    <tr>\n",
       "      <th>3</th>\n",
       "      <td>29</td>\n",
       "      <td>blue-collar</td>\n",
       "      <td>single</td>\n",
       "      <td>secondary</td>\n",
       "      <td>no</td>\n",
       "      <td>1472</td>\n",
       "      <td>no</td>\n",
       "      <td>no</td>\n",
       "      <td>cellular</td>\n",
       "      <td>18</td>\n",
       "      <td>may</td>\n",
       "      <td>2</td>\n",
       "      <td>999</td>\n",
       "      <td>0</td>\n",
       "      <td>no</td>\n",
       "    </tr>\n",
       "    <tr>\n",
       "      <th>4</th>\n",
       "      <td>29</td>\n",
       "      <td>technician</td>\n",
       "      <td>married</td>\n",
       "      <td>secondary</td>\n",
       "      <td>no</td>\n",
       "      <td>767</td>\n",
       "      <td>yes</td>\n",
       "      <td>no</td>\n",
       "      <td>cellular</td>\n",
       "      <td>5</td>\n",
       "      <td>feb</td>\n",
       "      <td>1</td>\n",
       "      <td>999</td>\n",
       "      <td>0</td>\n",
       "      <td>no</td>\n",
       "    </tr>\n",
       "  </tbody>\n",
       "</table>\n",
       "</div>"
      ],
      "text/plain": [
       "   age          job  marital  education default  balance housing loan  \\\n",
       "0   46   management   single   tertiary      no      593     yes   no   \n",
       "1   42       admin.  married   tertiary      no     1536      no   no   \n",
       "2   33  blue-collar  married  secondary      no      370     yes   no   \n",
       "3   29  blue-collar   single  secondary      no     1472      no   no   \n",
       "4   29   technician  married  secondary      no      767     yes   no   \n",
       "\n",
       "    contact  day month  campaign  pdays  previous   y  \n",
       "0  cellular   29   jan         3    999         0  no  \n",
       "1  cellular    6   aug         1    182         4  no  \n",
       "2  cellular    8   apr         1    999         0  no  \n",
       "3  cellular   18   may         2    999         0  no  \n",
       "4  cellular    5   feb         1    999         0  no  "
      ]
     },
     "execution_count": 28,
     "metadata": {},
     "output_type": "execute_result"
    }
   ],
   "source": [
    "df_train_oh.head()"
   ]
  },
  {
   "cell_type": "code",
   "execution_count": 29,
   "id": "d799b3b2",
   "metadata": {},
   "outputs": [],
   "source": [
    "# Clasificaion de bariables categoricas\n",
    "df_train_oh['education'].replace(['tertiary', 'secondary', 'primary'],[2,1,0],inplace=True)\n",
    "df_train_oh['contact'].replace(['cellular','telephone'],[1,0],inplace=True) #las personas poco usar el telefono fijo\n",
    "df_train_oh['default'].replace(['yes','no'],[1,0],inplace=True)\n",
    "df_train_oh['housing'].replace(['yes','no'],[1,0],inplace=True)\n",
    "df_train_oh['loan'].replace(['yes','no'],[1,0],inplace=True)\n",
    "df_train_oh['y'].replace(['yes','no'],[1,0],inplace=True)\n",
    "df_train_oh['month'].replace(['jan','feb','mar','apr','may','jun','jul','aug' , 'sep','oct','nov','dec'],\n",
    "                         [1,2,3,4,5,6,7,8,9,10,11,12],inplace=True)\n",
    "\n",
    "#CATEGORICAS ['job','marital','education','contact','month','poutcome']\n",
    "#NUMERICAS ['age','balance','day','campaign','pdays','previous']\n",
    "#BINARIAS  ['default','housing','loan','y']  "
   ]
  },
  {
   "cell_type": "code",
   "execution_count": 30,
   "id": "82cf0195",
   "metadata": {},
   "outputs": [],
   "source": [
    "df_train_oh = df_dummies = pd.get_dummies(df_train_oh,columns = ['job','marital'],\n",
    "               drop_first = True)"
   ]
  },
  {
   "cell_type": "code",
   "execution_count": 31,
   "id": "df8c1e6c",
   "metadata": {
    "scrolled": false
   },
   "outputs": [
    {
     "data": {
      "text/html": [
       "<div>\n",
       "<style scoped>\n",
       "    .dataframe tbody tr th:only-of-type {\n",
       "        vertical-align: middle;\n",
       "    }\n",
       "\n",
       "    .dataframe tbody tr th {\n",
       "        vertical-align: top;\n",
       "    }\n",
       "\n",
       "    .dataframe thead th {\n",
       "        text-align: right;\n",
       "    }\n",
       "</style>\n",
       "<table border=\"1\" class=\"dataframe\">\n",
       "  <thead>\n",
       "    <tr style=\"text-align: right;\">\n",
       "      <th></th>\n",
       "      <th>age</th>\n",
       "      <th>education</th>\n",
       "      <th>default</th>\n",
       "      <th>balance</th>\n",
       "      <th>housing</th>\n",
       "      <th>loan</th>\n",
       "      <th>contact</th>\n",
       "      <th>day</th>\n",
       "      <th>month</th>\n",
       "      <th>campaign</th>\n",
       "      <th>...</th>\n",
       "      <th>job_housemaid</th>\n",
       "      <th>job_management</th>\n",
       "      <th>job_retired</th>\n",
       "      <th>job_self-employed</th>\n",
       "      <th>job_services</th>\n",
       "      <th>job_student</th>\n",
       "      <th>job_technician</th>\n",
       "      <th>job_unemployed</th>\n",
       "      <th>marital_married</th>\n",
       "      <th>marital_single</th>\n",
       "    </tr>\n",
       "  </thead>\n",
       "  <tbody>\n",
       "    <tr>\n",
       "      <th>0</th>\n",
       "      <td>46</td>\n",
       "      <td>2</td>\n",
       "      <td>0</td>\n",
       "      <td>593</td>\n",
       "      <td>1</td>\n",
       "      <td>0</td>\n",
       "      <td>1</td>\n",
       "      <td>29</td>\n",
       "      <td>1</td>\n",
       "      <td>3</td>\n",
       "      <td>...</td>\n",
       "      <td>0</td>\n",
       "      <td>1</td>\n",
       "      <td>0</td>\n",
       "      <td>0</td>\n",
       "      <td>0</td>\n",
       "      <td>0</td>\n",
       "      <td>0</td>\n",
       "      <td>0</td>\n",
       "      <td>0</td>\n",
       "      <td>1</td>\n",
       "    </tr>\n",
       "    <tr>\n",
       "      <th>1</th>\n",
       "      <td>42</td>\n",
       "      <td>2</td>\n",
       "      <td>0</td>\n",
       "      <td>1536</td>\n",
       "      <td>0</td>\n",
       "      <td>0</td>\n",
       "      <td>1</td>\n",
       "      <td>6</td>\n",
       "      <td>8</td>\n",
       "      <td>1</td>\n",
       "      <td>...</td>\n",
       "      <td>0</td>\n",
       "      <td>0</td>\n",
       "      <td>0</td>\n",
       "      <td>0</td>\n",
       "      <td>0</td>\n",
       "      <td>0</td>\n",
       "      <td>0</td>\n",
       "      <td>0</td>\n",
       "      <td>1</td>\n",
       "      <td>0</td>\n",
       "    </tr>\n",
       "    <tr>\n",
       "      <th>2</th>\n",
       "      <td>33</td>\n",
       "      <td>1</td>\n",
       "      <td>0</td>\n",
       "      <td>370</td>\n",
       "      <td>1</td>\n",
       "      <td>0</td>\n",
       "      <td>1</td>\n",
       "      <td>8</td>\n",
       "      <td>4</td>\n",
       "      <td>1</td>\n",
       "      <td>...</td>\n",
       "      <td>0</td>\n",
       "      <td>0</td>\n",
       "      <td>0</td>\n",
       "      <td>0</td>\n",
       "      <td>0</td>\n",
       "      <td>0</td>\n",
       "      <td>0</td>\n",
       "      <td>0</td>\n",
       "      <td>1</td>\n",
       "      <td>0</td>\n",
       "    </tr>\n",
       "    <tr>\n",
       "      <th>3</th>\n",
       "      <td>29</td>\n",
       "      <td>1</td>\n",
       "      <td>0</td>\n",
       "      <td>1472</td>\n",
       "      <td>0</td>\n",
       "      <td>0</td>\n",
       "      <td>1</td>\n",
       "      <td>18</td>\n",
       "      <td>5</td>\n",
       "      <td>2</td>\n",
       "      <td>...</td>\n",
       "      <td>0</td>\n",
       "      <td>0</td>\n",
       "      <td>0</td>\n",
       "      <td>0</td>\n",
       "      <td>0</td>\n",
       "      <td>0</td>\n",
       "      <td>0</td>\n",
       "      <td>0</td>\n",
       "      <td>0</td>\n",
       "      <td>1</td>\n",
       "    </tr>\n",
       "    <tr>\n",
       "      <th>4</th>\n",
       "      <td>29</td>\n",
       "      <td>1</td>\n",
       "      <td>0</td>\n",
       "      <td>767</td>\n",
       "      <td>1</td>\n",
       "      <td>0</td>\n",
       "      <td>1</td>\n",
       "      <td>5</td>\n",
       "      <td>2</td>\n",
       "      <td>1</td>\n",
       "      <td>...</td>\n",
       "      <td>0</td>\n",
       "      <td>0</td>\n",
       "      <td>0</td>\n",
       "      <td>0</td>\n",
       "      <td>0</td>\n",
       "      <td>0</td>\n",
       "      <td>1</td>\n",
       "      <td>0</td>\n",
       "      <td>1</td>\n",
       "      <td>0</td>\n",
       "    </tr>\n",
       "  </tbody>\n",
       "</table>\n",
       "<p>5 rows × 25 columns</p>\n",
       "</div>"
      ],
      "text/plain": [
       "   age  education  default  balance  housing  loan  contact  day  month  \\\n",
       "0   46          2        0      593        1     0        1   29      1   \n",
       "1   42          2        0     1536        0     0        1    6      8   \n",
       "2   33          1        0      370        1     0        1    8      4   \n",
       "3   29          1        0     1472        0     0        1   18      5   \n",
       "4   29          1        0      767        1     0        1    5      2   \n",
       "\n",
       "   campaign  ...  job_housemaid  job_management  job_retired  \\\n",
       "0         3  ...              0               1            0   \n",
       "1         1  ...              0               0            0   \n",
       "2         1  ...              0               0            0   \n",
       "3         2  ...              0               0            0   \n",
       "4         1  ...              0               0            0   \n",
       "\n",
       "   job_self-employed  job_services  job_student  job_technician  \\\n",
       "0                  0             0            0               0   \n",
       "1                  0             0            0               0   \n",
       "2                  0             0            0               0   \n",
       "3                  0             0            0               0   \n",
       "4                  0             0            0               1   \n",
       "\n",
       "   job_unemployed  marital_married  marital_single  \n",
       "0               0                0               1  \n",
       "1               0                1               0  \n",
       "2               0                1               0  \n",
       "3               0                0               1  \n",
       "4               0                1               0  \n",
       "\n",
       "[5 rows x 25 columns]"
      ]
     },
     "execution_count": 31,
     "metadata": {},
     "output_type": "execute_result"
    }
   ],
   "source": [
    "df_train_oh.head()"
   ]
  },
  {
   "cell_type": "markdown",
   "id": "1ab39226",
   "metadata": {},
   "source": [
    "### Dias meses o pdays\n",
    "\n",
    "    En relacion a las variables de tiempo, podriamos elimar el mes y el dia considerando que tenemos la variables pdays que mide el tiempo del ultimo contacto, sin embargo esto no seria propicio considerando mayormente los valores de pdays son sin contacto previo."
   ]
  },
  {
   "cell_type": "code",
   "execution_count": 32,
   "id": "add96fb5",
   "metadata": {
    "scrolled": false
   },
   "outputs": [
    {
     "name": "stderr",
     "output_type": "stream",
     "text": [
      "C:\\Users\\leogo\\anaconda3\\lib\\site-packages\\seaborn\\distributions.py:2619: FutureWarning: `distplot` is a deprecated function and will be removed in a future version. Please adapt your code to use either `displot` (a figure-level function with similar flexibility) or `kdeplot` (an axes-level function for kernel density plots).\n",
      "  warnings.warn(msg, FutureWarning)\n",
      "C:\\Users\\leogo\\anaconda3\\lib\\site-packages\\seaborn\\distributions.py:2619: FutureWarning: `distplot` is a deprecated function and will be removed in a future version. Please adapt your code to use either `displot` (a figure-level function with similar flexibility) or `kdeplot` (an axes-level function for kernel density plots).\n",
      "  warnings.warn(msg, FutureWarning)\n"
     ]
    },
    {
     "data": {
      "image/png": "[encoded data removed]",
      "text/plain": [
       "<Figure size 720x216 with 1 Axes>"
      ]
     },
     "metadata": {
      "needs_background": "light"
     },
     "output_type": "display_data"
    }
   ],
   "source": [
    "plt.figure(figsize = (10,3))\n",
    "sns.distplot(df_train_oh.loc[df_train_oh.y == 0, 'month'], label = 0, hist = False, color='red')\n",
    "sns.distplot(df_train_oh.loc[df_train_oh.y == 1, 'month'], label = 1, hist = False)\n",
    "plt.title(\"distribucion pdays vs Subscription\")\n",
    "plt.show()"
   ]
  },
  {
   "cell_type": "markdown",
   "id": "b4a2d774",
   "metadata": {},
   "source": [
    "    Ademas los clientes tiene un compartemineto mas normal en la contratcion del producto que aquellos que no lo tiene. Es decir inicion y fines de año no parecen ser momentos propicios de contratacion."
   ]
  },
  {
   "cell_type": "markdown",
   "id": "62cdf4d2",
   "metadata": {},
   "source": [
    "## Normalizacion Manual Train"
   ]
  },
  {
   "cell_type": "code",
   "execution_count": 33,
   "id": "3b5a14fe",
   "metadata": {
    "scrolled": false
   },
   "outputs": [
    {
     "data": {
      "text/html": [
       "<div>\n",
       "<style scoped>\n",
       "    .dataframe tbody tr th:only-of-type {\n",
       "        vertical-align: middle;\n",
       "    }\n",
       "\n",
       "    .dataframe tbody tr th {\n",
       "        vertical-align: top;\n",
       "    }\n",
       "\n",
       "    .dataframe thead th {\n",
       "        text-align: right;\n",
       "    }\n",
       "</style>\n",
       "<table border=\"1\" class=\"dataframe\">\n",
       "  <thead>\n",
       "    <tr style=\"text-align: right;\">\n",
       "      <th></th>\n",
       "      <th>age</th>\n",
       "      <th>balance</th>\n",
       "      <th>campaign</th>\n",
       "      <th>pdays</th>\n",
       "      <th>previous</th>\n",
       "      <th>education</th>\n",
       "      <th>default</th>\n",
       "      <th>housing</th>\n",
       "      <th>loan</th>\n",
       "      <th>contact</th>\n",
       "      <th>...</th>\n",
       "      <th>job_housemaid</th>\n",
       "      <th>job_management</th>\n",
       "      <th>job_retired</th>\n",
       "      <th>job_self-employed</th>\n",
       "      <th>job_services</th>\n",
       "      <th>job_student</th>\n",
       "      <th>job_technician</th>\n",
       "      <th>job_unemployed</th>\n",
       "      <th>marital_married</th>\n",
       "      <th>marital_single</th>\n",
       "    </tr>\n",
       "  </thead>\n",
       "  <tbody>\n",
       "    <tr>\n",
       "      <th>0</th>\n",
       "      <td>0.363636</td>\n",
       "      <td>0.078187</td>\n",
       "      <td>0.032258</td>\n",
       "      <td>1.000000</td>\n",
       "      <td>0.000000</td>\n",
       "      <td>2</td>\n",
       "      <td>0</td>\n",
       "      <td>1</td>\n",
       "      <td>0</td>\n",
       "      <td>1</td>\n",
       "      <td>...</td>\n",
       "      <td>0</td>\n",
       "      <td>1</td>\n",
       "      <td>0</td>\n",
       "      <td>0</td>\n",
       "      <td>0</td>\n",
       "      <td>0</td>\n",
       "      <td>0</td>\n",
       "      <td>0</td>\n",
       "      <td>0</td>\n",
       "      <td>1</td>\n",
       "    </tr>\n",
       "    <tr>\n",
       "      <th>1</th>\n",
       "      <td>0.311688</td>\n",
       "      <td>0.086748</td>\n",
       "      <td>0.000000</td>\n",
       "      <td>0.181363</td>\n",
       "      <td>0.014545</td>\n",
       "      <td>2</td>\n",
       "      <td>0</td>\n",
       "      <td>0</td>\n",
       "      <td>0</td>\n",
       "      <td>1</td>\n",
       "      <td>...</td>\n",
       "      <td>0</td>\n",
       "      <td>0</td>\n",
       "      <td>0</td>\n",
       "      <td>0</td>\n",
       "      <td>0</td>\n",
       "      <td>0</td>\n",
       "      <td>0</td>\n",
       "      <td>0</td>\n",
       "      <td>1</td>\n",
       "      <td>0</td>\n",
       "    </tr>\n",
       "    <tr>\n",
       "      <th>2</th>\n",
       "      <td>0.194805</td>\n",
       "      <td>0.076163</td>\n",
       "      <td>0.000000</td>\n",
       "      <td>1.000000</td>\n",
       "      <td>0.000000</td>\n",
       "      <td>1</td>\n",
       "      <td>0</td>\n",
       "      <td>1</td>\n",
       "      <td>0</td>\n",
       "      <td>1</td>\n",
       "      <td>...</td>\n",
       "      <td>0</td>\n",
       "      <td>0</td>\n",
       "      <td>0</td>\n",
       "      <td>0</td>\n",
       "      <td>0</td>\n",
       "      <td>0</td>\n",
       "      <td>0</td>\n",
       "      <td>0</td>\n",
       "      <td>1</td>\n",
       "      <td>0</td>\n",
       "    </tr>\n",
       "    <tr>\n",
       "      <th>3</th>\n",
       "      <td>0.142857</td>\n",
       "      <td>0.086167</td>\n",
       "      <td>0.016129</td>\n",
       "      <td>1.000000</td>\n",
       "      <td>0.000000</td>\n",
       "      <td>1</td>\n",
       "      <td>0</td>\n",
       "      <td>0</td>\n",
       "      <td>0</td>\n",
       "      <td>1</td>\n",
       "      <td>...</td>\n",
       "      <td>0</td>\n",
       "      <td>0</td>\n",
       "      <td>0</td>\n",
       "      <td>0</td>\n",
       "      <td>0</td>\n",
       "      <td>0</td>\n",
       "      <td>0</td>\n",
       "      <td>0</td>\n",
       "      <td>0</td>\n",
       "      <td>1</td>\n",
       "    </tr>\n",
       "    <tr>\n",
       "      <th>4</th>\n",
       "      <td>0.142857</td>\n",
       "      <td>0.079767</td>\n",
       "      <td>0.000000</td>\n",
       "      <td>1.000000</td>\n",
       "      <td>0.000000</td>\n",
       "      <td>1</td>\n",
       "      <td>0</td>\n",
       "      <td>1</td>\n",
       "      <td>0</td>\n",
       "      <td>1</td>\n",
       "      <td>...</td>\n",
       "      <td>0</td>\n",
       "      <td>0</td>\n",
       "      <td>0</td>\n",
       "      <td>0</td>\n",
       "      <td>0</td>\n",
       "      <td>0</td>\n",
       "      <td>1</td>\n",
       "      <td>0</td>\n",
       "      <td>1</td>\n",
       "      <td>0</td>\n",
       "    </tr>\n",
       "  </tbody>\n",
       "</table>\n",
       "<p>5 rows × 25 columns</p>\n",
       "</div>"
      ],
      "text/plain": [
       "        age   balance  campaign     pdays  previous  education  default  \\\n",
       "0  0.363636  0.078187  0.032258  1.000000  0.000000          2        0   \n",
       "1  0.311688  0.086748  0.000000  0.181363  0.014545          2        0   \n",
       "2  0.194805  0.076163  0.000000  1.000000  0.000000          1        0   \n",
       "3  0.142857  0.086167  0.016129  1.000000  0.000000          1        0   \n",
       "4  0.142857  0.079767  0.000000  1.000000  0.000000          1        0   \n",
       "\n",
       "   housing  loan  contact  ...  job_housemaid  job_management  job_retired  \\\n",
       "0        1     0        1  ...              0               1            0   \n",
       "1        0     0        1  ...              0               0            0   \n",
       "2        1     0        1  ...              0               0            0   \n",
       "3        0     0        1  ...              0               0            0   \n",
       "4        1     0        1  ...              0               0            0   \n",
       "\n",
       "   job_self-employed  job_services  job_student  job_technician  \\\n",
       "0                  0             0            0               0   \n",
       "1                  0             0            0               0   \n",
       "2                  0             0            0               0   \n",
       "3                  0             0            0               0   \n",
       "4                  0             0            0               1   \n",
       "\n",
       "   job_unemployed  marital_married  marital_single  \n",
       "0               0                0               1  \n",
       "1               0                1               0  \n",
       "2               0                1               0  \n",
       "3               0                0               1  \n",
       "4               0                1               0  \n",
       "\n",
       "[5 rows x 25 columns]"
      ]
     },
     "execution_count": 33,
     "metadata": {},
     "output_type": "execute_result"
    }
   ],
   "source": [
    "# #selecionamos las columnas que normalizaremos\n",
    "df_norm = df_train_oh[['age','balance','campaign','pdays','previous']]\n",
    "df_prep2 = df_train_oh.drop(columns=['age','balance','campaign','pdays','previous'])\n",
    "\n",
    "from sklearn.preprocessing import MinMaxScaler\n",
    "df_trans = MinMaxScaler()\n",
    "df_trans = df_trans.fit_transform(df_norm)\n",
    "\n",
    "df_trans = pd.DataFrame(df_trans)\n",
    "df_trans.columns = df_norm.columns\n",
    "\n",
    "df_train_trans = pd.concat([df_trans, df_prep2], axis=1,)\n",
    "df_train_trans.reindex(columns=['age','job','marital','education','default','balance','housing',\n",
    "                          'loan','contact','day','month','campaign','pdays','previous','y'])\n",
    "\n",
    "df_train_trans.head()"
   ]
  },
  {
   "cell_type": "code",
   "execution_count": 34,
   "id": "f3027548",
   "metadata": {},
   "outputs": [
    {
     "name": "stdout",
     "output_type": "stream",
     "text": [
      "<class 'pandas.core.frame.DataFrame'>\n",
      "RangeIndex: 40000 entries, 0 to 39999\n",
      "Data columns (total 25 columns):\n",
      " #   Column             Non-Null Count  Dtype  \n",
      "---  ------             --------------  -----  \n",
      " 0   age                40000 non-null  float64\n",
      " 1   balance            40000 non-null  float64\n",
      " 2   campaign           40000 non-null  float64\n",
      " 3   pdays              40000 non-null  float64\n",
      " 4   previous           40000 non-null  float64\n",
      " 5   education          40000 non-null  int64  \n",
      " 6   default            40000 non-null  int64  \n",
      " 7   housing            40000 non-null  int64  \n",
      " 8   loan               40000 non-null  int64  \n",
      " 9   contact            40000 non-null  int64  \n",
      " 10  day                40000 non-null  int64  \n",
      " 11  month              40000 non-null  int64  \n",
      " 12  y                  40000 non-null  int64  \n",
      " 13  job_blue-collar    40000 non-null  uint8  \n",
      " 14  job_entrepreneur   40000 non-null  uint8  \n",
      " 15  job_housemaid      40000 non-null  uint8  \n",
      " 16  job_management     40000 non-null  uint8  \n",
      " 17  job_retired        40000 non-null  uint8  \n",
      " 18  job_self-employed  40000 non-null  uint8  \n",
      " 19  job_services       40000 non-null  uint8  \n",
      " 20  job_student        40000 non-null  uint8  \n",
      " 21  job_technician     40000 non-null  uint8  \n",
      " 22  job_unemployed     40000 non-null  uint8  \n",
      " 23  marital_married    40000 non-null  uint8  \n",
      " 24  marital_single     40000 non-null  uint8  \n",
      "dtypes: float64(5), int64(8), uint8(12)\n",
      "memory usage: 4.4 MB\n"
     ]
    }
   ],
   "source": [
    "df_train_trans.info()"
   ]
  },
  {
   "cell_type": "markdown",
   "id": "52483daf",
   "metadata": {},
   "source": [
    "# Preproceso datos test\n",
    "\n",
    "#### Esto es necesario para poder probar el modelo sobre la misma estructura de datos pre_procesados de train."
   ]
  },
  {
   "cell_type": "code",
   "execution_count": 35,
   "id": "59cb3a13",
   "metadata": {},
   "outputs": [],
   "source": [
    "df_test = df_test.drop(['duration','poutcome'], axis=1)"
   ]
  },
  {
   "cell_type": "code",
   "execution_count": 36,
   "id": "6280f93a",
   "metadata": {},
   "outputs": [],
   "source": [
    "df_test.loc[(df_test.education == \"unknown\") & (df_test.job == \"admin.\"),\"education\"] = \"secondary\"\n",
    "df_test.loc[(df_test.education == \"unknown\") & (df_test.job == \"management\"),\"education\"] = \"secondary\"\n",
    "df_test.loc[(df_test.education == \"unknown\") & (df_test.job == \"services\"),\"education\"] = \"tertiary\"\n",
    "df_test.loc[(df_test.education == \"unknown\") & (df_test.job == \"technician.\"),\"education\"] = \"secondary\"\n",
    "df_test.loc[(df_test.education == \"unknown\") & (df_test.job == \"retired\"),\"education\"] = \"secondary\"\n",
    "df_test.loc[(df_test.education == \"unknown\") & (df_test.job == \"blue-collar\"),\"education\"] = \"secondary\"\n",
    "df_test.loc[(df_test.education == \"unknown\") & (df_test.job == \"housemaid.\"),\"education\"] = \"primary\"\n",
    "df_test.loc[(df_test.education == \"unknown\") & (df_test.job == \"self-employed\"),\"education\"] = \"tertiary\"\n",
    "df_test.loc[(df_test.education == \"unknown\") & (df_test.job == \"student\"),\"education\"] = \"secondary\"\n",
    "df_test.loc[(df_test.education == \"unknown\") & (df_test.job == \"entrepreneur\"),\"education\"] = \"tertiary\"\n",
    "df_test.loc[(df_test.education == \"unknown\") & (df_test.job == \"unemployed\"),\"education\"] = \"secondary\"\n",
    "#REST CAN BE SECONDARY\n",
    "df_test.loc[(df_test.education == \"unknown\"),\"education\"] = \"secondary\""
   ]
  },
  {
   "cell_type": "code",
   "execution_count": 37,
   "id": "1455279c",
   "metadata": {
    "scrolled": false
   },
   "outputs": [
    {
     "data": {
      "text/plain": [
       "array(['tertiary', 'secondary', 'primary'], dtype=object)"
      ]
     },
     "execution_count": 37,
     "metadata": {},
     "output_type": "execute_result"
    }
   ],
   "source": [
    "df_test['education'].unique()"
   ]
  },
  {
   "cell_type": "markdown",
   "id": "5d627a37",
   "metadata": {},
   "source": [
    "#### Contacto  y Trabajo seran remplazados por la moda en el caso de los ausentes"
   ]
  },
  {
   "cell_type": "code",
   "execution_count": 38,
   "id": "01b6d46a",
   "metadata": {},
   "outputs": [],
   "source": [
    "df_test[\"contact\"].replace([\"unknown\"],df_test[\"contact\"].mode(),inplace = True) \n",
    "df_test[\"job\"].replace([\"unknown\"],df_test[\"job\"].mode(),inplace = True) "
   ]
  },
  {
   "cell_type": "code",
   "execution_count": 39,
   "id": "227477e2",
   "metadata": {
    "scrolled": false
   },
   "outputs": [
    {
     "data": {
      "text/plain": [
       "(array(['admin.', 'retired', 'entrepreneur', 'management', 'technician',\n",
       "        'self-employed', 'blue-collar', 'services', 'unemployed',\n",
       "        'student', 'housemaid'], dtype=object),\n",
       " array(['telephone', 'cellular'], dtype=object))"
      ]
     },
     "execution_count": 39,
     "metadata": {},
     "output_type": "execute_result"
    }
   ],
   "source": [
    "df_test['job'].unique(), df_test['contact'].unique()"
   ]
  },
  {
   "cell_type": "code",
   "execution_count": 40,
   "id": "865b18c0",
   "metadata": {
    "scrolled": false
   },
   "outputs": [
    {
     "data": {
      "text/html": [
       "<div>\n",
       "<style scoped>\n",
       "    .dataframe tbody tr th:only-of-type {\n",
       "        vertical-align: middle;\n",
       "    }\n",
       "\n",
       "    .dataframe tbody tr th {\n",
       "        vertical-align: top;\n",
       "    }\n",
       "\n",
       "    .dataframe thead th {\n",
       "        text-align: right;\n",
       "    }\n",
       "</style>\n",
       "<table border=\"1\" class=\"dataframe\">\n",
       "  <thead>\n",
       "    <tr style=\"text-align: right;\">\n",
       "      <th></th>\n",
       "      <th>age</th>\n",
       "      <th>job</th>\n",
       "      <th>marital</th>\n",
       "      <th>education</th>\n",
       "      <th>default</th>\n",
       "      <th>balance</th>\n",
       "      <th>housing</th>\n",
       "      <th>loan</th>\n",
       "      <th>contact</th>\n",
       "      <th>day</th>\n",
       "      <th>month</th>\n",
       "      <th>campaign</th>\n",
       "      <th>pdays</th>\n",
       "      <th>previous</th>\n",
       "    </tr>\n",
       "  </thead>\n",
       "  <tbody>\n",
       "    <tr>\n",
       "      <th>0</th>\n",
       "      <td>51</td>\n",
       "      <td>admin.</td>\n",
       "      <td>single</td>\n",
       "      <td>tertiary</td>\n",
       "      <td>no</td>\n",
       "      <td>394</td>\n",
       "      <td>no</td>\n",
       "      <td>no</td>\n",
       "      <td>telephone</td>\n",
       "      <td>28</td>\n",
       "      <td>jan</td>\n",
       "      <td>2</td>\n",
       "      <td>-1</td>\n",
       "      <td>0</td>\n",
       "    </tr>\n",
       "    <tr>\n",
       "      <th>1</th>\n",
       "      <td>56</td>\n",
       "      <td>retired</td>\n",
       "      <td>married</td>\n",
       "      <td>secondary</td>\n",
       "      <td>no</td>\n",
       "      <td>334</td>\n",
       "      <td>no</td>\n",
       "      <td>no</td>\n",
       "      <td>cellular</td>\n",
       "      <td>21</td>\n",
       "      <td>jul</td>\n",
       "      <td>1</td>\n",
       "      <td>-1</td>\n",
       "      <td>0</td>\n",
       "    </tr>\n",
       "    <tr>\n",
       "      <th>2</th>\n",
       "      <td>50</td>\n",
       "      <td>entrepreneur</td>\n",
       "      <td>married</td>\n",
       "      <td>tertiary</td>\n",
       "      <td>no</td>\n",
       "      <td>52</td>\n",
       "      <td>no</td>\n",
       "      <td>no</td>\n",
       "      <td>cellular</td>\n",
       "      <td>31</td>\n",
       "      <td>jul</td>\n",
       "      <td>8</td>\n",
       "      <td>-1</td>\n",
       "      <td>0</td>\n",
       "    </tr>\n",
       "    <tr>\n",
       "      <th>3</th>\n",
       "      <td>54</td>\n",
       "      <td>entrepreneur</td>\n",
       "      <td>married</td>\n",
       "      <td>secondary</td>\n",
       "      <td>no</td>\n",
       "      <td>653</td>\n",
       "      <td>yes</td>\n",
       "      <td>no</td>\n",
       "      <td>cellular</td>\n",
       "      <td>15</td>\n",
       "      <td>may</td>\n",
       "      <td>1</td>\n",
       "      <td>-1</td>\n",
       "      <td>0</td>\n",
       "    </tr>\n",
       "    <tr>\n",
       "      <th>4</th>\n",
       "      <td>47</td>\n",
       "      <td>management</td>\n",
       "      <td>married</td>\n",
       "      <td>tertiary</td>\n",
       "      <td>no</td>\n",
       "      <td>0</td>\n",
       "      <td>no</td>\n",
       "      <td>no</td>\n",
       "      <td>cellular</td>\n",
       "      <td>19</td>\n",
       "      <td>aug</td>\n",
       "      <td>2</td>\n",
       "      <td>-1</td>\n",
       "      <td>0</td>\n",
       "    </tr>\n",
       "  </tbody>\n",
       "</table>\n",
       "</div>"
      ],
      "text/plain": [
       "   age           job  marital  education default  balance housing loan  \\\n",
       "0   51        admin.   single   tertiary      no      394      no   no   \n",
       "1   56       retired  married  secondary      no      334      no   no   \n",
       "2   50  entrepreneur  married   tertiary      no       52      no   no   \n",
       "3   54  entrepreneur  married  secondary      no      653     yes   no   \n",
       "4   47    management  married   tertiary      no        0      no   no   \n",
       "\n",
       "     contact  day month  campaign  pdays  previous  \n",
       "0  telephone   28   jan         2     -1         0  \n",
       "1   cellular   21   jul         1     -1         0  \n",
       "2   cellular   31   jul         8     -1         0  \n",
       "3   cellular   15   may         1     -1         0  \n",
       "4   cellular   19   aug         2     -1         0  "
      ]
     },
     "execution_count": 40,
     "metadata": {},
     "output_type": "execute_result"
    }
   ],
   "source": [
    "df_test.head()"
   ]
  },
  {
   "cell_type": "code",
   "execution_count": 41,
   "id": "a834fed4",
   "metadata": {},
   "outputs": [],
   "source": [
    "# Clasificaion de bariables categoricas\n",
    "df_test['education'].replace(['tertiary', 'secondary', 'primary'],[2,1,0],inplace=True)\n",
    "df_test['contact'].replace(['cellular','telephone'],[1,0],inplace=True) #las personas poco usar el telefono fijo\n",
    "df_test['default'].replace(['yes','no'],[1,0],inplace=True)\n",
    "df_test['housing'].replace(['yes','no'],[1,0],inplace=True)\n",
    "df_test['loan'].replace(['yes','no'],[1,0],inplace=True)\n",
    "df_test['month'].replace(['jan','feb','mar','apr','may','jun','jul','aug' , 'sep','oct','nov','dec'],\n",
    "                         [1,2,3,4,5,6,7,8,9,10,11,12],inplace=True)\n",
    "\n",
    "#CATEGORICAS ['job','marital','education','contact','month','poutcome']\n",
    "#NUMERICAS ['age','balance','day','campaign','pdays','previous']\n",
    "#BINARIAS  ['default','housing','loan','y']  "
   ]
  },
  {
   "cell_type": "code",
   "execution_count": 42,
   "id": "0da848f0",
   "metadata": {},
   "outputs": [],
   "source": [
    "df_test = df_dummies = pd.get_dummies(df_test,columns = ['job','marital'],\n",
    "               drop_first = True)"
   ]
  },
  {
   "cell_type": "code",
   "execution_count": 43,
   "id": "5b6f9809",
   "metadata": {
    "scrolled": false
   },
   "outputs": [
    {
     "data": {
      "text/html": [
       "<div>\n",
       "<style scoped>\n",
       "    .dataframe tbody tr th:only-of-type {\n",
       "        vertical-align: middle;\n",
       "    }\n",
       "\n",
       "    .dataframe tbody tr th {\n",
       "        vertical-align: top;\n",
       "    }\n",
       "\n",
       "    .dataframe thead th {\n",
       "        text-align: right;\n",
       "    }\n",
       "</style>\n",
       "<table border=\"1\" class=\"dataframe\">\n",
       "  <thead>\n",
       "    <tr style=\"text-align: right;\">\n",
       "      <th></th>\n",
       "      <th>age</th>\n",
       "      <th>education</th>\n",
       "      <th>default</th>\n",
       "      <th>balance</th>\n",
       "      <th>housing</th>\n",
       "      <th>loan</th>\n",
       "      <th>contact</th>\n",
       "      <th>day</th>\n",
       "      <th>month</th>\n",
       "      <th>campaign</th>\n",
       "      <th>...</th>\n",
       "      <th>job_housemaid</th>\n",
       "      <th>job_management</th>\n",
       "      <th>job_retired</th>\n",
       "      <th>job_self-employed</th>\n",
       "      <th>job_services</th>\n",
       "      <th>job_student</th>\n",
       "      <th>job_technician</th>\n",
       "      <th>job_unemployed</th>\n",
       "      <th>marital_married</th>\n",
       "      <th>marital_single</th>\n",
       "    </tr>\n",
       "  </thead>\n",
       "  <tbody>\n",
       "    <tr>\n",
       "      <th>0</th>\n",
       "      <td>51</td>\n",
       "      <td>2</td>\n",
       "      <td>0</td>\n",
       "      <td>394</td>\n",
       "      <td>0</td>\n",
       "      <td>0</td>\n",
       "      <td>0</td>\n",
       "      <td>28</td>\n",
       "      <td>1</td>\n",
       "      <td>2</td>\n",
       "      <td>...</td>\n",
       "      <td>0</td>\n",
       "      <td>0</td>\n",
       "      <td>0</td>\n",
       "      <td>0</td>\n",
       "      <td>0</td>\n",
       "      <td>0</td>\n",
       "      <td>0</td>\n",
       "      <td>0</td>\n",
       "      <td>0</td>\n",
       "      <td>1</td>\n",
       "    </tr>\n",
       "    <tr>\n",
       "      <th>1</th>\n",
       "      <td>56</td>\n",
       "      <td>1</td>\n",
       "      <td>0</td>\n",
       "      <td>334</td>\n",
       "      <td>0</td>\n",
       "      <td>0</td>\n",
       "      <td>1</td>\n",
       "      <td>21</td>\n",
       "      <td>7</td>\n",
       "      <td>1</td>\n",
       "      <td>...</td>\n",
       "      <td>0</td>\n",
       "      <td>0</td>\n",
       "      <td>1</td>\n",
       "      <td>0</td>\n",
       "      <td>0</td>\n",
       "      <td>0</td>\n",
       "      <td>0</td>\n",
       "      <td>0</td>\n",
       "      <td>1</td>\n",
       "      <td>0</td>\n",
       "    </tr>\n",
       "    <tr>\n",
       "      <th>2</th>\n",
       "      <td>50</td>\n",
       "      <td>2</td>\n",
       "      <td>0</td>\n",
       "      <td>52</td>\n",
       "      <td>0</td>\n",
       "      <td>0</td>\n",
       "      <td>1</td>\n",
       "      <td>31</td>\n",
       "      <td>7</td>\n",
       "      <td>8</td>\n",
       "      <td>...</td>\n",
       "      <td>0</td>\n",
       "      <td>0</td>\n",
       "      <td>0</td>\n",
       "      <td>0</td>\n",
       "      <td>0</td>\n",
       "      <td>0</td>\n",
       "      <td>0</td>\n",
       "      <td>0</td>\n",
       "      <td>1</td>\n",
       "      <td>0</td>\n",
       "    </tr>\n",
       "    <tr>\n",
       "      <th>3</th>\n",
       "      <td>54</td>\n",
       "      <td>1</td>\n",
       "      <td>0</td>\n",
       "      <td>653</td>\n",
       "      <td>1</td>\n",
       "      <td>0</td>\n",
       "      <td>1</td>\n",
       "      <td>15</td>\n",
       "      <td>5</td>\n",
       "      <td>1</td>\n",
       "      <td>...</td>\n",
       "      <td>0</td>\n",
       "      <td>0</td>\n",
       "      <td>0</td>\n",
       "      <td>0</td>\n",
       "      <td>0</td>\n",
       "      <td>0</td>\n",
       "      <td>0</td>\n",
       "      <td>0</td>\n",
       "      <td>1</td>\n",
       "      <td>0</td>\n",
       "    </tr>\n",
       "    <tr>\n",
       "      <th>4</th>\n",
       "      <td>47</td>\n",
       "      <td>2</td>\n",
       "      <td>0</td>\n",
       "      <td>0</td>\n",
       "      <td>0</td>\n",
       "      <td>0</td>\n",
       "      <td>1</td>\n",
       "      <td>19</td>\n",
       "      <td>8</td>\n",
       "      <td>2</td>\n",
       "      <td>...</td>\n",
       "      <td>0</td>\n",
       "      <td>1</td>\n",
       "      <td>0</td>\n",
       "      <td>0</td>\n",
       "      <td>0</td>\n",
       "      <td>0</td>\n",
       "      <td>0</td>\n",
       "      <td>0</td>\n",
       "      <td>1</td>\n",
       "      <td>0</td>\n",
       "    </tr>\n",
       "  </tbody>\n",
       "</table>\n",
       "<p>5 rows × 24 columns</p>\n",
       "</div>"
      ],
      "text/plain": [
       "   age  education  default  balance  housing  loan  contact  day  month  \\\n",
       "0   51          2        0      394        0     0        0   28      1   \n",
       "1   56          1        0      334        0     0        1   21      7   \n",
       "2   50          2        0       52        0     0        1   31      7   \n",
       "3   54          1        0      653        1     0        1   15      5   \n",
       "4   47          2        0        0        0     0        1   19      8   \n",
       "\n",
       "   campaign  ...  job_housemaid  job_management  job_retired  \\\n",
       "0         2  ...              0               0            0   \n",
       "1         1  ...              0               0            1   \n",
       "2         8  ...              0               0            0   \n",
       "3         1  ...              0               0            0   \n",
       "4         2  ...              0               1            0   \n",
       "\n",
       "   job_self-employed  job_services  job_student  job_technician  \\\n",
       "0                  0             0            0               0   \n",
       "1                  0             0            0               0   \n",
       "2                  0             0            0               0   \n",
       "3                  0             0            0               0   \n",
       "4                  0             0            0               0   \n",
       "\n",
       "   job_unemployed  marital_married  marital_single  \n",
       "0               0                0               1  \n",
       "1               0                1               0  \n",
       "2               0                1               0  \n",
       "3               0                1               0  \n",
       "4               0                1               0  \n",
       "\n",
       "[5 rows x 24 columns]"
      ]
     },
     "execution_count": 43,
     "metadata": {},
     "output_type": "execute_result"
    }
   ],
   "source": [
    "df_test.head()"
   ]
  },
  {
   "cell_type": "markdown",
   "id": "9883b728",
   "metadata": {},
   "source": [
    "## Normalizacion Test"
   ]
  },
  {
   "cell_type": "code",
   "execution_count": 44,
   "id": "1a07795e",
   "metadata": {},
   "outputs": [
    {
     "data": {
      "text/html": [
       "<div>\n",
       "<style scoped>\n",
       "    .dataframe tbody tr th:only-of-type {\n",
       "        vertical-align: middle;\n",
       "    }\n",
       "\n",
       "    .dataframe tbody tr th {\n",
       "        vertical-align: top;\n",
       "    }\n",
       "\n",
       "    .dataframe thead th {\n",
       "        text-align: right;\n",
       "    }\n",
       "</style>\n",
       "<table border=\"1\" class=\"dataframe\">\n",
       "  <thead>\n",
       "    <tr style=\"text-align: right;\">\n",
       "      <th></th>\n",
       "      <th>age</th>\n",
       "      <th>balance</th>\n",
       "      <th>campaign</th>\n",
       "      <th>pdays</th>\n",
       "      <th>previous</th>\n",
       "      <th>education</th>\n",
       "      <th>default</th>\n",
       "      <th>housing</th>\n",
       "      <th>loan</th>\n",
       "      <th>contact</th>\n",
       "      <th>...</th>\n",
       "      <th>job_housemaid</th>\n",
       "      <th>job_management</th>\n",
       "      <th>job_retired</th>\n",
       "      <th>job_self-employed</th>\n",
       "      <th>job_services</th>\n",
       "      <th>job_student</th>\n",
       "      <th>job_technician</th>\n",
       "      <th>job_unemployed</th>\n",
       "      <th>marital_married</th>\n",
       "      <th>marital_single</th>\n",
       "    </tr>\n",
       "  </thead>\n",
       "  <tbody>\n",
       "    <tr>\n",
       "      <th>0</th>\n",
       "      <td>0.470588</td>\n",
       "      <td>0.073101</td>\n",
       "      <td>0.023810</td>\n",
       "      <td>0.0</td>\n",
       "      <td>0.0</td>\n",
       "      <td>2</td>\n",
       "      <td>0</td>\n",
       "      <td>0</td>\n",
       "      <td>0</td>\n",
       "      <td>0</td>\n",
       "      <td>...</td>\n",
       "      <td>0</td>\n",
       "      <td>0</td>\n",
       "      <td>0</td>\n",
       "      <td>0</td>\n",
       "      <td>0</td>\n",
       "      <td>0</td>\n",
       "      <td>0</td>\n",
       "      <td>0</td>\n",
       "      <td>0</td>\n",
       "      <td>1</td>\n",
       "    </tr>\n",
       "    <tr>\n",
       "      <th>1</th>\n",
       "      <td>0.544118</td>\n",
       "      <td>0.072116</td>\n",
       "      <td>0.000000</td>\n",
       "      <td>0.0</td>\n",
       "      <td>0.0</td>\n",
       "      <td>1</td>\n",
       "      <td>0</td>\n",
       "      <td>0</td>\n",
       "      <td>0</td>\n",
       "      <td>1</td>\n",
       "      <td>...</td>\n",
       "      <td>0</td>\n",
       "      <td>0</td>\n",
       "      <td>1</td>\n",
       "      <td>0</td>\n",
       "      <td>0</td>\n",
       "      <td>0</td>\n",
       "      <td>0</td>\n",
       "      <td>0</td>\n",
       "      <td>1</td>\n",
       "      <td>0</td>\n",
       "    </tr>\n",
       "    <tr>\n",
       "      <th>2</th>\n",
       "      <td>0.455882</td>\n",
       "      <td>0.067485</td>\n",
       "      <td>0.166667</td>\n",
       "      <td>0.0</td>\n",
       "      <td>0.0</td>\n",
       "      <td>2</td>\n",
       "      <td>0</td>\n",
       "      <td>0</td>\n",
       "      <td>0</td>\n",
       "      <td>1</td>\n",
       "      <td>...</td>\n",
       "      <td>0</td>\n",
       "      <td>0</td>\n",
       "      <td>0</td>\n",
       "      <td>0</td>\n",
       "      <td>0</td>\n",
       "      <td>0</td>\n",
       "      <td>0</td>\n",
       "      <td>0</td>\n",
       "      <td>1</td>\n",
       "      <td>0</td>\n",
       "    </tr>\n",
       "    <tr>\n",
       "      <th>3</th>\n",
       "      <td>0.514706</td>\n",
       "      <td>0.077355</td>\n",
       "      <td>0.000000</td>\n",
       "      <td>0.0</td>\n",
       "      <td>0.0</td>\n",
       "      <td>1</td>\n",
       "      <td>0</td>\n",
       "      <td>1</td>\n",
       "      <td>0</td>\n",
       "      <td>1</td>\n",
       "      <td>...</td>\n",
       "      <td>0</td>\n",
       "      <td>0</td>\n",
       "      <td>0</td>\n",
       "      <td>0</td>\n",
       "      <td>0</td>\n",
       "      <td>0</td>\n",
       "      <td>0</td>\n",
       "      <td>0</td>\n",
       "      <td>1</td>\n",
       "      <td>0</td>\n",
       "    </tr>\n",
       "    <tr>\n",
       "      <th>4</th>\n",
       "      <td>0.411765</td>\n",
       "      <td>0.066631</td>\n",
       "      <td>0.023810</td>\n",
       "      <td>0.0</td>\n",
       "      <td>0.0</td>\n",
       "      <td>2</td>\n",
       "      <td>0</td>\n",
       "      <td>0</td>\n",
       "      <td>0</td>\n",
       "      <td>1</td>\n",
       "      <td>...</td>\n",
       "      <td>0</td>\n",
       "      <td>1</td>\n",
       "      <td>0</td>\n",
       "      <td>0</td>\n",
       "      <td>0</td>\n",
       "      <td>0</td>\n",
       "      <td>0</td>\n",
       "      <td>0</td>\n",
       "      <td>1</td>\n",
       "      <td>0</td>\n",
       "    </tr>\n",
       "  </tbody>\n",
       "</table>\n",
       "<p>5 rows × 24 columns</p>\n",
       "</div>"
      ],
      "text/plain": [
       "        age   balance  campaign  pdays  previous  education  default  housing  \\\n",
       "0  0.470588  0.073101  0.023810    0.0       0.0          2        0        0   \n",
       "1  0.544118  0.072116  0.000000    0.0       0.0          1        0        0   \n",
       "2  0.455882  0.067485  0.166667    0.0       0.0          2        0        0   \n",
       "3  0.514706  0.077355  0.000000    0.0       0.0          1        0        1   \n",
       "4  0.411765  0.066631  0.023810    0.0       0.0          2        0        0   \n",
       "\n",
       "   loan  contact  ...  job_housemaid  job_management  job_retired  \\\n",
       "0     0        0  ...              0               0            0   \n",
       "1     0        1  ...              0               0            1   \n",
       "2     0        1  ...              0               0            0   \n",
       "3     0        1  ...              0               0            0   \n",
       "4     0        1  ...              0               1            0   \n",
       "\n",
       "   job_self-employed  job_services  job_student  job_technician  \\\n",
       "0                  0             0            0               0   \n",
       "1                  0             0            0               0   \n",
       "2                  0             0            0               0   \n",
       "3                  0             0            0               0   \n",
       "4                  0             0            0               0   \n",
       "\n",
       "   job_unemployed  marital_married  marital_single  \n",
       "0               0                0               1  \n",
       "1               0                1               0  \n",
       "2               0                1               0  \n",
       "3               0                1               0  \n",
       "4               0                1               0  \n",
       "\n",
       "[5 rows x 24 columns]"
      ]
     },
     "execution_count": 44,
     "metadata": {},
     "output_type": "execute_result"
    }
   ],
   "source": [
    "# #selecionamos las columnas que normalizaremos\n",
    "df_norm = df_test[['age','balance','campaign','pdays','previous']]\n",
    "df_prep2 = df_test.drop(columns=['age','balance','campaign','pdays','previous'])\n",
    "\n",
    "from sklearn.preprocessing import MinMaxScaler\n",
    "df_tes_trans = MinMaxScaler()\n",
    "df_tes_trans = df_tes_trans.fit_transform(df_norm)\n",
    "\n",
    "df_tes_trans = pd.DataFrame(df_tes_trans)\n",
    "df_tes_trans.columns = df_norm.columns\n",
    "\n",
    "df_test_trans = pd.concat([df_tes_trans, df_prep2], axis=1,)\n",
    "df_test_trans.reindex(columns=['age','job','marital','education','default','balance','housing',\n",
    "                          'loan','contact','day','month','campaign','pdays','previous','y'])\n",
    "\n",
    "df_test_trans.head()"
   ]
  },
  {
   "cell_type": "markdown",
   "id": "c2e095b8",
   "metadata": {},
   "source": [
    "# Balanceo de datos"
   ]
  },
  {
   "cell_type": "markdown",
   "id": "dc4a3537",
   "metadata": {},
   "source": [
    "# Oversampling"
   ]
  },
  {
   "cell_type": "code",
   "execution_count": 45,
   "id": "19004bc5",
   "metadata": {},
   "outputs": [],
   "source": [
    "#Separamos el set de datos\n",
    "x = df_train_trans.drop(['y'], axis=1)\n",
    "y = df_train_trans['y']"
   ]
  },
  {
   "cell_type": "code",
   "execution_count": 46,
   "id": "60a86f45",
   "metadata": {
    "scrolled": false
   },
   "outputs": [
    {
     "name": "stdout",
     "output_type": "stream",
     "text": [
      "0    0.625002\n",
      "1    0.374998\n",
      "Name: y, dtype: float64\n",
      "0    35347\n",
      "1    21208\n",
      "Name: y, dtype: int64\n",
      "(56555, 25)\n"
     ]
    },
    {
     "data": {
      "text/html": [
       "<div>\n",
       "<style scoped>\n",
       "    .dataframe tbody tr th:only-of-type {\n",
       "        vertical-align: middle;\n",
       "    }\n",
       "\n",
       "    .dataframe tbody tr th {\n",
       "        vertical-align: top;\n",
       "    }\n",
       "\n",
       "    .dataframe thead th {\n",
       "        text-align: right;\n",
       "    }\n",
       "</style>\n",
       "<table border=\"1\" class=\"dataframe\">\n",
       "  <thead>\n",
       "    <tr style=\"text-align: right;\">\n",
       "      <th></th>\n",
       "      <th>age</th>\n",
       "      <th>balance</th>\n",
       "      <th>campaign</th>\n",
       "      <th>pdays</th>\n",
       "      <th>previous</th>\n",
       "      <th>education</th>\n",
       "      <th>default</th>\n",
       "      <th>housing</th>\n",
       "      <th>loan</th>\n",
       "      <th>contact</th>\n",
       "      <th>...</th>\n",
       "      <th>job_management</th>\n",
       "      <th>job_retired</th>\n",
       "      <th>job_self-employed</th>\n",
       "      <th>job_services</th>\n",
       "      <th>job_student</th>\n",
       "      <th>job_technician</th>\n",
       "      <th>job_unemployed</th>\n",
       "      <th>marital_married</th>\n",
       "      <th>marital_single</th>\n",
       "      <th>y</th>\n",
       "    </tr>\n",
       "  </thead>\n",
       "  <tbody>\n",
       "    <tr>\n",
       "      <th>0</th>\n",
       "      <td>0.363636</td>\n",
       "      <td>0.078187</td>\n",
       "      <td>0.032258</td>\n",
       "      <td>1.000000</td>\n",
       "      <td>0.000000</td>\n",
       "      <td>2</td>\n",
       "      <td>0</td>\n",
       "      <td>1</td>\n",
       "      <td>0</td>\n",
       "      <td>1</td>\n",
       "      <td>...</td>\n",
       "      <td>1</td>\n",
       "      <td>0</td>\n",
       "      <td>0</td>\n",
       "      <td>0</td>\n",
       "      <td>0</td>\n",
       "      <td>0</td>\n",
       "      <td>0</td>\n",
       "      <td>0</td>\n",
       "      <td>1</td>\n",
       "      <td>0</td>\n",
       "    </tr>\n",
       "    <tr>\n",
       "      <th>1</th>\n",
       "      <td>0.311688</td>\n",
       "      <td>0.086748</td>\n",
       "      <td>0.000000</td>\n",
       "      <td>0.181363</td>\n",
       "      <td>0.014545</td>\n",
       "      <td>2</td>\n",
       "      <td>0</td>\n",
       "      <td>0</td>\n",
       "      <td>0</td>\n",
       "      <td>1</td>\n",
       "      <td>...</td>\n",
       "      <td>0</td>\n",
       "      <td>0</td>\n",
       "      <td>0</td>\n",
       "      <td>0</td>\n",
       "      <td>0</td>\n",
       "      <td>0</td>\n",
       "      <td>0</td>\n",
       "      <td>1</td>\n",
       "      <td>0</td>\n",
       "      <td>0</td>\n",
       "    </tr>\n",
       "    <tr>\n",
       "      <th>2</th>\n",
       "      <td>0.194805</td>\n",
       "      <td>0.076163</td>\n",
       "      <td>0.000000</td>\n",
       "      <td>1.000000</td>\n",
       "      <td>0.000000</td>\n",
       "      <td>1</td>\n",
       "      <td>0</td>\n",
       "      <td>1</td>\n",
       "      <td>0</td>\n",
       "      <td>1</td>\n",
       "      <td>...</td>\n",
       "      <td>0</td>\n",
       "      <td>0</td>\n",
       "      <td>0</td>\n",
       "      <td>0</td>\n",
       "      <td>0</td>\n",
       "      <td>0</td>\n",
       "      <td>0</td>\n",
       "      <td>1</td>\n",
       "      <td>0</td>\n",
       "      <td>0</td>\n",
       "    </tr>\n",
       "    <tr>\n",
       "      <th>3</th>\n",
       "      <td>0.142857</td>\n",
       "      <td>0.086167</td>\n",
       "      <td>0.016129</td>\n",
       "      <td>1.000000</td>\n",
       "      <td>0.000000</td>\n",
       "      <td>1</td>\n",
       "      <td>0</td>\n",
       "      <td>0</td>\n",
       "      <td>0</td>\n",
       "      <td>1</td>\n",
       "      <td>...</td>\n",
       "      <td>0</td>\n",
       "      <td>0</td>\n",
       "      <td>0</td>\n",
       "      <td>0</td>\n",
       "      <td>0</td>\n",
       "      <td>0</td>\n",
       "      <td>0</td>\n",
       "      <td>0</td>\n",
       "      <td>1</td>\n",
       "      <td>0</td>\n",
       "    </tr>\n",
       "    <tr>\n",
       "      <th>4</th>\n",
       "      <td>0.142857</td>\n",
       "      <td>0.079767</td>\n",
       "      <td>0.000000</td>\n",
       "      <td>1.000000</td>\n",
       "      <td>0.000000</td>\n",
       "      <td>1</td>\n",
       "      <td>0</td>\n",
       "      <td>1</td>\n",
       "      <td>0</td>\n",
       "      <td>1</td>\n",
       "      <td>...</td>\n",
       "      <td>0</td>\n",
       "      <td>0</td>\n",
       "      <td>0</td>\n",
       "      <td>0</td>\n",
       "      <td>0</td>\n",
       "      <td>1</td>\n",
       "      <td>0</td>\n",
       "      <td>1</td>\n",
       "      <td>0</td>\n",
       "      <td>0</td>\n",
       "    </tr>\n",
       "  </tbody>\n",
       "</table>\n",
       "<p>5 rows × 25 columns</p>\n",
       "</div>"
      ],
      "text/plain": [
       "        age   balance  campaign     pdays  previous  education  default  \\\n",
       "0  0.363636  0.078187  0.032258  1.000000  0.000000          2        0   \n",
       "1  0.311688  0.086748  0.000000  0.181363  0.014545          2        0   \n",
       "2  0.194805  0.076163  0.000000  1.000000  0.000000          1        0   \n",
       "3  0.142857  0.086167  0.016129  1.000000  0.000000          1        0   \n",
       "4  0.142857  0.079767  0.000000  1.000000  0.000000          1        0   \n",
       "\n",
       "   housing  loan  contact  ...  job_management  job_retired  \\\n",
       "0        1     0        1  ...               1            0   \n",
       "1        0     0        1  ...               0            0   \n",
       "2        1     0        1  ...               0            0   \n",
       "3        0     0        1  ...               0            0   \n",
       "4        1     0        1  ...               0            0   \n",
       "\n",
       "   job_self-employed  job_services  job_student  job_technician  \\\n",
       "0                  0             0            0               0   \n",
       "1                  0             0            0               0   \n",
       "2                  0             0            0               0   \n",
       "3                  0             0            0               0   \n",
       "4                  0             0            0               1   \n",
       "\n",
       "   job_unemployed  marital_married  marital_single  y  \n",
       "0               0                0               1  0  \n",
       "1               0                1               0  0  \n",
       "2               0                1               0  0  \n",
       "3               0                0               1  0  \n",
       "4               0                1               0  0  \n",
       "\n",
       "[5 rows x 25 columns]"
      ]
     },
     "execution_count": 46,
     "metadata": {},
     "output_type": "execute_result"
    }
   ],
   "source": [
    "random_over = RandomOverSampler(sampling_strategy= 0.6,\n",
    "                               random_state=123)\n",
    "\n",
    "X_over,y_over = random_over.fit_resample(x,y)\n",
    "df_over = X_over\n",
    "df_over['y'] = y_over\n",
    "\n",
    "print(df_over.y.value_counts()/df_over.shape[0])\n",
    "print(df_over.y.value_counts())\n",
    "print(df_over.shape)\n",
    "df_over.head()"
   ]
  },
  {
   "cell_type": "markdown",
   "id": "1f29db13",
   "metadata": {},
   "source": [
    "# Multicolinealidad\n",
    "\n",
    "    ocurre cuando una variable independiente en un modelo de regresión se correlaciona linealmente con otra variable independiente.\n",
    "    \n",
    "Los coeficientes de regresión ajustados (beta hat) cambiarán sustancialmente si uno de los valores de una de las x variables se cambia solo un poco.\n",
    "\n",
    "La varianza de los coeficientes estimados se inflará, lo que significa que será difícil detectar la significación estadística. Además, es posible que el estadístico F sea significativo pero los estadísticos t individuales no lo sean.\n",
    "\n",
    "En última instancia, la multicolinealidad hace que la predicción sea menos precisa. Para un modelo dado, el supuesto subyacente es que las relaciones entre las variables predictoras, así como su relación con la variable objetivo, serán las mismas. Sin embargo, cuando existe multicolinealidad, es menos probable que sea el caso.\n"
   ]
  },
  {
   "cell_type": "markdown",
   "id": "2b6b226b",
   "metadata": {},
   "source": [
    "Donde  R2  se obtiene de la regresión del predictor  Xj  sobre los otros predictores. Esta es la opción más recomendada, los límites de referencia que se suelen emplear son:\n",
    "\n",
    "VIF = 1: ausencia total de colinealidad\n",
    "\n",
    "1 < VIF < 5: la regresión puede verse afectada por cierta colinealidad.\n",
    "\n",
    "5 < VIF < 10: la regresión puede verse altamente afectada por cierta colinealidad.\n",
    "\n",
    "El término tolerancia es  1VIF  por lo que los límites recomendables están entre 1 y 0.1."
   ]
  },
  {
   "cell_type": "code",
   "execution_count": null,
   "id": "3e6f90f6",
   "metadata": {},
   "outputs": [],
   "source": [
    "# df_train.columns"
   ]
  },
  {
   "cell_type": "code",
   "execution_count": null,
   "id": "bd8dc120",
   "metadata": {},
   "outputs": [],
   "source": [
    "# from statsmodels.stats.outliers_influence import variance_inflation_factor\n",
    "\n",
    "# X_variables = df [['age', 'job', 'marital', \n",
    "#                    'education','default', 'balance', \n",
    "#                    'housing','loan', 'contact', 'day', \n",
    "#                    'month', 'campaign', 'pdays', 'previous',\n",
    "#                    'poutcome', 'y']]\n",
    "# vif_data = pd.DataFrame () \n",
    "# vif_data [\"feature\"] = X_variables.columns \n",
    "# vif_data [\"VIF\"] = [varnce_inflation_factor (X_variables.values, i) for i in range (len (X_variables.columns))]"
   ]
  },
  {
   "cell_type": "code",
   "execution_count": null,
   "id": "0f65bc92",
   "metadata": {},
   "outputs": [],
   "source": [
    "# correlation_matrix = df_train.corr()\n",
    "# sns.heatmap(correlation_matrix, annot =True)"
   ]
  },
  {
   "cell_type": "code",
   "execution_count": null,
   "id": "6421a78d",
   "metadata": {},
   "outputs": [],
   "source": [
    "# print(df_train.corr())"
   ]
  },
  {
   "cell_type": "code",
   "execution_count": null,
   "id": "e4eb1007",
   "metadata": {},
   "outputs": [],
   "source": []
  },
  {
   "cell_type": "code",
   "execution_count": null,
   "id": "89b80fdc",
   "metadata": {},
   "outputs": [],
   "source": []
  },
  {
   "cell_type": "markdown",
   "id": "133c66b6",
   "metadata": {},
   "source": [
    "# Ejecutando Modelos "
   ]
  },
  {
   "cell_type": "code",
   "execution_count": null,
   "id": "84cd4124",
   "metadata": {},
   "outputs": [],
   "source": [
    "#df_train_trans\n",
    "#df_over\n",
    "#df_under\n",
    "#df_train_oh"
   ]
  },
  {
   "cell_type": "code",
   "execution_count": null,
   "id": "4cba5414",
   "metadata": {},
   "outputs": [],
   "source": [
    "#df_over = df_over.sample(frac=0.95, random_state=786)"
   ]
  },
  {
   "cell_type": "code",
   "execution_count": 73,
   "id": "b12aed30",
   "metadata": {
    "scrolled": false
   },
   "outputs": [
    {
     "data": {
      "text/html": [
       "<style  type=\"text/css\" >\n",
       "    #T_d0f77_ th {\n",
       "          text-align: left;\n",
       "    }#T_d0f77_row0_col0,#T_d0f77_row0_col3,#T_d0f77_row1_col0,#T_d0f77_row1_col1,#T_d0f77_row1_col2,#T_d0f77_row1_col4,#T_d0f77_row1_col5,#T_d0f77_row1_col6,#T_d0f77_row1_col7,#T_d0f77_row2_col0,#T_d0f77_row2_col1,#T_d0f77_row2_col2,#T_d0f77_row2_col3,#T_d0f77_row2_col4,#T_d0f77_row2_col5,#T_d0f77_row2_col6,#T_d0f77_row2_col7,#T_d0f77_row3_col0,#T_d0f77_row3_col1,#T_d0f77_row3_col2,#T_d0f77_row3_col3,#T_d0f77_row3_col4,#T_d0f77_row3_col5,#T_d0f77_row3_col6,#T_d0f77_row3_col7,#T_d0f77_row4_col0,#T_d0f77_row4_col1,#T_d0f77_row4_col2,#T_d0f77_row4_col3,#T_d0f77_row4_col4,#T_d0f77_row4_col5,#T_d0f77_row4_col6,#T_d0f77_row4_col7,#T_d0f77_row5_col0,#T_d0f77_row5_col1,#T_d0f77_row5_col2,#T_d0f77_row5_col3,#T_d0f77_row5_col4,#T_d0f77_row5_col5,#T_d0f77_row5_col6,#T_d0f77_row5_col7,#T_d0f77_row6_col0,#T_d0f77_row6_col1,#T_d0f77_row6_col2,#T_d0f77_row6_col3,#T_d0f77_row6_col4,#T_d0f77_row6_col5,#T_d0f77_row6_col6,#T_d0f77_row6_col7,#T_d0f77_row7_col0,#T_d0f77_row7_col1,#T_d0f77_row7_col2,#T_d0f77_row7_col3,#T_d0f77_row7_col4,#T_d0f77_row7_col5,#T_d0f77_row7_col6,#T_d0f77_row7_col7,#T_d0f77_row8_col0,#T_d0f77_row8_col1,#T_d0f77_row8_col2,#T_d0f77_row8_col3,#T_d0f77_row8_col4,#T_d0f77_row8_col5,#T_d0f77_row8_col6,#T_d0f77_row8_col7,#T_d0f77_row9_col0,#T_d0f77_row9_col1,#T_d0f77_row9_col2,#T_d0f77_row9_col3,#T_d0f77_row9_col4,#T_d0f77_row9_col5,#T_d0f77_row9_col6,#T_d0f77_row9_col7,#T_d0f77_row10_col0,#T_d0f77_row10_col1,#T_d0f77_row10_col2,#T_d0f77_row10_col3,#T_d0f77_row10_col4,#T_d0f77_row10_col5,#T_d0f77_row10_col6,#T_d0f77_row10_col7,#T_d0f77_row11_col0,#T_d0f77_row11_col1,#T_d0f77_row11_col2,#T_d0f77_row11_col3,#T_d0f77_row11_col4,#T_d0f77_row11_col5,#T_d0f77_row11_col6,#T_d0f77_row11_col7,#T_d0f77_row12_col0,#T_d0f77_row12_col1,#T_d0f77_row12_col2,#T_d0f77_row12_col3,#T_d0f77_row12_col4,#T_d0f77_row12_col5,#T_d0f77_row12_col6,#T_d0f77_row12_col7,#T_d0f77_row13_col0,#T_d0f77_row13_col1,#T_d0f77_row13_col2,#T_d0f77_row13_col3,#T_d0f77_row13_col4,#T_d0f77_row13_col5,#T_d0f77_row13_col6,#T_d0f77_row13_col7,#T_d0f77_row14_col0,#T_d0f77_row14_col1,#T_d0f77_row14_col2,#T_d0f77_row14_col3,#T_d0f77_row14_col4,#T_d0f77_row14_col5,#T_d0f77_row14_col6,#T_d0f77_row14_col7{\n",
       "            text-align:  left;\n",
       "            text-align:  left;\n",
       "        }#T_d0f77_row0_col1,#T_d0f77_row0_col2,#T_d0f77_row0_col4,#T_d0f77_row0_col5,#T_d0f77_row0_col6,#T_d0f77_row0_col7,#T_d0f77_row1_col3{\n",
       "            text-align:  left;\n",
       "            text-align:  left;\n",
       "            background-color:  yellow;\n",
       "        }#T_d0f77_row0_col8,#T_d0f77_row1_col8,#T_d0f77_row2_col8,#T_d0f77_row3_col8,#T_d0f77_row4_col8,#T_d0f77_row5_col8,#T_d0f77_row6_col8,#T_d0f77_row7_col8,#T_d0f77_row8_col8,#T_d0f77_row9_col8,#T_d0f77_row10_col8,#T_d0f77_row12_col8,#T_d0f77_row13_col8,#T_d0f77_row14_col8{\n",
       "            text-align:  left;\n",
       "            text-align:  left;\n",
       "            background-color:  lightgrey;\n",
       "        }#T_d0f77_row11_col8{\n",
       "            text-align:  left;\n",
       "            text-align:  left;\n",
       "            background-color:  yellow;\n",
       "            background-color:  lightgrey;\n",
       "        }</style><table id=\"T_d0f77_\" ><thead>    <tr>        <th class=\"blank level0\" ></th>        <th class=\"col_heading level0 col0\" >Model</th>        <th class=\"col_heading level0 col1\" >Accuracy</th>        <th class=\"col_heading level0 col2\" >AUC</th>        <th class=\"col_heading level0 col3\" >Recall</th>        <th class=\"col_heading level0 col4\" >Prec.</th>        <th class=\"col_heading level0 col5\" >F1</th>        <th class=\"col_heading level0 col6\" >Kappa</th>        <th class=\"col_heading level0 col7\" >MCC</th>        <th class=\"col_heading level0 col8\" >TT (Sec)</th>    </tr></thead><tbody>\n",
       "                <tr>\n",
       "                        <th id=\"T_d0f77_level0_row0\" class=\"row_heading level0 row0\" >et</th>\n",
       "                        <td id=\"T_d0f77_row0_col0\" class=\"data row0 col0\" >Extra Trees Classifier</td>\n",
       "                        <td id=\"T_d0f77_row0_col1\" class=\"data row0 col1\" >0.9626</td>\n",
       "                        <td id=\"T_d0f77_row0_col2\" class=\"data row0 col2\" >0.9912</td>\n",
       "                        <td id=\"T_d0f77_row0_col3\" class=\"data row0 col3\" >0.9761</td>\n",
       "                        <td id=\"T_d0f77_row0_col4\" class=\"data row0 col4\" >0.9279</td>\n",
       "                        <td id=\"T_d0f77_row0_col5\" class=\"data row0 col5\" >0.9514</td>\n",
       "                        <td id=\"T_d0f77_row0_col6\" class=\"data row0 col6\" >0.9210</td>\n",
       "                        <td id=\"T_d0f77_row0_col7\" class=\"data row0 col7\" >0.9218</td>\n",
       "                        <td id=\"T_d0f77_row0_col8\" class=\"data row0 col8\" >3.4750</td>\n",
       "            </tr>\n",
       "            <tr>\n",
       "                        <th id=\"T_d0f77_level0_row1\" class=\"row_heading level0 row1\" >rf</th>\n",
       "                        <td id=\"T_d0f77_row1_col0\" class=\"data row1 col0\" >Random Forest Classifier</td>\n",
       "                        <td id=\"T_d0f77_row1_col1\" class=\"data row1 col1\" >0.9591</td>\n",
       "                        <td id=\"T_d0f77_row1_col2\" class=\"data row1 col2\" >0.9905</td>\n",
       "                        <td id=\"T_d0f77_row1_col3\" class=\"data row1 col3\" >0.9786</td>\n",
       "                        <td id=\"T_d0f77_row1_col4\" class=\"data row1 col4\" >0.9178</td>\n",
       "                        <td id=\"T_d0f77_row1_col5\" class=\"data row1 col5\" >0.9472</td>\n",
       "                        <td id=\"T_d0f77_row1_col6\" class=\"data row1 col6\" >0.9139</td>\n",
       "                        <td id=\"T_d0f77_row1_col7\" class=\"data row1 col7\" >0.9152</td>\n",
       "                        <td id=\"T_d0f77_row1_col8\" class=\"data row1 col8\" >2.8440</td>\n",
       "            </tr>\n",
       "            <tr>\n",
       "                        <th id=\"T_d0f77_level0_row2\" class=\"row_heading level0 row2\" >dt</th>\n",
       "                        <td id=\"T_d0f77_row2_col0\" class=\"data row2 col0\" >Decision Tree Classifier</td>\n",
       "                        <td id=\"T_d0f77_row2_col1\" class=\"data row2 col1\" >0.9139</td>\n",
       "                        <td id=\"T_d0f77_row2_col2\" class=\"data row2 col2\" >0.9268</td>\n",
       "                        <td id=\"T_d0f77_row2_col3\" class=\"data row2 col3\" >0.9779</td>\n",
       "                        <td id=\"T_d0f77_row2_col4\" class=\"data row2 col4\" >0.8249</td>\n",
       "                        <td id=\"T_d0f77_row2_col5\" class=\"data row2 col5\" >0.8949</td>\n",
       "                        <td id=\"T_d0f77_row2_col6\" class=\"data row2 col6\" >0.8229</td>\n",
       "                        <td id=\"T_d0f77_row2_col7\" class=\"data row2 col7\" >0.8315</td>\n",
       "                        <td id=\"T_d0f77_row2_col8\" class=\"data row2 col8\" >0.2210</td>\n",
       "            </tr>\n",
       "            <tr>\n",
       "                        <th id=\"T_d0f77_level0_row3\" class=\"row_heading level0 row3\" >knn</th>\n",
       "                        <td id=\"T_d0f77_row3_col0\" class=\"data row3 col0\" >K Neighbors Classifier</td>\n",
       "                        <td id=\"T_d0f77_row3_col1\" class=\"data row3 col1\" >0.8030</td>\n",
       "                        <td id=\"T_d0f77_row3_col2\" class=\"data row3 col2\" >0.8885</td>\n",
       "                        <td id=\"T_d0f77_row3_col3\" class=\"data row3 col3\" >0.8275</td>\n",
       "                        <td id=\"T_d0f77_row3_col4\" class=\"data row3 col4\" >0.7007</td>\n",
       "                        <td id=\"T_d0f77_row3_col5\" class=\"data row3 col5\" >0.7588</td>\n",
       "                        <td id=\"T_d0f77_row3_col6\" class=\"data row3 col6\" >0.5942</td>\n",
       "                        <td id=\"T_d0f77_row3_col7\" class=\"data row3 col7\" >0.6001</td>\n",
       "                        <td id=\"T_d0f77_row3_col8\" class=\"data row3 col8\" >1.5440</td>\n",
       "            </tr>\n",
       "            <tr>\n",
       "                        <th id=\"T_d0f77_level0_row4\" class=\"row_heading level0 row4\" >xgboost</th>\n",
       "                        <td id=\"T_d0f77_row4_col0\" class=\"data row4 col0\" >Extreme Gradient Boosting</td>\n",
       "                        <td id=\"T_d0f77_row4_col1\" class=\"data row4 col1\" >0.8127</td>\n",
       "                        <td id=\"T_d0f77_row4_col2\" class=\"data row4 col2\" >0.8835</td>\n",
       "                        <td id=\"T_d0f77_row4_col3\" class=\"data row4 col3\" >0.6381</td>\n",
       "                        <td id=\"T_d0f77_row4_col4\" class=\"data row4 col4\" >0.8220</td>\n",
       "                        <td id=\"T_d0f77_row4_col5\" class=\"data row4 col5\" >0.7184</td>\n",
       "                        <td id=\"T_d0f77_row4_col6\" class=\"data row4 col6\" >0.5814</td>\n",
       "                        <td id=\"T_d0f77_row4_col7\" class=\"data row4 col7\" >0.5919</td>\n",
       "                        <td id=\"T_d0f77_row4_col8\" class=\"data row4 col8\" >3.7560</td>\n",
       "            </tr>\n",
       "            <tr>\n",
       "                        <th id=\"T_d0f77_level0_row5\" class=\"row_heading level0 row5\" >catboost</th>\n",
       "                        <td id=\"T_d0f77_row5_col0\" class=\"data row5 col0\" >CatBoost Classifier</td>\n",
       "                        <td id=\"T_d0f77_row5_col1\" class=\"data row5 col1\" >0.8023</td>\n",
       "                        <td id=\"T_d0f77_row5_col2\" class=\"data row5 col2\" >0.8732</td>\n",
       "                        <td id=\"T_d0f77_row5_col3\" class=\"data row5 col3\" >0.6076</td>\n",
       "                        <td id=\"T_d0f77_row5_col4\" class=\"data row5 col4\" >0.8177</td>\n",
       "                        <td id=\"T_d0f77_row5_col5\" class=\"data row5 col5\" >0.6971</td>\n",
       "                        <td id=\"T_d0f77_row5_col6\" class=\"data row5 col6\" >0.5551</td>\n",
       "                        <td id=\"T_d0f77_row5_col7\" class=\"data row5 col7\" >0.5686</td>\n",
       "                        <td id=\"T_d0f77_row5_col8\" class=\"data row5 col8\" >9.6300</td>\n",
       "            </tr>\n",
       "            <tr>\n",
       "                        <th id=\"T_d0f77_level0_row6\" class=\"row_heading level0 row6\" >lightgbm</th>\n",
       "                        <td id=\"T_d0f77_row6_col0\" class=\"data row6 col0\" >Light Gradient Boosting Machine</td>\n",
       "                        <td id=\"T_d0f77_row6_col1\" class=\"data row6 col1\" >0.7805</td>\n",
       "                        <td id=\"T_d0f77_row6_col2\" class=\"data row6 col2\" >0.8441</td>\n",
       "                        <td id=\"T_d0f77_row6_col3\" class=\"data row6 col3\" >0.5599</td>\n",
       "                        <td id=\"T_d0f77_row6_col4\" class=\"data row6 col4\" >0.7932</td>\n",
       "                        <td id=\"T_d0f77_row6_col5\" class=\"data row6 col5\" >0.6564</td>\n",
       "                        <td id=\"T_d0f77_row6_col6\" class=\"data row6 col6\" >0.5021</td>\n",
       "                        <td id=\"T_d0f77_row6_col7\" class=\"data row6 col7\" >0.5185</td>\n",
       "                        <td id=\"T_d0f77_row6_col8\" class=\"data row6 col8\" >0.5910</td>\n",
       "            </tr>\n",
       "            <tr>\n",
       "                        <th id=\"T_d0f77_level0_row7\" class=\"row_heading level0 row7\" >gbc</th>\n",
       "                        <td id=\"T_d0f77_row7_col0\" class=\"data row7 col0\" >Gradient Boosting Classifier</td>\n",
       "                        <td id=\"T_d0f77_row7_col1\" class=\"data row7 col1\" >0.7561</td>\n",
       "                        <td id=\"T_d0f77_row7_col2\" class=\"data row7 col2\" >0.7814</td>\n",
       "                        <td id=\"T_d0f77_row7_col3\" class=\"data row7 col3\" >0.4906</td>\n",
       "                        <td id=\"T_d0f77_row7_col4\" class=\"data row7 col4\" >0.7758</td>\n",
       "                        <td id=\"T_d0f77_row7_col5\" class=\"data row7 col5\" >0.6010</td>\n",
       "                        <td id=\"T_d0f77_row7_col6\" class=\"data row7 col6\" >0.4379</td>\n",
       "                        <td id=\"T_d0f77_row7_col7\" class=\"data row7 col7\" >0.4618</td>\n",
       "                        <td id=\"T_d0f77_row7_col8\" class=\"data row7 col8\" >3.4130</td>\n",
       "            </tr>\n",
       "            <tr>\n",
       "                        <th id=\"T_d0f77_level0_row8\" class=\"row_heading level0 row8\" >ada</th>\n",
       "                        <td id=\"T_d0f77_row8_col0\" class=\"data row8 col0\" >Ada Boost Classifier</td>\n",
       "                        <td id=\"T_d0f77_row8_col1\" class=\"data row8 col1\" >0.7380</td>\n",
       "                        <td id=\"T_d0f77_row8_col2\" class=\"data row8 col2\" >0.7555</td>\n",
       "                        <td id=\"T_d0f77_row8_col3\" class=\"data row8 col3\" >0.4600</td>\n",
       "                        <td id=\"T_d0f77_row8_col4\" class=\"data row8 col4\" >0.7424</td>\n",
       "                        <td id=\"T_d0f77_row8_col5\" class=\"data row8 col5\" >0.5680</td>\n",
       "                        <td id=\"T_d0f77_row8_col6\" class=\"data row8 col6\" >0.3945</td>\n",
       "                        <td id=\"T_d0f77_row8_col7\" class=\"data row8 col7\" >0.4179</td>\n",
       "                        <td id=\"T_d0f77_row8_col8\" class=\"data row8 col8\" >0.8020</td>\n",
       "            </tr>\n",
       "            <tr>\n",
       "                        <th id=\"T_d0f77_level0_row9\" class=\"row_heading level0 row9\" >lr</th>\n",
       "                        <td id=\"T_d0f77_row9_col0\" class=\"data row9 col0\" >Logistic Regression</td>\n",
       "                        <td id=\"T_d0f77_row9_col1\" class=\"data row9 col1\" >0.7255</td>\n",
       "                        <td id=\"T_d0f77_row9_col2\" class=\"data row9 col2\" >0.7371</td>\n",
       "                        <td id=\"T_d0f77_row9_col3\" class=\"data row9 col3\" >0.4433</td>\n",
       "                        <td id=\"T_d0f77_row9_col4\" class=\"data row9 col4\" >0.7156</td>\n",
       "                        <td id=\"T_d0f77_row9_col5\" class=\"data row9 col5\" >0.5474</td>\n",
       "                        <td id=\"T_d0f77_row9_col6\" class=\"data row9 col6\" >0.3656</td>\n",
       "                        <td id=\"T_d0f77_row9_col7\" class=\"data row9 col7\" >0.3873</td>\n",
       "                        <td id=\"T_d0f77_row9_col8\" class=\"data row9 col8\" >1.7570</td>\n",
       "            </tr>\n",
       "            <tr>\n",
       "                        <th id=\"T_d0f77_level0_row10\" class=\"row_heading level0 row10\" >lda</th>\n",
       "                        <td id=\"T_d0f77_row10_col0\" class=\"data row10 col0\" >Linear Discriminant Analysis</td>\n",
       "                        <td id=\"T_d0f77_row10_col1\" class=\"data row10 col1\" >0.7231</td>\n",
       "                        <td id=\"T_d0f77_row10_col2\" class=\"data row10 col2\" >0.7366</td>\n",
       "                        <td id=\"T_d0f77_row10_col3\" class=\"data row10 col3\" >0.4341</td>\n",
       "                        <td id=\"T_d0f77_row10_col4\" class=\"data row10 col4\" >0.7147</td>\n",
       "                        <td id=\"T_d0f77_row10_col5\" class=\"data row10 col5\" >0.5401</td>\n",
       "                        <td id=\"T_d0f77_row10_col6\" class=\"data row10 col6\" >0.3585</td>\n",
       "                        <td id=\"T_d0f77_row10_col7\" class=\"data row10 col7\" >0.3813</td>\n",
       "                        <td id=\"T_d0f77_row10_col8\" class=\"data row10 col8\" >0.2510</td>\n",
       "            </tr>\n",
       "            <tr>\n",
       "                        <th id=\"T_d0f77_level0_row11\" class=\"row_heading level0 row11\" >ridge</th>\n",
       "                        <td id=\"T_d0f77_row11_col0\" class=\"data row11 col0\" >Ridge Classifier</td>\n",
       "                        <td id=\"T_d0f77_row11_col1\" class=\"data row11 col1\" >0.7225</td>\n",
       "                        <td id=\"T_d0f77_row11_col2\" class=\"data row11 col2\" >0.0000</td>\n",
       "                        <td id=\"T_d0f77_row11_col3\" class=\"data row11 col3\" >0.4278</td>\n",
       "                        <td id=\"T_d0f77_row11_col4\" class=\"data row11 col4\" >0.7172</td>\n",
       "                        <td id=\"T_d0f77_row11_col5\" class=\"data row11 col5\" >0.5359</td>\n",
       "                        <td id=\"T_d0f77_row11_col6\" class=\"data row11 col6\" >0.3555</td>\n",
       "                        <td id=\"T_d0f77_row11_col7\" class=\"data row11 col7\" >0.3797</td>\n",
       "                        <td id=\"T_d0f77_row11_col8\" class=\"data row11 col8\" >0.0460</td>\n",
       "            </tr>\n",
       "            <tr>\n",
       "                        <th id=\"T_d0f77_level0_row12\" class=\"row_heading level0 row12\" >nb</th>\n",
       "                        <td id=\"T_d0f77_row12_col0\" class=\"data row12 col0\" >Naive Bayes</td>\n",
       "                        <td id=\"T_d0f77_row12_col1\" class=\"data row12 col1\" >0.6994</td>\n",
       "                        <td id=\"T_d0f77_row12_col2\" class=\"data row12 col2\" >0.7130</td>\n",
       "                        <td id=\"T_d0f77_row12_col3\" class=\"data row12 col3\" >0.3898</td>\n",
       "                        <td id=\"T_d0f77_row12_col4\" class=\"data row12 col4\" >0.6696</td>\n",
       "                        <td id=\"T_d0f77_row12_col5\" class=\"data row12 col5\" >0.4927</td>\n",
       "                        <td id=\"T_d0f77_row12_col6\" class=\"data row12 col6\" >0.2997</td>\n",
       "                        <td id=\"T_d0f77_row12_col7\" class=\"data row12 col7\" >0.3218</td>\n",
       "                        <td id=\"T_d0f77_row12_col8\" class=\"data row12 col8\" >0.0480</td>\n",
       "            </tr>\n",
       "            <tr>\n",
       "                        <th id=\"T_d0f77_level0_row13\" class=\"row_heading level0 row13\" >svm</th>\n",
       "                        <td id=\"T_d0f77_row13_col0\" class=\"data row13 col0\" >SVM - Linear Kernel</td>\n",
       "                        <td id=\"T_d0f77_row13_col1\" class=\"data row13 col1\" >0.6863</td>\n",
       "                        <td id=\"T_d0f77_row13_col2\" class=\"data row13 col2\" >0.0000</td>\n",
       "                        <td id=\"T_d0f77_row13_col3\" class=\"data row13 col3\" >0.4259</td>\n",
       "                        <td id=\"T_d0f77_row13_col4\" class=\"data row13 col4\" >0.6732</td>\n",
       "                        <td id=\"T_d0f77_row13_col5\" class=\"data row13 col5\" >0.4839</td>\n",
       "                        <td id=\"T_d0f77_row13_col6\" class=\"data row13 col6\" >0.2848</td>\n",
       "                        <td id=\"T_d0f77_row13_col7\" class=\"data row13 col7\" >0.3176</td>\n",
       "                        <td id=\"T_d0f77_row13_col8\" class=\"data row13 col8\" >0.5100</td>\n",
       "            </tr>\n",
       "            <tr>\n",
       "                        <th id=\"T_d0f77_level0_row14\" class=\"row_heading level0 row14\" >qda</th>\n",
       "                        <td id=\"T_d0f77_row14_col0\" class=\"data row14 col0\" >Quadratic Discriminant Analysis</td>\n",
       "                        <td id=\"T_d0f77_row14_col1\" class=\"data row14 col1\" >0.5429</td>\n",
       "                        <td id=\"T_d0f77_row14_col2\" class=\"data row14 col2\" >0.5093</td>\n",
       "                        <td id=\"T_d0f77_row14_col3\" class=\"data row14 col3\" >0.3755</td>\n",
       "                        <td id=\"T_d0f77_row14_col4\" class=\"data row14 col4\" >0.3879</td>\n",
       "                        <td id=\"T_d0f77_row14_col5\" class=\"data row14 col5\" >0.3655</td>\n",
       "                        <td id=\"T_d0f77_row14_col6\" class=\"data row14 col6\" >0.0191</td>\n",
       "                        <td id=\"T_d0f77_row14_col7\" class=\"data row14 col7\" >0.0194</td>\n",
       "                        <td id=\"T_d0f77_row14_col8\" class=\"data row14 col8\" >0.1370</td>\n",
       "            </tr>\n",
       "    </tbody></table>"
      ],
      "text/plain": [
       "<pandas.io.formats.style.Styler at 0x16d068d1130>"
      ]
     },
     "metadata": {},
     "output_type": "display_data"
    }
   ],
   "source": [
    "from pycaret.classification import *\n",
    "clf1 = setup(data = df_over,\n",
    "             target = 'y',\n",
    "             train_size=0.8,\n",
    "             session_id=123,\n",
    "            )\n",
    "\n",
    "best_model = compare_models(sort = 'F1')"
   ]
  },
  {
   "cell_type": "markdown",
   "id": "7e9d313d",
   "metadata": {},
   "source": [
    "    Precision nos da la calidad de la predicción: ¿qué porcentaje de los que hemos dicho que son la clase positiva, en realidad lo son?\n",
    "    \n",
    "    Recall nos da la cantidad: ¿qué porcentaje de la clase positiva hemos sido capaces de identificar?\n",
    "    \n",
    "    F1 combina Precision y Recall en una sola medida\n",
    "    \n",
    "    La Matriz de Confusión indica qué tipos de errores se cometen"
   ]
  },
  {
   "cell_type": "code",
   "execution_count": 48,
   "id": "88d43f77",
   "metadata": {
    "scrolled": false
   },
   "outputs": [
    {
     "data": {
      "text/html": [
       "<style  type=\"text/css\" >\n",
       "#T_58590_row10_col0,#T_58590_row10_col1,#T_58590_row10_col2,#T_58590_row10_col3,#T_58590_row10_col4,#T_58590_row10_col5,#T_58590_row10_col6{\n",
       "            background:  yellow;\n",
       "        }</style><table id=\"T_58590_\" ><thead>    <tr>        <th class=\"blank level0\" ></th>        <th class=\"col_heading level0 col0\" >Accuracy</th>        <th class=\"col_heading level0 col1\" >AUC</th>        <th class=\"col_heading level0 col2\" >Recall</th>        <th class=\"col_heading level0 col3\" >Prec.</th>        <th class=\"col_heading level0 col4\" >F1</th>        <th class=\"col_heading level0 col5\" >Kappa</th>        <th class=\"col_heading level0 col6\" >MCC</th>    </tr></thead><tbody>\n",
       "                <tr>\n",
       "                        <th id=\"T_58590_level0_row0\" class=\"row_heading level0 row0\" >0</th>\n",
       "                        <td id=\"T_58590_row0_col0\" class=\"data row0 col0\" >0.9573</td>\n",
       "                        <td id=\"T_58590_row0_col1\" class=\"data row0 col1\" >0.9868</td>\n",
       "                        <td id=\"T_58590_row0_col2\" class=\"data row0 col2\" >0.9704</td>\n",
       "                        <td id=\"T_58590_row0_col3\" class=\"data row0 col3\" >0.9202</td>\n",
       "                        <td id=\"T_58590_row0_col4\" class=\"data row0 col4\" >0.9446</td>\n",
       "                        <td id=\"T_58590_row0_col5\" class=\"data row0 col5\" >0.9099</td>\n",
       "                        <td id=\"T_58590_row0_col6\" class=\"data row0 col6\" >0.9108</td>\n",
       "            </tr>\n",
       "            <tr>\n",
       "                        <th id=\"T_58590_level0_row1\" class=\"row_heading level0 row1\" >1</th>\n",
       "                        <td id=\"T_58590_row1_col0\" class=\"data row1 col0\" >0.9515</td>\n",
       "                        <td id=\"T_58590_row1_col1\" class=\"data row1 col1\" >0.9828</td>\n",
       "                        <td id=\"T_58590_row1_col2\" class=\"data row1 col2\" >0.9596</td>\n",
       "                        <td id=\"T_58590_row1_col3\" class=\"data row1 col3\" >0.9152</td>\n",
       "                        <td id=\"T_58590_row1_col4\" class=\"data row1 col4\" >0.9369</td>\n",
       "                        <td id=\"T_58590_row1_col5\" class=\"data row1 col5\" >0.8975</td>\n",
       "                        <td id=\"T_58590_row1_col6\" class=\"data row1 col6\" >0.8982</td>\n",
       "            </tr>\n",
       "            <tr>\n",
       "                        <th id=\"T_58590_level0_row2\" class=\"row_heading level0 row2\" >2</th>\n",
       "                        <td id=\"T_58590_row2_col0\" class=\"data row2 col0\" >0.9560</td>\n",
       "                        <td id=\"T_58590_row2_col1\" class=\"data row2 col1\" >0.9870</td>\n",
       "                        <td id=\"T_58590_row2_col2\" class=\"data row2 col2\" >0.9684</td>\n",
       "                        <td id=\"T_58590_row2_col3\" class=\"data row2 col3\" >0.9188</td>\n",
       "                        <td id=\"T_58590_row2_col4\" class=\"data row2 col4\" >0.9430</td>\n",
       "                        <td id=\"T_58590_row2_col5\" class=\"data row2 col5\" >0.9072</td>\n",
       "                        <td id=\"T_58590_row2_col6\" class=\"data row2 col6\" >0.9081</td>\n",
       "            </tr>\n",
       "            <tr>\n",
       "                        <th id=\"T_58590_level0_row3\" class=\"row_heading level0 row3\" >3</th>\n",
       "                        <td id=\"T_58590_row3_col0\" class=\"data row3 col0\" >0.9515</td>\n",
       "                        <td id=\"T_58590_row3_col1\" class=\"data row3 col1\" >0.9877</td>\n",
       "                        <td id=\"T_58590_row3_col2\" class=\"data row3 col2\" >0.9717</td>\n",
       "                        <td id=\"T_58590_row3_col3\" class=\"data row3 col3\" >0.9058</td>\n",
       "                        <td id=\"T_58590_row3_col4\" class=\"data row3 col4\" >0.9376</td>\n",
       "                        <td id=\"T_58590_row3_col5\" class=\"data row3 col5\" >0.8980</td>\n",
       "                        <td id=\"T_58590_row3_col6\" class=\"data row3 col6\" >0.8995</td>\n",
       "            </tr>\n",
       "            <tr>\n",
       "                        <th id=\"T_58590_level0_row4\" class=\"row_heading level0 row4\" >4</th>\n",
       "                        <td id=\"T_58590_row4_col0\" class=\"data row4 col0\" >0.9500</td>\n",
       "                        <td id=\"T_58590_row4_col1\" class=\"data row4 col1\" >0.9841</td>\n",
       "                        <td id=\"T_58590_row4_col2\" class=\"data row4 col2\" >0.9650</td>\n",
       "                        <td id=\"T_58590_row4_col3\" class=\"data row4 col3\" >0.9075</td>\n",
       "                        <td id=\"T_58590_row4_col4\" class=\"data row4 col4\" >0.9354</td>\n",
       "                        <td id=\"T_58590_row4_col5\" class=\"data row4 col5\" >0.8947</td>\n",
       "                        <td id=\"T_58590_row4_col6\" class=\"data row4 col6\" >0.8958</td>\n",
       "            </tr>\n",
       "            <tr>\n",
       "                        <th id=\"T_58590_level0_row5\" class=\"row_heading level0 row5\" >5</th>\n",
       "                        <td id=\"T_58590_row5_col0\" class=\"data row5 col0\" >0.9545</td>\n",
       "                        <td id=\"T_58590_row5_col1\" class=\"data row5 col1\" >0.9879</td>\n",
       "                        <td id=\"T_58590_row5_col2\" class=\"data row5 col2\" >0.9771</td>\n",
       "                        <td id=\"T_58590_row5_col3\" class=\"data row5 col3\" >0.9086</td>\n",
       "                        <td id=\"T_58590_row5_col4\" class=\"data row5 col4\" >0.9416</td>\n",
       "                        <td id=\"T_58590_row5_col5\" class=\"data row5 col5\" >0.9045</td>\n",
       "                        <td id=\"T_58590_row5_col6\" class=\"data row5 col6\" >0.9061</td>\n",
       "            </tr>\n",
       "            <tr>\n",
       "                        <th id=\"T_58590_level0_row6\" class=\"row_heading level0 row6\" >6</th>\n",
       "                        <td id=\"T_58590_row6_col0\" class=\"data row6 col0\" >0.9419</td>\n",
       "                        <td id=\"T_58590_row6_col1\" class=\"data row6 col1\" >0.9821</td>\n",
       "                        <td id=\"T_58590_row6_col2\" class=\"data row6 col2\" >0.9630</td>\n",
       "                        <td id=\"T_58590_row6_col3\" class=\"data row6 col3\" >0.8910</td>\n",
       "                        <td id=\"T_58590_row6_col4\" class=\"data row6 col4\" >0.9256</td>\n",
       "                        <td id=\"T_58590_row6_col5\" class=\"data row6 col5\" >0.8780</td>\n",
       "                        <td id=\"T_58590_row6_col6\" class=\"data row6 col6\" >0.8798</td>\n",
       "            </tr>\n",
       "            <tr>\n",
       "                        <th id=\"T_58590_level0_row7\" class=\"row_heading level0 row7\" >7</th>\n",
       "                        <td id=\"T_58590_row7_col0\" class=\"data row7 col0\" >0.9452</td>\n",
       "                        <td id=\"T_58590_row7_col1\" class=\"data row7 col1\" >0.9826</td>\n",
       "                        <td id=\"T_58590_row7_col2\" class=\"data row7 col2\" >0.9637</td>\n",
       "                        <td id=\"T_58590_row7_col3\" class=\"data row7 col3\" >0.8978</td>\n",
       "                        <td id=\"T_58590_row7_col4\" class=\"data row7 col4\" >0.9296</td>\n",
       "                        <td id=\"T_58590_row7_col5\" class=\"data row7 col5\" >0.8848</td>\n",
       "                        <td id=\"T_58590_row7_col6\" class=\"data row7 col6\" >0.8863</td>\n",
       "            </tr>\n",
       "            <tr>\n",
       "                        <th id=\"T_58590_level0_row8\" class=\"row_heading level0 row8\" >8</th>\n",
       "                        <td id=\"T_58590_row8_col0\" class=\"data row8 col0\" >0.9452</td>\n",
       "                        <td id=\"T_58590_row8_col1\" class=\"data row8 col1\" >0.9807</td>\n",
       "                        <td id=\"T_58590_row8_col2\" class=\"data row8 col2\" >0.9522</td>\n",
       "                        <td id=\"T_58590_row8_col3\" class=\"data row8 col3\" >0.9064</td>\n",
       "                        <td id=\"T_58590_row8_col4\" class=\"data row8 col4\" >0.9287</td>\n",
       "                        <td id=\"T_58590_row8_col5\" class=\"data row8 col5\" >0.8842</td>\n",
       "                        <td id=\"T_58590_row8_col6\" class=\"data row8 col6\" >0.8849</td>\n",
       "            </tr>\n",
       "            <tr>\n",
       "                        <th id=\"T_58590_level0_row9\" class=\"row_heading level0 row9\" >9</th>\n",
       "                        <td id=\"T_58590_row9_col0\" class=\"data row9 col0\" >0.9480</td>\n",
       "                        <td id=\"T_58590_row9_col1\" class=\"data row9 col1\" >0.9840</td>\n",
       "                        <td id=\"T_58590_row9_col2\" class=\"data row9 col2\" >0.9657</td>\n",
       "                        <td id=\"T_58590_row9_col3\" class=\"data row9 col3\" >0.9025</td>\n",
       "                        <td id=\"T_58590_row9_col4\" class=\"data row9 col4\" >0.9330</td>\n",
       "                        <td id=\"T_58590_row9_col5\" class=\"data row9 col5\" >0.8905</td>\n",
       "                        <td id=\"T_58590_row9_col6\" class=\"data row9 col6\" >0.8919</td>\n",
       "            </tr>\n",
       "            <tr>\n",
       "                        <th id=\"T_58590_level0_row10\" class=\"row_heading level0 row10\" >Mean</th>\n",
       "                        <td id=\"T_58590_row10_col0\" class=\"data row10 col0\" >0.9501</td>\n",
       "                        <td id=\"T_58590_row10_col1\" class=\"data row10 col1\" >0.9846</td>\n",
       "                        <td id=\"T_58590_row10_col2\" class=\"data row10 col2\" >0.9657</td>\n",
       "                        <td id=\"T_58590_row10_col3\" class=\"data row10 col3\" >0.9074</td>\n",
       "                        <td id=\"T_58590_row10_col4\" class=\"data row10 col4\" >0.9356</td>\n",
       "                        <td id=\"T_58590_row10_col5\" class=\"data row10 col5\" >0.8949</td>\n",
       "                        <td id=\"T_58590_row10_col6\" class=\"data row10 col6\" >0.8961</td>\n",
       "            </tr>\n",
       "            <tr>\n",
       "                        <th id=\"T_58590_level0_row11\" class=\"row_heading level0 row11\" >SD</th>\n",
       "                        <td id=\"T_58590_row11_col0\" class=\"data row11 col0\" >0.0048</td>\n",
       "                        <td id=\"T_58590_row11_col1\" class=\"data row11 col1\" >0.0025</td>\n",
       "                        <td id=\"T_58590_row11_col2\" class=\"data row11 col2\" >0.0065</td>\n",
       "                        <td id=\"T_58590_row11_col3\" class=\"data row11 col3\" >0.0086</td>\n",
       "                        <td id=\"T_58590_row11_col4\" class=\"data row11 col4\" >0.0061</td>\n",
       "                        <td id=\"T_58590_row11_col5\" class=\"data row11 col5\" >0.0100</td>\n",
       "                        <td id=\"T_58590_row11_col6\" class=\"data row11 col6\" >0.0099</td>\n",
       "            </tr>\n",
       "    </tbody></table>"
      ],
      "text/plain": [
       "<pandas.io.formats.style.Styler at 0x16d78c3fd60>"
      ]
     },
     "metadata": {},
     "output_type": "display_data"
    }
   ],
   "source": [
    "rf = create_model('rf')"
   ]
  },
  {
   "cell_type": "code",
   "execution_count": 66,
   "id": "50e682dc",
   "metadata": {},
   "outputs": [
    {
     "name": "stdout",
     "output_type": "stream",
     "text": [
      "RandomForestClassifier(bootstrap=True, ccp_alpha=0.0, class_weight=None,\n",
      "                       criterion='gini', max_depth=None, max_features='auto',\n",
      "                       max_leaf_nodes=None, max_samples=None,\n",
      "                       min_impurity_decrease=0.0, min_impurity_split=None,\n",
      "                       min_samples_leaf=1, min_samples_split=2,\n",
      "                       min_weight_fraction_leaf=0.0, n_estimators=100,\n",
      "                       n_jobs=-1, oob_score=False, random_state=123, verbose=0,\n",
      "                       warm_start=False)\n"
     ]
    }
   ],
   "source": [
    "print(rf)"
   ]
  },
  {
   "cell_type": "code",
   "execution_count": 51,
   "id": "5f6ce3bb",
   "metadata": {
    "scrolled": false
   },
   "outputs": [
    {
     "data": {
      "image/png": "[encoded data removed]",
      "text/plain": [
       "<Figure size 576x396 with 1 Axes>"
      ]
     },
     "metadata": {},
     "output_type": "display_data"
    }
   ],
   "source": [
    "plot_model(estimator = rf, plot = 'vc') #revisar"
   ]
  },
  {
   "cell_type": "code",
   "execution_count": 52,
   "id": "6d718c78",
   "metadata": {},
   "outputs": [
    {
     "data": {
      "image/png": "[encoded data removed]",
      "text/plain": [
       "<Figure size 576x396 with 1 Axes>"
      ]
     },
     "metadata": {},
     "output_type": "display_data"
    }
   ],
   "source": [
    "plot_model(rf, plot = 'confusion_matrix')"
   ]
  },
  {
   "cell_type": "code",
   "execution_count": 53,
   "id": "95997356",
   "metadata": {},
   "outputs": [
    {
     "data": {
      "image/png": "[encoded data removed]",
      "text/plain": [
       "<Figure size 576x396 with 1 Axes>"
      ]
     },
     "metadata": {},
     "output_type": "display_data"
    }
   ],
   "source": [
    "plot_model(rf, plot = 'auc')"
   ]
  },
  {
   "cell_type": "code",
   "execution_count": 49,
   "id": "4daff34e",
   "metadata": {
    "scrolled": false
   },
   "outputs": [
    {
     "data": {
      "image/png": "[encoded data removed]",
      "text/plain": [
       "<Figure size 800x500 with 1 Axes>"
      ]
     },
     "metadata": {},
     "output_type": "display_data"
    }
   ],
   "source": [
    "plot_model(rf, plot = 'feature')"
   ]
  },
  {
   "cell_type": "code",
   "execution_count": null,
   "id": "e9fd3236",
   "metadata": {},
   "outputs": [],
   "source": [
    "#evaluate_model(rf)"
   ]
  },
  {
   "cell_type": "markdown",
   "id": "4933fe30",
   "metadata": {},
   "source": [
    "## Auto_Mod"
   ]
  },
  {
   "cell_type": "code",
   "execution_count": null,
   "id": "3dbe8bf8",
   "metadata": {},
   "outputs": [],
   "source": [
    "# auto_mod = setup(data = df_over,  target = 'y')\n",
    "\n",
    "# top3 = compare_models(n_select = 2)\n",
    "# tuned_top3 = [tune_model(i) for i in top3]\n",
    "# blender = blend_models(tuned_top3)\n",
    "# stacker = stack_models(tuned_top3)\n",
    "# best_f1_model = automl(optimize = 'F1')"
   ]
  },
  {
   "cell_type": "markdown",
   "id": "412b932e",
   "metadata": {},
   "source": [
    "# Optimizando Hiperparametros\n",
    "### por F1"
   ]
  },
  {
   "cell_type": "code",
   "execution_count": 65,
   "id": "c535d2af",
   "metadata": {},
   "outputs": [
    {
     "data": {
      "text/html": [
       "<style  type=\"text/css\" >\n",
       "#T_153db_row10_col0,#T_153db_row10_col1,#T_153db_row10_col2,#T_153db_row10_col3,#T_153db_row10_col4,#T_153db_row10_col5,#T_153db_row10_col6{\n",
       "            background:  yellow;\n",
       "        }</style><table id=\"T_153db_\" ><thead>    <tr>        <th class=\"blank level0\" ></th>        <th class=\"col_heading level0 col0\" >Accuracy</th>        <th class=\"col_heading level0 col1\" >AUC</th>        <th class=\"col_heading level0 col2\" >Recall</th>        <th class=\"col_heading level0 col3\" >Prec.</th>        <th class=\"col_heading level0 col4\" >F1</th>        <th class=\"col_heading level0 col5\" >Kappa</th>        <th class=\"col_heading level0 col6\" >MCC</th>    </tr></thead><tbody>\n",
       "                <tr>\n",
       "                        <th id=\"T_153db_level0_row0\" class=\"row_heading level0 row0\" >0</th>\n",
       "                        <td id=\"T_153db_row0_col0\" class=\"data row0 col0\" >0.7229</td>\n",
       "                        <td id=\"T_153db_row0_col1\" class=\"data row0 col1\" >0.7486</td>\n",
       "                        <td id=\"T_153db_row0_col2\" class=\"data row0 col2\" >0.5960</td>\n",
       "                        <td id=\"T_153db_row0_col3\" class=\"data row0 col3\" >0.6404</td>\n",
       "                        <td id=\"T_153db_row0_col4\" class=\"data row0 col4\" >0.6174</td>\n",
       "                        <td id=\"T_153db_row0_col5\" class=\"data row0 col5\" >0.4006</td>\n",
       "                        <td id=\"T_153db_row0_col6\" class=\"data row0 col6\" >0.4013</td>\n",
       "            </tr>\n",
       "            <tr>\n",
       "                        <th id=\"T_153db_level0_row1\" class=\"row_heading level0 row1\" >1</th>\n",
       "                        <td id=\"T_153db_row1_col0\" class=\"data row1 col0\" >0.7252</td>\n",
       "                        <td id=\"T_153db_row1_col1\" class=\"data row1 col1\" >0.7408</td>\n",
       "                        <td id=\"T_153db_row1_col2\" class=\"data row1 col2\" >0.5603</td>\n",
       "                        <td id=\"T_153db_row1_col3\" class=\"data row1 col3\" >0.6567</td>\n",
       "                        <td id=\"T_153db_row1_col4\" class=\"data row1 col4\" >0.6047</td>\n",
       "                        <td id=\"T_153db_row1_col5\" class=\"data row1 col5\" >0.3961</td>\n",
       "                        <td id=\"T_153db_row1_col6\" class=\"data row1 col6\" >0.3990</td>\n",
       "            </tr>\n",
       "            <tr>\n",
       "                        <th id=\"T_153db_level0_row2\" class=\"row_heading level0 row2\" >2</th>\n",
       "                        <td id=\"T_153db_row2_col0\" class=\"data row2 col0\" >0.7272</td>\n",
       "                        <td id=\"T_153db_row2_col1\" class=\"data row2 col1\" >0.7529</td>\n",
       "                        <td id=\"T_153db_row2_col2\" class=\"data row2 col2\" >0.5697</td>\n",
       "                        <td id=\"T_153db_row2_col3\" class=\"data row2 col3\" >0.6573</td>\n",
       "                        <td id=\"T_153db_row2_col4\" class=\"data row2 col4\" >0.6104</td>\n",
       "                        <td id=\"T_153db_row2_col5\" class=\"data row2 col5\" >0.4022</td>\n",
       "                        <td id=\"T_153db_row2_col6\" class=\"data row2 col6\" >0.4046</td>\n",
       "            </tr>\n",
       "            <tr>\n",
       "                        <th id=\"T_153db_level0_row3\" class=\"row_heading level0 row3\" >3</th>\n",
       "                        <td id=\"T_153db_row3_col0\" class=\"data row3 col0\" >0.7247</td>\n",
       "                        <td id=\"T_153db_row3_col1\" class=\"data row3 col1\" >0.7494</td>\n",
       "                        <td id=\"T_153db_row3_col2\" class=\"data row3 col2\" >0.5805</td>\n",
       "                        <td id=\"T_153db_row3_col3\" class=\"data row3 col3\" >0.6486</td>\n",
       "                        <td id=\"T_153db_row3_col4\" class=\"data row3 col4\" >0.6127</td>\n",
       "                        <td id=\"T_153db_row3_col5\" class=\"data row3 col5\" >0.4001</td>\n",
       "                        <td id=\"T_153db_row3_col6\" class=\"data row3 col6\" >0.4016</td>\n",
       "            </tr>\n",
       "            <tr>\n",
       "                        <th id=\"T_153db_level0_row4\" class=\"row_heading level0 row4\" >4</th>\n",
       "                        <td id=\"T_153db_row4_col0\" class=\"data row4 col0\" >0.7275</td>\n",
       "                        <td id=\"T_153db_row4_col1\" class=\"data row4 col1\" >0.7446</td>\n",
       "                        <td id=\"T_153db_row4_col2\" class=\"data row4 col2\" >0.5811</td>\n",
       "                        <td id=\"T_153db_row4_col3\" class=\"data row4 col3\" >0.6538</td>\n",
       "                        <td id=\"T_153db_row4_col4\" class=\"data row4 col4\" >0.6153</td>\n",
       "                        <td id=\"T_153db_row4_col5\" class=\"data row4 col5\" >0.4054</td>\n",
       "                        <td id=\"T_153db_row4_col6\" class=\"data row4 col6\" >0.4071</td>\n",
       "            </tr>\n",
       "            <tr>\n",
       "                        <th id=\"T_153db_level0_row5\" class=\"row_heading level0 row5\" >5</th>\n",
       "                        <td id=\"T_153db_row5_col0\" class=\"data row5 col0\" >0.7270</td>\n",
       "                        <td id=\"T_153db_row5_col1\" class=\"data row5 col1\" >0.7460</td>\n",
       "                        <td id=\"T_153db_row5_col2\" class=\"data row5 col2\" >0.5811</td>\n",
       "                        <td id=\"T_153db_row5_col3\" class=\"data row5 col3\" >0.6528</td>\n",
       "                        <td id=\"T_153db_row5_col4\" class=\"data row5 col4\" >0.6149</td>\n",
       "                        <td id=\"T_153db_row5_col5\" class=\"data row5 col5\" >0.4045</td>\n",
       "                        <td id=\"T_153db_row5_col6\" class=\"data row5 col6\" >0.4061</td>\n",
       "            </tr>\n",
       "            <tr>\n",
       "                        <th id=\"T_153db_level0_row6\" class=\"row_heading level0 row6\" >6</th>\n",
       "                        <td id=\"T_153db_row6_col0\" class=\"data row6 col0\" >0.7110</td>\n",
       "                        <td id=\"T_153db_row6_col1\" class=\"data row6 col1\" >0.7312</td>\n",
       "                        <td id=\"T_153db_row6_col2\" class=\"data row6 col2\" >0.5697</td>\n",
       "                        <td id=\"T_153db_row6_col3\" class=\"data row6 col3\" >0.6262</td>\n",
       "                        <td id=\"T_153db_row6_col4\" class=\"data row6 col4\" >0.5966</td>\n",
       "                        <td id=\"T_153db_row6_col5\" class=\"data row6 col5\" >0.3723</td>\n",
       "                        <td id=\"T_153db_row6_col6\" class=\"data row6 col6\" >0.3733</td>\n",
       "            </tr>\n",
       "            <tr>\n",
       "                        <th id=\"T_153db_level0_row7\" class=\"row_heading level0 row7\" >7</th>\n",
       "                        <td id=\"T_153db_row7_col0\" class=\"data row7 col0\" >0.7168</td>\n",
       "                        <td id=\"T_153db_row7_col1\" class=\"data row7 col1\" >0.7376</td>\n",
       "                        <td id=\"T_153db_row7_col2\" class=\"data row7 col2\" >0.5619</td>\n",
       "                        <td id=\"T_153db_row7_col3\" class=\"data row7 col3\" >0.6398</td>\n",
       "                        <td id=\"T_153db_row7_col4\" class=\"data row7 col4\" >0.5984</td>\n",
       "                        <td id=\"T_153db_row7_col5\" class=\"data row7 col5\" >0.3811</td>\n",
       "                        <td id=\"T_153db_row7_col6\" class=\"data row7 col6\" >0.3830</td>\n",
       "            </tr>\n",
       "            <tr>\n",
       "                        <th id=\"T_153db_level0_row8\" class=\"row_heading level0 row8\" >8</th>\n",
       "                        <td id=\"T_153db_row8_col0\" class=\"data row8 col0\" >0.7244</td>\n",
       "                        <td id=\"T_153db_row8_col1\" class=\"data row8 col1\" >0.7413</td>\n",
       "                        <td id=\"T_153db_row8_col2\" class=\"data row8 col2\" >0.5717</td>\n",
       "                        <td id=\"T_153db_row8_col3\" class=\"data row8 col3\" >0.6511</td>\n",
       "                        <td id=\"T_153db_row8_col4\" class=\"data row8 col4\" >0.6088</td>\n",
       "                        <td id=\"T_153db_row8_col5\" class=\"data row8 col5\" >0.3974</td>\n",
       "                        <td id=\"T_153db_row8_col6\" class=\"data row8 col6\" >0.3994</td>\n",
       "            </tr>\n",
       "            <tr>\n",
       "                        <th id=\"T_153db_level0_row9\" class=\"row_heading level0 row9\" >9</th>\n",
       "                        <td id=\"T_153db_row9_col0\" class=\"data row9 col0\" >0.7170</td>\n",
       "                        <td id=\"T_153db_row9_col1\" class=\"data row9 col1\" >0.7380</td>\n",
       "                        <td id=\"T_153db_row9_col2\" class=\"data row9 col2\" >0.5684</td>\n",
       "                        <td id=\"T_153db_row9_col3\" class=\"data row9 col3\" >0.6379</td>\n",
       "                        <td id=\"T_153db_row9_col4\" class=\"data row9 col4\" >0.6011</td>\n",
       "                        <td id=\"T_153db_row9_col5\" class=\"data row9 col5\" >0.3830</td>\n",
       "                        <td id=\"T_153db_row9_col6\" class=\"data row9 col6\" >0.3845</td>\n",
       "            </tr>\n",
       "            <tr>\n",
       "                        <th id=\"T_153db_level0_row10\" class=\"row_heading level0 row10\" >Mean</th>\n",
       "                        <td id=\"T_153db_row10_col0\" class=\"data row10 col0\" >0.7224</td>\n",
       "                        <td id=\"T_153db_row10_col1\" class=\"data row10 col1\" >0.7430</td>\n",
       "                        <td id=\"T_153db_row10_col2\" class=\"data row10 col2\" >0.5740</td>\n",
       "                        <td id=\"T_153db_row10_col3\" class=\"data row10 col3\" >0.6465</td>\n",
       "                        <td id=\"T_153db_row10_col4\" class=\"data row10 col4\" >0.6080</td>\n",
       "                        <td id=\"T_153db_row10_col5\" class=\"data row10 col5\" >0.3943</td>\n",
       "                        <td id=\"T_153db_row10_col6\" class=\"data row10 col6\" >0.3960</td>\n",
       "            </tr>\n",
       "            <tr>\n",
       "                        <th id=\"T_153db_level0_row11\" class=\"row_heading level0 row11\" >SD</th>\n",
       "                        <td id=\"T_153db_row11_col0\" class=\"data row11 col0\" >0.0052</td>\n",
       "                        <td id=\"T_153db_row11_col1\" class=\"data row11 col1\" >0.0062</td>\n",
       "                        <td id=\"T_153db_row11_col2\" class=\"data row11 col2\" >0.0102</td>\n",
       "                        <td id=\"T_153db_row11_col3\" class=\"data row11 col3\" >0.0095</td>\n",
       "                        <td id=\"T_153db_row11_col4\" class=\"data row11 col4\" >0.0071</td>\n",
       "                        <td id=\"T_153db_row11_col5\" class=\"data row11 col5\" >0.0108</td>\n",
       "                        <td id=\"T_153db_row11_col6\" class=\"data row11 col6\" >0.0109</td>\n",
       "            </tr>\n",
       "    </tbody></table>"
      ],
      "text/plain": [
       "<pandas.io.formats.style.Styler at 0x16d04dd7bb0>"
      ]
     },
     "metadata": {},
     "output_type": "display_data"
    }
   ],
   "source": [
    "tuned_rf = tune_model(rf,optimize ='F1')"
   ]
  },
  {
   "cell_type": "markdown",
   "id": "068536ba",
   "metadata": {},
   "source": [
    "Optimizacion empeora el modelo con hiperparametros por defecto"
   ]
  },
  {
   "cell_type": "code",
   "execution_count": null,
   "id": "f0abacfa",
   "metadata": {
    "scrolled": false
   },
   "outputs": [],
   "source": [
    "print(tuned_rf)"
   ]
  },
  {
   "cell_type": "markdown",
   "id": "120272a2",
   "metadata": {},
   "source": [
    "# Prediccion"
   ]
  },
  {
   "cell_type": "code",
   "execution_count": 54,
   "id": "fa9379fb",
   "metadata": {
    "scrolled": false
   },
   "outputs": [
    {
     "data": {
      "text/html": [
       "<style  type=\"text/css\" >\n",
       "</style><table id=\"T_6df43_\" ><thead>    <tr>        <th class=\"blank level0\" ></th>        <th class=\"col_heading level0 col0\" >Model</th>        <th class=\"col_heading level0 col1\" >Accuracy</th>        <th class=\"col_heading level0 col2\" >AUC</th>        <th class=\"col_heading level0 col3\" >Recall</th>        <th class=\"col_heading level0 col4\" >Prec.</th>        <th class=\"col_heading level0 col5\" >F1</th>        <th class=\"col_heading level0 col6\" >Kappa</th>        <th class=\"col_heading level0 col7\" >MCC</th>    </tr></thead><tbody>\n",
       "                <tr>\n",
       "                        <th id=\"T_6df43_level0_row0\" class=\"row_heading level0 row0\" >0</th>\n",
       "                        <td id=\"T_6df43_row0_col0\" class=\"data row0 col0\" >Random Forest Classifier</td>\n",
       "                        <td id=\"T_6df43_row0_col1\" class=\"data row0 col1\" >0.9597</td>\n",
       "                        <td id=\"T_6df43_row0_col2\" class=\"data row0 col2\" >0.9909</td>\n",
       "                        <td id=\"T_6df43_row0_col3\" class=\"data row0 col3\" >0.9824</td>\n",
       "                        <td id=\"T_6df43_row0_col4\" class=\"data row0 col4\" >0.9162</td>\n",
       "                        <td id=\"T_6df43_row0_col5\" class=\"data row0 col5\" >0.9482</td>\n",
       "                        <td id=\"T_6df43_row0_col6\" class=\"data row0 col6\" >0.9153</td>\n",
       "                        <td id=\"T_6df43_row0_col7\" class=\"data row0 col7\" >0.9168</td>\n",
       "            </tr>\n",
       "    </tbody></table>"
      ],
      "text/plain": [
       "<pandas.io.formats.style.Styler at 0x16d788b9b20>"
      ]
     },
     "metadata": {},
     "output_type": "display_data"
    }
   ],
   "source": [
    "predict_model(rf);"
   ]
  },
  {
   "cell_type": "code",
   "execution_count": 55,
   "id": "b9fa8289",
   "metadata": {
    "scrolled": false
   },
   "outputs": [
    {
     "name": "stdout",
     "output_type": "stream",
     "text": [
      "RandomForestClassifier(bootstrap=True, ccp_alpha=0.0, class_weight=None,\n",
      "                       criterion='gini', max_depth=None, max_features='auto',\n",
      "                       max_leaf_nodes=None, max_samples=None,\n",
      "                       min_impurity_decrease=0.0, min_impurity_split=None,\n",
      "                       min_samples_leaf=1, min_samples_split=2,\n",
      "                       min_weight_fraction_leaf=0.0, n_estimators=100,\n",
      "                       n_jobs=-1, oob_score=False, random_state=123, verbose=0,\n",
      "                       warm_start=False)\n"
     ]
    }
   ],
   "source": [
    "rf_final = finalize_model(rf)\n",
    "#Parámetros finales del modelo Random Forest para su despliegue a producción\n",
    "print(rf_final)"
   ]
  },
  {
   "cell_type": "markdown",
   "id": "e39ba689",
   "metadata": {},
   "source": [
    "    Al utilizar pycaret no es recomendable utilizar el predict luego de finalizar, dado que estariamos intentando predecir los mismo datos que entrenamos."
   ]
  },
  {
   "cell_type": "markdown",
   "id": "0ab5b00d",
   "metadata": {},
   "source": [
    "# Testeando resultados."
   ]
  },
  {
   "cell_type": "code",
   "execution_count": 56,
   "id": "441eb0ee",
   "metadata": {
    "scrolled": false
   },
   "outputs": [
    {
     "name": "stdout",
     "output_type": "stream",
     "text": [
      "<class 'pandas.core.frame.DataFrame'>\n",
      "RangeIndex: 5210 entries, 0 to 5209\n",
      "Data columns (total 26 columns):\n",
      " #   Column             Non-Null Count  Dtype  \n",
      "---  ------             --------------  -----  \n",
      " 0   age                5210 non-null   float64\n",
      " 1   balance            5210 non-null   float64\n",
      " 2   campaign           5210 non-null   float64\n",
      " 3   pdays              5210 non-null   float64\n",
      " 4   previous           5210 non-null   float64\n",
      " 5   education          5210 non-null   int64  \n",
      " 6   default            5210 non-null   int64  \n",
      " 7   housing            5210 non-null   int64  \n",
      " 8   loan               5210 non-null   int64  \n",
      " 9   contact            5210 non-null   int64  \n",
      " 10  day                5210 non-null   int64  \n",
      " 11  month              5210 non-null   int64  \n",
      " 12  job_blue-collar    5210 non-null   uint8  \n",
      " 13  job_entrepreneur   5210 non-null   uint8  \n",
      " 14  job_housemaid      5210 non-null   uint8  \n",
      " 15  job_management     5210 non-null   uint8  \n",
      " 16  job_retired        5210 non-null   uint8  \n",
      " 17  job_self-employed  5210 non-null   uint8  \n",
      " 18  job_services       5210 non-null   uint8  \n",
      " 19  job_student        5210 non-null   uint8  \n",
      " 20  job_technician     5210 non-null   uint8  \n",
      " 21  job_unemployed     5210 non-null   uint8  \n",
      " 22  marital_married    5210 non-null   uint8  \n",
      " 23  marital_single     5210 non-null   uint8  \n",
      " 24  Label              5210 non-null   int32  \n",
      " 25  Score              5210 non-null   float64\n",
      "dtypes: float64(6), int32(1), int64(7), uint8(12)\n",
      "memory usage: 610.7 KB\n"
     ]
    }
   ],
   "source": [
    "test_predictions = predict_model(rf_final, data = df_test_trans)\n",
    "test_predictions.info()"
   ]
  },
  {
   "cell_type": "markdown",
   "id": "727a9b12",
   "metadata": {},
   "source": [
    "# Resultado"
   ]
  },
  {
   "cell_type": "code",
   "execution_count": 57,
   "id": "9a4d8866",
   "metadata": {
    "scrolled": false
   },
   "outputs": [
    {
     "data": {
      "text/plain": [
       "0.9478"
      ]
     },
     "execution_count": 57,
     "metadata": {},
     "output_type": "execute_result"
    }
   ],
   "source": [
    "from pycaret.utils import check_metric\n",
    "check_metric(test_predictions['default'], test_predictions['Label'], metric = 'Accuracy')"
   ]
  },
  {
   "cell_type": "code",
   "execution_count": 68,
   "id": "99628698",
   "metadata": {},
   "outputs": [
    {
     "data": {
      "text/plain": [
       "0.0"
      ]
     },
     "execution_count": 68,
     "metadata": {},
     "output_type": "execute_result"
    }
   ],
   "source": [
    "check_metric(test_predictions['default'], test_predictions['Label'], metric = 'F1')"
   ]
  },
  {
   "cell_type": "code",
   "execution_count": 77,
   "id": "b94bd2af",
   "metadata": {},
   "outputs": [
    {
     "data": {
      "text/plain": [
       "0.0"
      ]
     },
     "execution_count": 77,
     "metadata": {},
     "output_type": "execute_result"
    }
   ],
   "source": [
    "check_metric(test_predictions.default, test_predictions.Label, metric = 'Recall')"
   ]
  },
  {
   "cell_type": "code",
   "execution_count": 74,
   "id": "ad241ab7",
   "metadata": {},
   "outputs": [
    {
     "name": "stdout",
     "output_type": "stream",
     "text": [
      "Confidence Score :   0.79\n"
     ]
    }
   ],
   "source": [
    "print(\"Confidence Score :   {}\".format(round(test_predictions.Score.mean(),2)))#Confidence Score"
   ]
  },
  {
   "cell_type": "markdown",
   "id": "70d44347",
   "metadata": {},
   "source": [
    "# Guardando datos para carga"
   ]
  },
  {
   "cell_type": "code",
   "execution_count": null,
   "id": "6084c22e",
   "metadata": {},
   "outputs": [],
   "source": [
    "test_predictions['Label'].replace([1,0],['yes','no'],inplace=True)"
   ]
  },
  {
   "cell_type": "code",
   "execution_count": null,
   "id": "3d3861cf",
   "metadata": {},
   "outputs": [],
   "source": [
    "label = test_predictions[['Label']]"
   ]
  },
  {
   "cell_type": "code",
   "execution_count": null,
   "id": "177a2b34",
   "metadata": {},
   "outputs": [],
   "source": [
    "label.to_csv('example_bagged.csv',index=False , header = False )"
   ]
  }
 ],
 "metadata": {
  "kernelspec": {
   "display_name": "Python 3",
   "language": "python",
   "name": "python3"
  },
  "language_info": {
   "codemirror_mode": {
    "name": "ipython",
    "version": 3
   },
   "file_extension": ".py",
   "mimetype": "text/x-python",
   "name": "python",
   "nbconvert_exporter": "python",
   "pygments_lexer": "ipython3",
   "version": "3.8.8"
  }
 },
 "nbformat": 4,
 "nbformat_minor": 5
}
