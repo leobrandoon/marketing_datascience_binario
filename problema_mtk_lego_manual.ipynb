{
 "cells": [
  {
   "cell_type": "markdown",
   "id": "b224bdde",
   "metadata": {},
   "source": [
    "# Descripción\n",
    "   ### Los datos están relacionados con campañas de marketing directo de una institución bancaria. Las campañas de marketing se basaron en llamadas telefónicas. A menudo, se requería más de un contacto con el mismo cliente, para poder acceder si el producto (depósito a plazo bancario) estaría ('sí') o no ('no') suscrito.\n",
    "\n",
    "\n",
    "    Reglas y método de evaluación\n",
    "    \n",
    "    El desafío consistirá en que cada grupo formado deberá entregar un arreglo con los resultados ('yes' o 'no') y se medirá la medida de desempeño F1 score (macro).\n",
    "    \n",
    "    EL archivo de entrega debe ser en formato csv sin indice. Debe ser una sola columna con valores ´yes´ o ´no´ en 5210 filas\n",
    "\n",
    "\n",
    "#### Variables de entrada:\n",
    "\n",
    "# datos del cliente bancario:\n",
    "1 - edad (numérico)\n",
    "\n",
    "2 - trabajo: tipo de trabajo (categórico: 'admin.', 'Obrero', 'emprendedor', 'empleada doméstica', 'gerencia', 'jubilado', 'autónomo', 'servicios', 'estudiante' , 'técnico', 'desempleado', 'desconocido')\n",
    "\n",
    "3 - marital: estado civil (categórico: 'divorciado', 'casado', 'soltero', 'desconocido'; nota: 'divorciado' significa divorciado o viudo)\n",
    "\n",
    "4 - educación (categórica: 'básico.4y', 'básico.6y', 'básico.9y', 'escuela secundaria', 'analfabeto', 'curso.profesional', 'título universitario', 'desconocido')\n",
    "\n",
    "5 - incumplimiento: ¿tiene crédito en incumplimiento? (categórico: 'no', 'sí', 'desconocido')\n",
    "\n",
    "6 - vivienda: ¿tiene préstamo para vivienda? (categórico: 'no', 'sí', 'desconocido')\n",
    "\n",
    "7 - préstamo: ¿tiene préstamo personal? (categórico: 'no', 'sí', 'desconocido')\n",
    "\n",
    "# relacionado con el último contacto de la campaña actual:\n",
    "\n",
    "8 - contacto: tipo de comunicación de contacto (categórico: 'celular', 'teléfono')\n",
    "\n",
    "9 - mes: último mes de contacto del año (categórico: 'jan', 'feb', 'mar', ..., 'nov', 'dec')\n",
    "\n",
    "10 - day_of_week: último día de contacto de la semana (categórico: 'lun', 'tue', 'mié', 'jue', 'vie')\n",
    "\n",
    "11 - duración: duración del último contacto, en segundos (numérico). Nota importante: este atributo afecta en gran medida el objetivo de salida (por ejemplo, si duración = 0, entonces y = 'no'). Sin embargo, se desconoce la duración antes de realizar una llamada. Además, después de la finalización de la llamada y, obviamente, se conoce. Por lo tanto, esta entrada solo debe incluirse con fines de referencia y debe descartarse si la intención es tener un modelo predictivo realista.\n",
    "\n",
    "# otros atributos:\n",
    "\n",
    "12 - campaña: número de contactos realizados durante esta campaña y para este cliente (numérico, incluye último contacto)\n",
    "\n",
    "13 - pdays: número de días que pasaron después de que el cliente fue contactado por última vez desde una campaña anterior (numérico; 999 significa que el cliente no fue contactado previamente)\n",
    "\n",
    "14 - anterior: número de contactos realizados antes de esta campaña y para este cliente (numérico)\n",
    "\n",
    "15 - poutcome: resultado de la campaña de marketing anterior (categórico: 'fracaso', 'inexistente', 'éxito')\n",
    "\n",
    "Variable de salida (objetivo deseado):\n",
    "\n",
    "21 - y - ¿el cliente ha suscrito un depósito a plazo? (binario: 'sí', 'no')\n"
   ]
  },
  {
   "cell_type": "markdown",
   "id": "26c3dd6e",
   "metadata": {},
   "source": [
    "# Comenzando"
   ]
  },
  {
   "cell_type": "code",
   "execution_count": 35,
   "id": "e00eafb3",
   "metadata": {},
   "outputs": [],
   "source": [
    "import numpy as np\n",
    "import pandas as pd\n",
    "import pylab as plt\n",
    "from scipy.optimize import curve_fit\n",
    "import matplotlib.pyplot as plt\n",
    "import seaborn as sns\n",
    "from sklearn import preprocessing\n",
    "\n",
    "\n",
    "from imblearn.over_sampling import RandomOverSampler\n",
    "import imblearn"
   ]
  },
  {
   "cell_type": "code",
   "execution_count": 36,
   "id": "2629e828",
   "metadata": {},
   "outputs": [],
   "source": [
    "df_train = pd.read_csv('Trainset.csv', index_col= 'Unnamed: 0')\n",
    "df_test = pd.read_csv('TestFeatures.csv')\n",
    "final = pd.read_csv('submission_example.csv')"
   ]
  },
  {
   "cell_type": "code",
   "execution_count": 37,
   "id": "7f3efed6",
   "metadata": {},
   "outputs": [
    {
     "name": "stdout",
     "output_type": "stream",
     "text": [
      "<class 'pandas.core.frame.DataFrame'>\n",
      "Int64Index: 40000 entries, 0 to 39999\n",
      "Data columns (total 17 columns):\n",
      " #   Column     Non-Null Count  Dtype \n",
      "---  ------     --------------  ----- \n",
      " 0   age        40000 non-null  int64 \n",
      " 1   job        40000 non-null  object\n",
      " 2   marital    40000 non-null  object\n",
      " 3   education  40000 non-null  object\n",
      " 4   default    40000 non-null  object\n",
      " 5   balance    40000 non-null  int64 \n",
      " 6   housing    40000 non-null  object\n",
      " 7   loan       40000 non-null  object\n",
      " 8   contact    40000 non-null  object\n",
      " 9   day        40000 non-null  int64 \n",
      " 10  month      40000 non-null  object\n",
      " 11  duration   40000 non-null  int64 \n",
      " 12  campaign   40000 non-null  int64 \n",
      " 13  pdays      40000 non-null  int64 \n",
      " 14  previous   40000 non-null  int64 \n",
      " 15  poutcome   40000 non-null  object\n",
      " 16  y          40000 non-null  object\n",
      "dtypes: int64(7), object(10)\n",
      "memory usage: 5.5+ MB\n"
     ]
    }
   ],
   "source": [
    "df_train.info()"
   ]
  },
  {
   "cell_type": "code",
   "execution_count": 38,
   "id": "826646c4",
   "metadata": {
    "scrolled": false
   },
   "outputs": [
    {
     "data": {
      "text/html": [
       "<div>\n",
       "<style scoped>\n",
       "    .dataframe tbody tr th:only-of-type {\n",
       "        vertical-align: middle;\n",
       "    }\n",
       "\n",
       "    .dataframe tbody tr th {\n",
       "        vertical-align: top;\n",
       "    }\n",
       "\n",
       "    .dataframe thead th {\n",
       "        text-align: right;\n",
       "    }\n",
       "</style>\n",
       "<table border=\"1\" class=\"dataframe\">\n",
       "  <thead>\n",
       "    <tr style=\"text-align: right;\">\n",
       "      <th></th>\n",
       "      <th>age</th>\n",
       "      <th>job</th>\n",
       "      <th>marital</th>\n",
       "      <th>education</th>\n",
       "      <th>default</th>\n",
       "      <th>balance</th>\n",
       "      <th>housing</th>\n",
       "      <th>loan</th>\n",
       "      <th>contact</th>\n",
       "      <th>day</th>\n",
       "      <th>month</th>\n",
       "      <th>duration</th>\n",
       "      <th>campaign</th>\n",
       "      <th>pdays</th>\n",
       "      <th>previous</th>\n",
       "      <th>poutcome</th>\n",
       "      <th>y</th>\n",
       "    </tr>\n",
       "  </thead>\n",
       "  <tbody>\n",
       "    <tr>\n",
       "      <th>0</th>\n",
       "      <td>46</td>\n",
       "      <td>management</td>\n",
       "      <td>single</td>\n",
       "      <td>tertiary</td>\n",
       "      <td>no</td>\n",
       "      <td>593</td>\n",
       "      <td>yes</td>\n",
       "      <td>no</td>\n",
       "      <td>cellular</td>\n",
       "      <td>29</td>\n",
       "      <td>jan</td>\n",
       "      <td>190</td>\n",
       "      <td>3</td>\n",
       "      <td>-1</td>\n",
       "      <td>0</td>\n",
       "      <td>unknown</td>\n",
       "      <td>no</td>\n",
       "    </tr>\n",
       "    <tr>\n",
       "      <th>1</th>\n",
       "      <td>42</td>\n",
       "      <td>admin.</td>\n",
       "      <td>married</td>\n",
       "      <td>tertiary</td>\n",
       "      <td>no</td>\n",
       "      <td>1536</td>\n",
       "      <td>no</td>\n",
       "      <td>no</td>\n",
       "      <td>cellular</td>\n",
       "      <td>6</td>\n",
       "      <td>aug</td>\n",
       "      <td>140</td>\n",
       "      <td>1</td>\n",
       "      <td>182</td>\n",
       "      <td>4</td>\n",
       "      <td>failure</td>\n",
       "      <td>no</td>\n",
       "    </tr>\n",
       "    <tr>\n",
       "      <th>2</th>\n",
       "      <td>33</td>\n",
       "      <td>blue-collar</td>\n",
       "      <td>married</td>\n",
       "      <td>secondary</td>\n",
       "      <td>no</td>\n",
       "      <td>370</td>\n",
       "      <td>yes</td>\n",
       "      <td>no</td>\n",
       "      <td>cellular</td>\n",
       "      <td>8</td>\n",
       "      <td>apr</td>\n",
       "      <td>249</td>\n",
       "      <td>1</td>\n",
       "      <td>-1</td>\n",
       "      <td>0</td>\n",
       "      <td>unknown</td>\n",
       "      <td>no</td>\n",
       "    </tr>\n",
       "    <tr>\n",
       "      <th>3</th>\n",
       "      <td>29</td>\n",
       "      <td>blue-collar</td>\n",
       "      <td>single</td>\n",
       "      <td>secondary</td>\n",
       "      <td>no</td>\n",
       "      <td>1472</td>\n",
       "      <td>no</td>\n",
       "      <td>no</td>\n",
       "      <td>cellular</td>\n",
       "      <td>18</td>\n",
       "      <td>may</td>\n",
       "      <td>246</td>\n",
       "      <td>2</td>\n",
       "      <td>-1</td>\n",
       "      <td>0</td>\n",
       "      <td>unknown</td>\n",
       "      <td>no</td>\n",
       "    </tr>\n",
       "    <tr>\n",
       "      <th>4</th>\n",
       "      <td>29</td>\n",
       "      <td>technician</td>\n",
       "      <td>married</td>\n",
       "      <td>secondary</td>\n",
       "      <td>no</td>\n",
       "      <td>767</td>\n",
       "      <td>yes</td>\n",
       "      <td>no</td>\n",
       "      <td>cellular</td>\n",
       "      <td>5</td>\n",
       "      <td>feb</td>\n",
       "      <td>253</td>\n",
       "      <td>1</td>\n",
       "      <td>-1</td>\n",
       "      <td>0</td>\n",
       "      <td>unknown</td>\n",
       "      <td>no</td>\n",
       "    </tr>\n",
       "  </tbody>\n",
       "</table>\n",
       "</div>"
      ],
      "text/plain": [
       "   age          job  marital  education default  balance housing loan  \\\n",
       "0   46   management   single   tertiary      no      593     yes   no   \n",
       "1   42       admin.  married   tertiary      no     1536      no   no   \n",
       "2   33  blue-collar  married  secondary      no      370     yes   no   \n",
       "3   29  blue-collar   single  secondary      no     1472      no   no   \n",
       "4   29   technician  married  secondary      no      767     yes   no   \n",
       "\n",
       "    contact  day month  duration  campaign  pdays  previous poutcome   y  \n",
       "0  cellular   29   jan       190         3     -1         0  unknown  no  \n",
       "1  cellular    6   aug       140         1    182         4  failure  no  \n",
       "2  cellular    8   apr       249         1     -1         0  unknown  no  \n",
       "3  cellular   18   may       246         2     -1         0  unknown  no  \n",
       "4  cellular    5   feb       253         1     -1         0  unknown  no  "
      ]
     },
     "execution_count": 38,
     "metadata": {},
     "output_type": "execute_result"
    }
   ],
   "source": [
    "df_train.head()"
   ]
  },
  {
   "cell_type": "markdown",
   "id": "f1848cbf",
   "metadata": {},
   "source": [
    "## Eliminar Columnas\n",
    "duration   \n",
    "\n"
   ]
  },
  {
   "cell_type": "code",
   "execution_count": 39,
   "id": "402367d5",
   "metadata": {
    "scrolled": false
   },
   "outputs": [],
   "source": [
    "df_train = df_train.drop(['duration'], axis=1)"
   ]
  },
  {
   "cell_type": "markdown",
   "id": "0ed8b6ce",
   "metadata": {},
   "source": [
    "## Distribution"
   ]
  },
  {
   "cell_type": "code",
   "execution_count": 40,
   "id": "bd972e8a",
   "metadata": {},
   "outputs": [
    {
     "data": {
      "text/plain": [
       "blue-collar      0.214075\n",
       "management       0.209575\n",
       "technician       0.169400\n",
       "admin.           0.115025\n",
       "services         0.091850\n",
       "retired          0.049625\n",
       "self-employed    0.034675\n",
       "entrepreneur     0.033150\n",
       "unemployed       0.028200\n",
       "housemaid        0.027200\n",
       "student          0.020775\n",
       "unknown          0.006450\n",
       "Name: job, dtype: float64"
      ]
     },
     "execution_count": 40,
     "metadata": {},
     "output_type": "execute_result"
    }
   ],
   "source": [
    "df_train['job'].value_counts()/df_train['poutcome'].shape[0]"
   ]
  },
  {
   "cell_type": "code",
   "execution_count": 41,
   "id": "eb19f0cc",
   "metadata": {},
   "outputs": [
    {
     "data": {
      "image/png": "[encoded data removed]",
      "text/plain": [
       "<Figure size 720x216 with 1 Axes>"
      ]
     },
     "metadata": {
      "needs_background": "light"
     },
     "output_type": "display_data"
    }
   ],
   "source": [
    "plt.figure(figsize = (10,3))\n",
    "sns.countplot(x=\"job\", data = df_train, hue =\"y\")\n",
    "plt.title(\"Job vs Count\")\n",
    "plt.xticks(rotation=90)\n",
    "plt.show()"
   ]
  },
  {
   "cell_type": "markdown",
   "id": "445ab35b",
   "metadata": {},
   "source": [
    "### Mayormente los usuarios NO tiene contratado el producto"
   ]
  },
  {
   "cell_type": "code",
   "execution_count": 42,
   "id": "812f48a7",
   "metadata": {
    "scrolled": false
   },
   "outputs": [],
   "source": [
    "# df_train.hist(figsize=(12,12), color = 'darkblue')\n",
    "# plt.show()"
   ]
  },
  {
   "cell_type": "code",
   "execution_count": 43,
   "id": "e375f590",
   "metadata": {},
   "outputs": [
    {
     "data": {
      "text/plain": [
       "array([ 1,  2,  3,  4,  5,  6,  7,  8,  9, 10, 11, 12, 13, 14, 15, 16, 17,\n",
       "       18, 19, 20, 21, 22, 23, 24, 25, 26, 27, 28, 29, 30, 31],\n",
       "      dtype=int64)"
      ]
     },
     "execution_count": 43,
     "metadata": {},
     "output_type": "execute_result"
    }
   ],
   "source": [
    "df_train['day'].sort_values(ascending= True).unique()"
   ]
  },
  {
   "cell_type": "code",
   "execution_count": 44,
   "id": "02b44c28",
   "metadata": {},
   "outputs": [
    {
     "data": {
      "image/png": "[encoded data removed]",
      "text/plain": [
       "<Figure size 360x360 with 1 Axes>"
      ]
     },
     "metadata": {
      "needs_background": "light"
     },
     "output_type": "display_data"
    },
    {
     "name": "stdout",
     "output_type": "stream",
     "text": [
      "-1      32715\n",
      " 182      138\n",
      " 92       128\n",
      " 183      113\n",
      " 91       108\n",
      " 181      103\n",
      " 370       86\n",
      " 184       74\n",
      " 364       71\n",
      " 350       67\n",
      "Name: pdays, dtype: int64\n"
     ]
    }
   ],
   "source": [
    "sns.displot(x=\"pdays\", data = df_train)\n",
    "plt.title(\"Job vs Count\")\n",
    "plt.xticks(rotation=90)\n",
    "plt.show()\n",
    "print(df_train.pdays.value_counts().sort_values(ascending= False).head(10))"
   ]
  },
  {
   "cell_type": "markdown",
   "id": "869c82cb",
   "metadata": {},
   "source": [
    "###### Aparentemente gran parte de los clientes fueron por eso haremos una transformacion a los valores -1 a 999."
   ]
  },
  {
   "cell_type": "code",
   "execution_count": 45,
   "id": "eb3a075b",
   "metadata": {},
   "outputs": [],
   "source": [
    "# remplazamos el valor -1 por 999\n",
    "df_train.loc[(df_train.pdays == -1),\"pdays\"] = 999"
   ]
  },
  {
   "cell_type": "code",
   "execution_count": 46,
   "id": "267a4bb0",
   "metadata": {},
   "outputs": [
    {
     "data": {
      "text/plain": [
       "no     35347\n",
       "yes     4653\n",
       "Name: y, dtype: int64"
      ]
     },
     "execution_count": 46,
     "metadata": {},
     "output_type": "execute_result"
    }
   ],
   "source": [
    "df_train.y.value_counts()"
   ]
  },
  {
   "cell_type": "code",
   "execution_count": 47,
   "id": "29b41b1d",
   "metadata": {},
   "outputs": [
    {
     "data": {
      "text/plain": [
       "blue-collar      8563\n",
       "management       8383\n",
       "technician       6776\n",
       "admin.           4601\n",
       "services         3674\n",
       "retired          1985\n",
       "self-employed    1387\n",
       "entrepreneur     1326\n",
       "unemployed       1128\n",
       "housemaid        1088\n",
       "student           831\n",
       "unknown           258\n",
       "Name: job, dtype: int64"
      ]
     },
     "execution_count": 47,
     "metadata": {},
     "output_type": "execute_result"
    }
   ],
   "source": [
    "df_train.job.value_counts()"
   ]
  },
  {
   "cell_type": "code",
   "execution_count": 48,
   "id": "252e5dbb",
   "metadata": {},
   "outputs": [
    {
     "data": {
      "text/plain": [
       "cellular     25915\n",
       "unknown      11528\n",
       "telephone     2557\n",
       "Name: contact, dtype: int64"
      ]
     },
     "execution_count": 48,
     "metadata": {},
     "output_type": "execute_result"
    }
   ],
   "source": [
    "df_train.contact.value_counts()"
   ]
  },
  {
   "cell_type": "code",
   "execution_count": 49,
   "id": "8c56a6fd",
   "metadata": {},
   "outputs": [
    {
     "data": {
      "text/plain": [
       "no     0.883675\n",
       "yes    0.116325\n",
       "Name: y, dtype: float64"
      ]
     },
     "execution_count": 49,
     "metadata": {},
     "output_type": "execute_result"
    }
   ],
   "source": [
    "df_train.y.value_counts()/df_train.shape[0]"
   ]
  },
  {
   "cell_type": "markdown",
   "id": "a2d07899",
   "metadata": {},
   "source": [
    "###### Poutcome es una variable con muchos datos faltantes por que la quitaremos"
   ]
  },
  {
   "cell_type": "code",
   "execution_count": 50,
   "id": "6c0dbc44",
   "metadata": {},
   "outputs": [
    {
     "data": {
      "text/plain": [
       "unknown    32720\n",
       "failure     4350\n",
       "other       1610\n",
       "success     1320\n",
       "Name: poutcome, dtype: int64"
      ]
     },
     "execution_count": 50,
     "metadata": {},
     "output_type": "execute_result"
    }
   ],
   "source": [
    "df_train.poutcome.value_counts()"
   ]
  },
  {
   "cell_type": "code",
   "execution_count": 51,
   "id": "4469912a",
   "metadata": {},
   "outputs": [],
   "source": [
    "df_train.drop('poutcome', axis = 1, inplace = True)"
   ]
  },
  {
   "cell_type": "code",
   "execution_count": 52,
   "id": "4d5e1968",
   "metadata": {},
   "outputs": [
    {
     "data": {
      "text/plain": [
       "cellular     25915\n",
       "unknown      11528\n",
       "telephone     2557\n",
       "Name: contact, dtype: int64"
      ]
     },
     "execution_count": 52,
     "metadata": {},
     "output_type": "execute_result"
    }
   ],
   "source": [
    "df_train.contact.value_counts()"
   ]
  },
  {
   "cell_type": "markdown",
   "id": "d0b96c00",
   "metadata": {},
   "source": [
    "    Aca es necesario imputar algunos valores."
   ]
  },
  {
   "cell_type": "code",
   "execution_count": 53,
   "id": "b2c20932",
   "metadata": {},
   "outputs": [
    {
     "data": {
      "text/plain": [
       "married     24017\n",
       "single      11364\n",
       "divorced     4619\n",
       "Name: marital, dtype: int64"
      ]
     },
     "execution_count": 53,
     "metadata": {},
     "output_type": "execute_result"
    }
   ],
   "source": [
    "df_train.marital.value_counts()"
   ]
  },
  {
   "cell_type": "code",
   "execution_count": 54,
   "id": "8eaccc7b",
   "metadata": {},
   "outputs": [
    {
     "data": {
      "text/plain": [
       "array([ 1,  2,  3,  4,  5,  6,  7,  8,  9, 10, 11, 12, 13, 14, 15, 16, 17,\n",
       "       18, 19, 20, 21, 22, 23, 24, 25, 26, 27, 28, 29, 30, 31, 32, 33, 34,\n",
       "       35, 36, 37, 38, 39, 41, 43, 44, 46, 50, 51, 55, 58, 63],\n",
       "      dtype=int64)"
      ]
     },
     "execution_count": 54,
     "metadata": {},
     "output_type": "execute_result"
    }
   ],
   "source": [
    "df_train['campaign'].sort_values(ascending= True).unique()"
   ]
  },
  {
   "cell_type": "markdown",
   "id": "69a2a86e",
   "metadata": {},
   "source": [
    "### Relacion entre la edad y producto (depósito a plazo bancario) "
   ]
  },
  {
   "cell_type": "code",
   "execution_count": 55,
   "id": "8cb7261c",
   "metadata": {
    "scrolled": false
   },
   "outputs": [
    {
     "name": "stderr",
     "output_type": "stream",
     "text": [
      "C:\\Users\\leogo\\anaconda3\\lib\\site-packages\\seaborn\\distributions.py:2619: FutureWarning: `distplot` is a deprecated function and will be removed in a future version. Please adapt your code to use either `displot` (a figure-level function with similar flexibility) or `histplot` (an axes-level function for histograms).\n",
      "  warnings.warn(msg, FutureWarning)\n",
      "C:\\Users\\leogo\\anaconda3\\lib\\site-packages\\seaborn\\distributions.py:2619: FutureWarning: `distplot` is a deprecated function and will be removed in a future version. Please adapt your code to use either `displot` (a figure-level function with similar flexibility) or `histplot` (an axes-level function for histograms).\n",
      "  warnings.warn(msg, FutureWarning)\n",
      "C:\\Users\\leogo\\anaconda3\\lib\\site-packages\\seaborn\\distributions.py:2619: FutureWarning: `distplot` is a deprecated function and will be removed in a future version. Please adapt your code to use either `displot` (a figure-level function with similar flexibility) or `histplot` (an axes-level function for histograms).\n",
      "  warnings.warn(msg, FutureWarning)\n",
      "C:\\Users\\leogo\\anaconda3\\lib\\site-packages\\seaborn\\distributions.py:2619: FutureWarning: `distplot` is a deprecated function and will be removed in a future version. Please adapt your code to use either `displot` (a figure-level function with similar flexibility) or `histplot` (an axes-level function for histograms).\n",
      "  warnings.warn(msg, FutureWarning)\n"
     ]
    },
    {
     "data": {
      "image/png": "[encoded data removed]",
      "text/plain": [
       "<Figure size 720x216 with 1 Axes>"
      ]
     },
     "metadata": {
      "needs_background": "light"
     },
     "output_type": "display_data"
    },
    {
     "data": {
      "image/png": "[encoded data removed]",
      "text/plain": [
       "<Figure size 720x216 with 1 Axes>"
      ]
     },
     "metadata": {
      "needs_background": "light"
     },
     "output_type": "display_data"
    }
   ],
   "source": [
    "plt.figure(figsize = (10,3))\n",
    "sns.distplot(df_train.loc[df_train.y == 'no', 'age'], label = \"no\", hist = True, color='red')\n",
    "sns.distplot(df_train.loc[df_train.y == 'yes', 'age'], label = \"yes\", hist = True)\n",
    "plt.title(\"distribucion Edad vs Subscription\")\n",
    "\n",
    "plt.figure(figsize = (10,3))\n",
    "sns.distplot(df_train.loc[df_train.y == 'no', 'day'], label = \"no\", hist = True, color='red')\n",
    "sns.distplot(df_train.loc[df_train.y == 'yes', 'day'], label = \"yes\", hist = True)\n",
    "plt.title(\"distribucion pdays vs Subscription\")\n",
    "plt.show()\n"
   ]
  },
  {
   "cell_type": "markdown",
   "id": "73bdf1af",
   "metadata": {},
   "source": [
    "    Podemos observar que las personas entre 20 y 60 años son mas propicios a contratar el producto con un pic cerca a los 30 años donde, asi mismo podemos observar que los clientes aceptan el producto con mayor proporcion antes de los 15 primeros dias del mes, reduciendo en la medida que finaliza el mes."
   ]
  },
  {
   "cell_type": "code",
   "execution_count": 56,
   "id": "6d38692f",
   "metadata": {},
   "outputs": [
    {
     "data": {
      "text/plain": [
       "Text(0.5, 1.0, 'Usuario que contrataron el servicio por Job y Age')"
      ]
     },
     "execution_count": 56,
     "metadata": {},
     "output_type": "execute_result"
    },
    {
     "data": {
      "image/png": "[encoded data removed]",
      "text/plain": [
       "<Figure size 1080x360 with 1 Axes>"
      ]
     },
     "metadata": {
      "needs_background": "light"
     },
     "output_type": "display_data"
    }
   ],
   "source": [
    "plt.figure( figsize = (15, 5))\n",
    "sns.violinplot(x = 'job', y = 'age', hue = 'y', data = df_train, split = True)\n",
    "plt.xlabel(\"Job\", fontsize = 14)\n",
    "plt.ylabel(\"Age\", fontsize = 14)\n",
    "plt.xticks(rotation=90)\n",
    "plt.title(\"Usuario que contrataron el servicio por Job y Age\", fontsize = 15)"
   ]
  },
  {
   "cell_type": "markdown",
   "id": "38a5a0c7",
   "metadata": {},
   "source": [
    "Es relevante mencionar que las personas entre 30 y 50 años son mas propicios a contratar el productos sobre todo en aquellos que se han retirado. Esto puede estar relacionados a las expectativas relacionadas con la mayoria de edad y cercania con la jubilacion. Tambien es interesante la relacion con las dueñas de casa, quienes tienden a tomar el productos cuando se acercan a los 40 años."
   ]
  },
  {
   "cell_type": "markdown",
   "id": "a4320b27",
   "metadata": {},
   "source": [
    "# Preproceso de datos Ecoding Test Train"
   ]
  },
  {
   "cell_type": "markdown",
   "id": "7f6666cd",
   "metadata": {},
   "source": [
    "### Copias de los datos."
   ]
  },
  {
   "cell_type": "code",
   "execution_count": 57,
   "id": "14646774",
   "metadata": {
    "scrolled": true
   },
   "outputs": [],
   "source": [
    "# Datos sin balanceo\n",
    "df_prep = df_train.copy()\n",
    "df_train_oh = df_train.copy()"
   ]
  },
  {
   "cell_type": "markdown",
   "id": "f47b0289",
   "metadata": {},
   "source": [
    "# Valores ausentes o no registrados"
   ]
  },
  {
   "cell_type": "markdown",
   "id": "13aed5ed",
   "metadata": {},
   "source": [
    "### Educacion vs Trabajo\n",
    "\n",
    "        Suponemos que para cierto nivel de trabajo calificado es necesario un grado mayor de educacion, por tanto podemos inferir el nivel educacion en funcion del tipo de trabajo que realiza."
   ]
  },
  {
   "cell_type": "markdown",
   "id": "573b9fc8",
   "metadata": {},
   "source": [
    "# Encoding de datos Train"
   ]
  },
  {
   "cell_type": "markdown",
   "id": "b3f3d053",
   "metadata": {},
   "source": [
    "### Categorizacion y Dummies"
   ]
  },
  {
   "cell_type": "code",
   "execution_count": 58,
   "id": "9c58b8c3",
   "metadata": {
    "scrolled": true
   },
   "outputs": [
    {
     "data": {
      "text/html": [
       "<div>\n",
       "<style scoped>\n",
       "    .dataframe tbody tr th:only-of-type {\n",
       "        vertical-align: middle;\n",
       "    }\n",
       "\n",
       "    .dataframe tbody tr th {\n",
       "        vertical-align: top;\n",
       "    }\n",
       "\n",
       "    .dataframe thead th {\n",
       "        text-align: right;\n",
       "    }\n",
       "</style>\n",
       "<table border=\"1\" class=\"dataframe\">\n",
       "  <thead>\n",
       "    <tr style=\"text-align: right;\">\n",
       "      <th></th>\n",
       "      <th>age</th>\n",
       "      <th>job</th>\n",
       "      <th>marital</th>\n",
       "      <th>education</th>\n",
       "      <th>default</th>\n",
       "      <th>balance</th>\n",
       "      <th>housing</th>\n",
       "      <th>loan</th>\n",
       "      <th>contact</th>\n",
       "      <th>day</th>\n",
       "      <th>month</th>\n",
       "      <th>campaign</th>\n",
       "      <th>pdays</th>\n",
       "      <th>previous</th>\n",
       "      <th>y</th>\n",
       "    </tr>\n",
       "  </thead>\n",
       "  <tbody>\n",
       "    <tr>\n",
       "      <th>0</th>\n",
       "      <td>46</td>\n",
       "      <td>management</td>\n",
       "      <td>single</td>\n",
       "      <td>tertiary</td>\n",
       "      <td>no</td>\n",
       "      <td>593</td>\n",
       "      <td>yes</td>\n",
       "      <td>no</td>\n",
       "      <td>cellular</td>\n",
       "      <td>29</td>\n",
       "      <td>jan</td>\n",
       "      <td>3</td>\n",
       "      <td>999</td>\n",
       "      <td>0</td>\n",
       "      <td>no</td>\n",
       "    </tr>\n",
       "    <tr>\n",
       "      <th>1</th>\n",
       "      <td>42</td>\n",
       "      <td>admin.</td>\n",
       "      <td>married</td>\n",
       "      <td>tertiary</td>\n",
       "      <td>no</td>\n",
       "      <td>1536</td>\n",
       "      <td>no</td>\n",
       "      <td>no</td>\n",
       "      <td>cellular</td>\n",
       "      <td>6</td>\n",
       "      <td>aug</td>\n",
       "      <td>1</td>\n",
       "      <td>182</td>\n",
       "      <td>4</td>\n",
       "      <td>no</td>\n",
       "    </tr>\n",
       "    <tr>\n",
       "      <th>2</th>\n",
       "      <td>33</td>\n",
       "      <td>blue-collar</td>\n",
       "      <td>married</td>\n",
       "      <td>secondary</td>\n",
       "      <td>no</td>\n",
       "      <td>370</td>\n",
       "      <td>yes</td>\n",
       "      <td>no</td>\n",
       "      <td>cellular</td>\n",
       "      <td>8</td>\n",
       "      <td>apr</td>\n",
       "      <td>1</td>\n",
       "      <td>999</td>\n",
       "      <td>0</td>\n",
       "      <td>no</td>\n",
       "    </tr>\n",
       "    <tr>\n",
       "      <th>3</th>\n",
       "      <td>29</td>\n",
       "      <td>blue-collar</td>\n",
       "      <td>single</td>\n",
       "      <td>secondary</td>\n",
       "      <td>no</td>\n",
       "      <td>1472</td>\n",
       "      <td>no</td>\n",
       "      <td>no</td>\n",
       "      <td>cellular</td>\n",
       "      <td>18</td>\n",
       "      <td>may</td>\n",
       "      <td>2</td>\n",
       "      <td>999</td>\n",
       "      <td>0</td>\n",
       "      <td>no</td>\n",
       "    </tr>\n",
       "    <tr>\n",
       "      <th>4</th>\n",
       "      <td>29</td>\n",
       "      <td>technician</td>\n",
       "      <td>married</td>\n",
       "      <td>secondary</td>\n",
       "      <td>no</td>\n",
       "      <td>767</td>\n",
       "      <td>yes</td>\n",
       "      <td>no</td>\n",
       "      <td>cellular</td>\n",
       "      <td>5</td>\n",
       "      <td>feb</td>\n",
       "      <td>1</td>\n",
       "      <td>999</td>\n",
       "      <td>0</td>\n",
       "      <td>no</td>\n",
       "    </tr>\n",
       "  </tbody>\n",
       "</table>\n",
       "</div>"
      ],
      "text/plain": [
       "   age          job  marital  education default  balance housing loan  \\\n",
       "0   46   management   single   tertiary      no      593     yes   no   \n",
       "1   42       admin.  married   tertiary      no     1536      no   no   \n",
       "2   33  blue-collar  married  secondary      no      370     yes   no   \n",
       "3   29  blue-collar   single  secondary      no     1472      no   no   \n",
       "4   29   technician  married  secondary      no      767     yes   no   \n",
       "\n",
       "    contact  day month  campaign  pdays  previous   y  \n",
       "0  cellular   29   jan         3    999         0  no  \n",
       "1  cellular    6   aug         1    182         4  no  \n",
       "2  cellular    8   apr         1    999         0  no  \n",
       "3  cellular   18   may         2    999         0  no  \n",
       "4  cellular    5   feb         1    999         0  no  "
      ]
     },
     "execution_count": 58,
     "metadata": {},
     "output_type": "execute_result"
    }
   ],
   "source": [
    "df_train_oh.head()"
   ]
  },
  {
   "cell_type": "code",
   "execution_count": 59,
   "id": "d799b3b2",
   "metadata": {},
   "outputs": [],
   "source": [
    "from sklearn.preprocessing import LabelEncoder\n",
    "labelencoder=LabelEncoder()\n",
    "df_prep['job']=labelencoder.fit_transform(df_prep['job'].values)\n",
    "df_prep['marital']=labelencoder.fit_transform(df_prep['marital'].values)\n",
    "df_prep['education']=labelencoder.fit_transform(df_prep['education'].values)\n",
    "df_prep['contact']=labelencoder.fit_transform(df_prep['contact'].values)\n",
    "\n",
    "\n",
    "df_prep['default'].replace(['yes','no'],[1,0],inplace=True)\n",
    "df_prep['housing'].replace(['yes','no'],[1,0],inplace=True)\n",
    "df_prep['loan'].replace(['yes','no'],[1,0],inplace=True)\n",
    "df_prep['y'].replace(['yes','no'],[1,0],inplace=True)\n",
    "df_prep['month'].replace(['jan','feb','mar','apr','may','jun','jul','aug' , 'sep','oct','nov','dec'],\n",
    "                         [1,2,3,4,5,6,7,8,9,10,11,12],inplace=True)\n",
    "\n",
    "#CATEGORICAS ['job','marital','education','contact','month','poutcome']\n",
    "#NUMERICAS ['age','balance','day','campaign','pdays','previous']\n",
    "#BINARIAS  ['default','housing','loan','y']  "
   ]
  },
  {
   "cell_type": "code",
   "execution_count": 60,
   "id": "df8c1e6c",
   "metadata": {
    "scrolled": false
   },
   "outputs": [
    {
     "data": {
      "text/html": [
       "<div>\n",
       "<style scoped>\n",
       "    .dataframe tbody tr th:only-of-type {\n",
       "        vertical-align: middle;\n",
       "    }\n",
       "\n",
       "    .dataframe tbody tr th {\n",
       "        vertical-align: top;\n",
       "    }\n",
       "\n",
       "    .dataframe thead th {\n",
       "        text-align: right;\n",
       "    }\n",
       "</style>\n",
       "<table border=\"1\" class=\"dataframe\">\n",
       "  <thead>\n",
       "    <tr style=\"text-align: right;\">\n",
       "      <th></th>\n",
       "      <th>age</th>\n",
       "      <th>job</th>\n",
       "      <th>marital</th>\n",
       "      <th>education</th>\n",
       "      <th>default</th>\n",
       "      <th>balance</th>\n",
       "      <th>housing</th>\n",
       "      <th>loan</th>\n",
       "      <th>contact</th>\n",
       "      <th>day</th>\n",
       "      <th>month</th>\n",
       "      <th>campaign</th>\n",
       "      <th>pdays</th>\n",
       "      <th>previous</th>\n",
       "      <th>y</th>\n",
       "    </tr>\n",
       "  </thead>\n",
       "  <tbody>\n",
       "    <tr>\n",
       "      <th>0</th>\n",
       "      <td>46</td>\n",
       "      <td>4</td>\n",
       "      <td>2</td>\n",
       "      <td>2</td>\n",
       "      <td>0</td>\n",
       "      <td>593</td>\n",
       "      <td>1</td>\n",
       "      <td>0</td>\n",
       "      <td>0</td>\n",
       "      <td>29</td>\n",
       "      <td>1</td>\n",
       "      <td>3</td>\n",
       "      <td>999</td>\n",
       "      <td>0</td>\n",
       "      <td>0</td>\n",
       "    </tr>\n",
       "    <tr>\n",
       "      <th>1</th>\n",
       "      <td>42</td>\n",
       "      <td>0</td>\n",
       "      <td>1</td>\n",
       "      <td>2</td>\n",
       "      <td>0</td>\n",
       "      <td>1536</td>\n",
       "      <td>0</td>\n",
       "      <td>0</td>\n",
       "      <td>0</td>\n",
       "      <td>6</td>\n",
       "      <td>8</td>\n",
       "      <td>1</td>\n",
       "      <td>182</td>\n",
       "      <td>4</td>\n",
       "      <td>0</td>\n",
       "    </tr>\n",
       "    <tr>\n",
       "      <th>2</th>\n",
       "      <td>33</td>\n",
       "      <td>1</td>\n",
       "      <td>1</td>\n",
       "      <td>1</td>\n",
       "      <td>0</td>\n",
       "      <td>370</td>\n",
       "      <td>1</td>\n",
       "      <td>0</td>\n",
       "      <td>0</td>\n",
       "      <td>8</td>\n",
       "      <td>4</td>\n",
       "      <td>1</td>\n",
       "      <td>999</td>\n",
       "      <td>0</td>\n",
       "      <td>0</td>\n",
       "    </tr>\n",
       "    <tr>\n",
       "      <th>3</th>\n",
       "      <td>29</td>\n",
       "      <td>1</td>\n",
       "      <td>2</td>\n",
       "      <td>1</td>\n",
       "      <td>0</td>\n",
       "      <td>1472</td>\n",
       "      <td>0</td>\n",
       "      <td>0</td>\n",
       "      <td>0</td>\n",
       "      <td>18</td>\n",
       "      <td>5</td>\n",
       "      <td>2</td>\n",
       "      <td>999</td>\n",
       "      <td>0</td>\n",
       "      <td>0</td>\n",
       "    </tr>\n",
       "    <tr>\n",
       "      <th>4</th>\n",
       "      <td>29</td>\n",
       "      <td>9</td>\n",
       "      <td>1</td>\n",
       "      <td>1</td>\n",
       "      <td>0</td>\n",
       "      <td>767</td>\n",
       "      <td>1</td>\n",
       "      <td>0</td>\n",
       "      <td>0</td>\n",
       "      <td>5</td>\n",
       "      <td>2</td>\n",
       "      <td>1</td>\n",
       "      <td>999</td>\n",
       "      <td>0</td>\n",
       "      <td>0</td>\n",
       "    </tr>\n",
       "  </tbody>\n",
       "</table>\n",
       "</div>"
      ],
      "text/plain": [
       "   age  job  marital  education  default  balance  housing  loan  contact  \\\n",
       "0   46    4        2          2        0      593        1     0        0   \n",
       "1   42    0        1          2        0     1536        0     0        0   \n",
       "2   33    1        1          1        0      370        1     0        0   \n",
       "3   29    1        2          1        0     1472        0     0        0   \n",
       "4   29    9        1          1        0      767        1     0        0   \n",
       "\n",
       "   day  month  campaign  pdays  previous  y  \n",
       "0   29      1         3    999         0  0  \n",
       "1    6      8         1    182         4  0  \n",
       "2    8      4         1    999         0  0  \n",
       "3   18      5         2    999         0  0  \n",
       "4    5      2         1    999         0  0  "
      ]
     },
     "execution_count": 60,
     "metadata": {},
     "output_type": "execute_result"
    }
   ],
   "source": [
    "df_prep.head()"
   ]
  },
  {
   "cell_type": "markdown",
   "id": "b4a2d774",
   "metadata": {},
   "source": [
    "    Ademas los clientes tiene un compartemineto mas normal en la contratcion del producto que aquellos que no lo tiene. Es decir inicion y fines de año no parecen ser momentos propicios de contratacion."
   ]
  },
  {
   "cell_type": "markdown",
   "id": "62cdf4d2",
   "metadata": {},
   "source": [
    "## Normalizacion Manual Train"
   ]
  },
  {
   "cell_type": "code",
   "execution_count": 61,
   "id": "3b5a14fe",
   "metadata": {
    "scrolled": false
   },
   "outputs": [
    {
     "data": {
      "text/html": [
       "<div>\n",
       "<style scoped>\n",
       "    .dataframe tbody tr th:only-of-type {\n",
       "        vertical-align: middle;\n",
       "    }\n",
       "\n",
       "    .dataframe tbody tr th {\n",
       "        vertical-align: top;\n",
       "    }\n",
       "\n",
       "    .dataframe thead th {\n",
       "        text-align: right;\n",
       "    }\n",
       "</style>\n",
       "<table border=\"1\" class=\"dataframe\">\n",
       "  <thead>\n",
       "    <tr style=\"text-align: right;\">\n",
       "      <th></th>\n",
       "      <th>age</th>\n",
       "      <th>balance</th>\n",
       "      <th>campaign</th>\n",
       "      <th>pdays</th>\n",
       "      <th>previous</th>\n",
       "      <th>job</th>\n",
       "      <th>marital</th>\n",
       "      <th>education</th>\n",
       "      <th>default</th>\n",
       "      <th>housing</th>\n",
       "      <th>loan</th>\n",
       "      <th>contact</th>\n",
       "      <th>day</th>\n",
       "      <th>month</th>\n",
       "      <th>y</th>\n",
       "    </tr>\n",
       "  </thead>\n",
       "  <tbody>\n",
       "    <tr>\n",
       "      <th>0</th>\n",
       "      <td>0.363636</td>\n",
       "      <td>0.078187</td>\n",
       "      <td>0.032258</td>\n",
       "      <td>1.000000</td>\n",
       "      <td>0.000000</td>\n",
       "      <td>4</td>\n",
       "      <td>2</td>\n",
       "      <td>2</td>\n",
       "      <td>0</td>\n",
       "      <td>1</td>\n",
       "      <td>0</td>\n",
       "      <td>0</td>\n",
       "      <td>29</td>\n",
       "      <td>1</td>\n",
       "      <td>0</td>\n",
       "    </tr>\n",
       "    <tr>\n",
       "      <th>1</th>\n",
       "      <td>0.311688</td>\n",
       "      <td>0.086748</td>\n",
       "      <td>0.000000</td>\n",
       "      <td>0.181363</td>\n",
       "      <td>0.014545</td>\n",
       "      <td>0</td>\n",
       "      <td>1</td>\n",
       "      <td>2</td>\n",
       "      <td>0</td>\n",
       "      <td>0</td>\n",
       "      <td>0</td>\n",
       "      <td>0</td>\n",
       "      <td>6</td>\n",
       "      <td>8</td>\n",
       "      <td>0</td>\n",
       "    </tr>\n",
       "    <tr>\n",
       "      <th>2</th>\n",
       "      <td>0.194805</td>\n",
       "      <td>0.076163</td>\n",
       "      <td>0.000000</td>\n",
       "      <td>1.000000</td>\n",
       "      <td>0.000000</td>\n",
       "      <td>1</td>\n",
       "      <td>1</td>\n",
       "      <td>1</td>\n",
       "      <td>0</td>\n",
       "      <td>1</td>\n",
       "      <td>0</td>\n",
       "      <td>0</td>\n",
       "      <td>8</td>\n",
       "      <td>4</td>\n",
       "      <td>0</td>\n",
       "    </tr>\n",
       "    <tr>\n",
       "      <th>3</th>\n",
       "      <td>0.142857</td>\n",
       "      <td>0.086167</td>\n",
       "      <td>0.016129</td>\n",
       "      <td>1.000000</td>\n",
       "      <td>0.000000</td>\n",
       "      <td>1</td>\n",
       "      <td>2</td>\n",
       "      <td>1</td>\n",
       "      <td>0</td>\n",
       "      <td>0</td>\n",
       "      <td>0</td>\n",
       "      <td>0</td>\n",
       "      <td>18</td>\n",
       "      <td>5</td>\n",
       "      <td>0</td>\n",
       "    </tr>\n",
       "    <tr>\n",
       "      <th>4</th>\n",
       "      <td>0.142857</td>\n",
       "      <td>0.079767</td>\n",
       "      <td>0.000000</td>\n",
       "      <td>1.000000</td>\n",
       "      <td>0.000000</td>\n",
       "      <td>9</td>\n",
       "      <td>1</td>\n",
       "      <td>1</td>\n",
       "      <td>0</td>\n",
       "      <td>1</td>\n",
       "      <td>0</td>\n",
       "      <td>0</td>\n",
       "      <td>5</td>\n",
       "      <td>2</td>\n",
       "      <td>0</td>\n",
       "    </tr>\n",
       "  </tbody>\n",
       "</table>\n",
       "</div>"
      ],
      "text/plain": [
       "        age   balance  campaign     pdays  previous  job  marital  education  \\\n",
       "0  0.363636  0.078187  0.032258  1.000000  0.000000    4        2          2   \n",
       "1  0.311688  0.086748  0.000000  0.181363  0.014545    0        1          2   \n",
       "2  0.194805  0.076163  0.000000  1.000000  0.000000    1        1          1   \n",
       "3  0.142857  0.086167  0.016129  1.000000  0.000000    1        2          1   \n",
       "4  0.142857  0.079767  0.000000  1.000000  0.000000    9        1          1   \n",
       "\n",
       "   default  housing  loan  contact  day  month  y  \n",
       "0        0        1     0        0   29      1  0  \n",
       "1        0        0     0        0    6      8  0  \n",
       "2        0        1     0        0    8      4  0  \n",
       "3        0        0     0        0   18      5  0  \n",
       "4        0        1     0        0    5      2  0  "
      ]
     },
     "execution_count": 61,
     "metadata": {},
     "output_type": "execute_result"
    }
   ],
   "source": [
    "# #selecionamos las columnas que normalizaremos\n",
    "df_norm = df_prep[['age','balance','campaign','pdays','previous']]\n",
    "df_prep2 = df_prep.drop(columns=['age','balance','campaign','pdays','previous'])\n",
    "\n",
    "from sklearn.preprocessing import MinMaxScaler\n",
    "df_trans = MinMaxScaler()\n",
    "df_trans = df_trans.fit_transform(df_norm)\n",
    "\n",
    "df_trans = pd.DataFrame(df_trans)\n",
    "df_trans.columns = df_norm.columns\n",
    "\n",
    "df_train_trans = pd.concat([df_trans, df_prep2], axis=1,)\n",
    "df_train_trans.reindex(columns=['age','job','marital','education','default','balance','housing',\n",
    "                          'loan','contact','day','month','campaign','pdays','previous','y'])\n",
    "\n",
    "df_train_trans.head()"
   ]
  },
  {
   "cell_type": "code",
   "execution_count": 62,
   "id": "9678b8b8",
   "metadata": {},
   "outputs": [],
   "source": [
    "df_train_trans = pd.get_dummies(df_train_trans,columns = ['job','marital','education','contact','default','housing','loan'],\n",
    "               drop_first = True)"
   ]
  },
  {
   "cell_type": "code",
   "execution_count": 63,
   "id": "f3027548",
   "metadata": {
    "scrolled": false
   },
   "outputs": [
    {
     "data": {
      "text/html": [
       "<div>\n",
       "<style scoped>\n",
       "    .dataframe tbody tr th:only-of-type {\n",
       "        vertical-align: middle;\n",
       "    }\n",
       "\n",
       "    .dataframe tbody tr th {\n",
       "        vertical-align: top;\n",
       "    }\n",
       "\n",
       "    .dataframe thead th {\n",
       "        text-align: right;\n",
       "    }\n",
       "</style>\n",
       "<table border=\"1\" class=\"dataframe\">\n",
       "  <thead>\n",
       "    <tr style=\"text-align: right;\">\n",
       "      <th></th>\n",
       "      <th>age</th>\n",
       "      <th>balance</th>\n",
       "      <th>campaign</th>\n",
       "      <th>pdays</th>\n",
       "      <th>previous</th>\n",
       "      <th>day</th>\n",
       "      <th>month</th>\n",
       "      <th>y</th>\n",
       "      <th>job_1</th>\n",
       "      <th>job_2</th>\n",
       "      <th>...</th>\n",
       "      <th>marital_1</th>\n",
       "      <th>marital_2</th>\n",
       "      <th>education_1</th>\n",
       "      <th>education_2</th>\n",
       "      <th>education_3</th>\n",
       "      <th>contact_1</th>\n",
       "      <th>contact_2</th>\n",
       "      <th>default_1</th>\n",
       "      <th>housing_1</th>\n",
       "      <th>loan_1</th>\n",
       "    </tr>\n",
       "  </thead>\n",
       "  <tbody>\n",
       "    <tr>\n",
       "      <th>0</th>\n",
       "      <td>0.363636</td>\n",
       "      <td>0.078187</td>\n",
       "      <td>0.032258</td>\n",
       "      <td>1.000000</td>\n",
       "      <td>0.000000</td>\n",
       "      <td>29</td>\n",
       "      <td>1</td>\n",
       "      <td>0</td>\n",
       "      <td>0</td>\n",
       "      <td>0</td>\n",
       "      <td>...</td>\n",
       "      <td>0</td>\n",
       "      <td>1</td>\n",
       "      <td>0</td>\n",
       "      <td>1</td>\n",
       "      <td>0</td>\n",
       "      <td>0</td>\n",
       "      <td>0</td>\n",
       "      <td>0</td>\n",
       "      <td>1</td>\n",
       "      <td>0</td>\n",
       "    </tr>\n",
       "    <tr>\n",
       "      <th>1</th>\n",
       "      <td>0.311688</td>\n",
       "      <td>0.086748</td>\n",
       "      <td>0.000000</td>\n",
       "      <td>0.181363</td>\n",
       "      <td>0.014545</td>\n",
       "      <td>6</td>\n",
       "      <td>8</td>\n",
       "      <td>0</td>\n",
       "      <td>0</td>\n",
       "      <td>0</td>\n",
       "      <td>...</td>\n",
       "      <td>1</td>\n",
       "      <td>0</td>\n",
       "      <td>0</td>\n",
       "      <td>1</td>\n",
       "      <td>0</td>\n",
       "      <td>0</td>\n",
       "      <td>0</td>\n",
       "      <td>0</td>\n",
       "      <td>0</td>\n",
       "      <td>0</td>\n",
       "    </tr>\n",
       "    <tr>\n",
       "      <th>2</th>\n",
       "      <td>0.194805</td>\n",
       "      <td>0.076163</td>\n",
       "      <td>0.000000</td>\n",
       "      <td>1.000000</td>\n",
       "      <td>0.000000</td>\n",
       "      <td>8</td>\n",
       "      <td>4</td>\n",
       "      <td>0</td>\n",
       "      <td>1</td>\n",
       "      <td>0</td>\n",
       "      <td>...</td>\n",
       "      <td>1</td>\n",
       "      <td>0</td>\n",
       "      <td>1</td>\n",
       "      <td>0</td>\n",
       "      <td>0</td>\n",
       "      <td>0</td>\n",
       "      <td>0</td>\n",
       "      <td>0</td>\n",
       "      <td>1</td>\n",
       "      <td>0</td>\n",
       "    </tr>\n",
       "    <tr>\n",
       "      <th>3</th>\n",
       "      <td>0.142857</td>\n",
       "      <td>0.086167</td>\n",
       "      <td>0.016129</td>\n",
       "      <td>1.000000</td>\n",
       "      <td>0.000000</td>\n",
       "      <td>18</td>\n",
       "      <td>5</td>\n",
       "      <td>0</td>\n",
       "      <td>1</td>\n",
       "      <td>0</td>\n",
       "      <td>...</td>\n",
       "      <td>0</td>\n",
       "      <td>1</td>\n",
       "      <td>1</td>\n",
       "      <td>0</td>\n",
       "      <td>0</td>\n",
       "      <td>0</td>\n",
       "      <td>0</td>\n",
       "      <td>0</td>\n",
       "      <td>0</td>\n",
       "      <td>0</td>\n",
       "    </tr>\n",
       "    <tr>\n",
       "      <th>4</th>\n",
       "      <td>0.142857</td>\n",
       "      <td>0.079767</td>\n",
       "      <td>0.000000</td>\n",
       "      <td>1.000000</td>\n",
       "      <td>0.000000</td>\n",
       "      <td>5</td>\n",
       "      <td>2</td>\n",
       "      <td>0</td>\n",
       "      <td>0</td>\n",
       "      <td>0</td>\n",
       "      <td>...</td>\n",
       "      <td>1</td>\n",
       "      <td>0</td>\n",
       "      <td>1</td>\n",
       "      <td>0</td>\n",
       "      <td>0</td>\n",
       "      <td>0</td>\n",
       "      <td>0</td>\n",
       "      <td>0</td>\n",
       "      <td>1</td>\n",
       "      <td>0</td>\n",
       "    </tr>\n",
       "  </tbody>\n",
       "</table>\n",
       "<p>5 rows × 29 columns</p>\n",
       "</div>"
      ],
      "text/plain": [
       "        age   balance  campaign     pdays  previous  day  month  y  job_1  \\\n",
       "0  0.363636  0.078187  0.032258  1.000000  0.000000   29      1  0      0   \n",
       "1  0.311688  0.086748  0.000000  0.181363  0.014545    6      8  0      0   \n",
       "2  0.194805  0.076163  0.000000  1.000000  0.000000    8      4  0      1   \n",
       "3  0.142857  0.086167  0.016129  1.000000  0.000000   18      5  0      1   \n",
       "4  0.142857  0.079767  0.000000  1.000000  0.000000    5      2  0      0   \n",
       "\n",
       "   job_2  ...  marital_1  marital_2  education_1  education_2  education_3  \\\n",
       "0      0  ...          0          1            0            1            0   \n",
       "1      0  ...          1          0            0            1            0   \n",
       "2      0  ...          1          0            1            0            0   \n",
       "3      0  ...          0          1            1            0            0   \n",
       "4      0  ...          1          0            1            0            0   \n",
       "\n",
       "   contact_1  contact_2  default_1  housing_1  loan_1  \n",
       "0          0          0          0          1       0  \n",
       "1          0          0          0          0       0  \n",
       "2          0          0          0          1       0  \n",
       "3          0          0          0          0       0  \n",
       "4          0          0          0          1       0  \n",
       "\n",
       "[5 rows x 29 columns]"
      ]
     },
     "execution_count": 63,
     "metadata": {},
     "output_type": "execute_result"
    }
   ],
   "source": [
    "df_train_trans.head()"
   ]
  },
  {
   "cell_type": "markdown",
   "id": "52483daf",
   "metadata": {},
   "source": [
    "# Preproceso datos test\n",
    "\n",
    "#### Esto es necesario para poder probar el modelo sobre la misma estructura de datos pre_procesados de train."
   ]
  },
  {
   "cell_type": "code",
   "execution_count": 64,
   "id": "59cb3a13",
   "metadata": {},
   "outputs": [],
   "source": [
    "df_test = df_test.drop(['duration','poutcome'], axis=1)"
   ]
  },
  {
   "cell_type": "code",
   "execution_count": 65,
   "id": "c2d9d92b",
   "metadata": {},
   "outputs": [],
   "source": [
    "from sklearn.preprocessing import LabelEncoder\n",
    "labelencoder=LabelEncoder()\n",
    "df_test['job']=labelencoder.fit_transform(df_test['job'].values)\n",
    "df_test['marital']=labelencoder.fit_transform(df_test['marital'].values)\n",
    "df_test['education']=labelencoder.fit_transform(df_test['education'].values)\n",
    "df_test['contact']=labelencoder.fit_transform(df_test['contact'].values)\n",
    "\n",
    "\n",
    "df_test['default'].replace(['yes','no'],[1,0],inplace=True)\n",
    "df_test['housing'].replace(['yes','no'],[1,0],inplace=True)\n",
    "df_test['loan'].replace(['yes','no'],[1,0],inplace=True)\n",
    "df_test['month'].replace(['jan','feb','mar','apr','may','jun','jul','aug' , 'sep','oct','nov','dec'],\n",
    "                         [1,2,3,4,5,6,7,8,9,10,11,12],inplace=True)\n",
    "\n",
    "#CATEGORICAS ['job','marital','education','contact','month','poutcome']\n",
    "#NUMERICAS ['age','balance','day','campaign','pdays','previous']\n",
    "#BINARIAS  ['default','housing','loan','y']  "
   ]
  },
  {
   "cell_type": "code",
   "execution_count": 66,
   "id": "59ce13a7",
   "metadata": {
    "scrolled": true
   },
   "outputs": [
    {
     "data": {
      "text/html": [
       "<div>\n",
       "<style scoped>\n",
       "    .dataframe tbody tr th:only-of-type {\n",
       "        vertical-align: middle;\n",
       "    }\n",
       "\n",
       "    .dataframe tbody tr th {\n",
       "        vertical-align: top;\n",
       "    }\n",
       "\n",
       "    .dataframe thead th {\n",
       "        text-align: right;\n",
       "    }\n",
       "</style>\n",
       "<table border=\"1\" class=\"dataframe\">\n",
       "  <thead>\n",
       "    <tr style=\"text-align: right;\">\n",
       "      <th></th>\n",
       "      <th>age</th>\n",
       "      <th>job</th>\n",
       "      <th>marital</th>\n",
       "      <th>education</th>\n",
       "      <th>default</th>\n",
       "      <th>balance</th>\n",
       "      <th>housing</th>\n",
       "      <th>loan</th>\n",
       "      <th>contact</th>\n",
       "      <th>day</th>\n",
       "      <th>month</th>\n",
       "      <th>campaign</th>\n",
       "      <th>pdays</th>\n",
       "      <th>previous</th>\n",
       "    </tr>\n",
       "  </thead>\n",
       "  <tbody>\n",
       "    <tr>\n",
       "      <th>0</th>\n",
       "      <td>51</td>\n",
       "      <td>0</td>\n",
       "      <td>2</td>\n",
       "      <td>2</td>\n",
       "      <td>0</td>\n",
       "      <td>394</td>\n",
       "      <td>0</td>\n",
       "      <td>0</td>\n",
       "      <td>1</td>\n",
       "      <td>28</td>\n",
       "      <td>1</td>\n",
       "      <td>2</td>\n",
       "      <td>-1</td>\n",
       "      <td>0</td>\n",
       "    </tr>\n",
       "    <tr>\n",
       "      <th>1</th>\n",
       "      <td>56</td>\n",
       "      <td>5</td>\n",
       "      <td>1</td>\n",
       "      <td>1</td>\n",
       "      <td>0</td>\n",
       "      <td>334</td>\n",
       "      <td>0</td>\n",
       "      <td>0</td>\n",
       "      <td>0</td>\n",
       "      <td>21</td>\n",
       "      <td>7</td>\n",
       "      <td>1</td>\n",
       "      <td>-1</td>\n",
       "      <td>0</td>\n",
       "    </tr>\n",
       "    <tr>\n",
       "      <th>2</th>\n",
       "      <td>50</td>\n",
       "      <td>2</td>\n",
       "      <td>1</td>\n",
       "      <td>2</td>\n",
       "      <td>0</td>\n",
       "      <td>52</td>\n",
       "      <td>0</td>\n",
       "      <td>0</td>\n",
       "      <td>0</td>\n",
       "      <td>31</td>\n",
       "      <td>7</td>\n",
       "      <td>8</td>\n",
       "      <td>-1</td>\n",
       "      <td>0</td>\n",
       "    </tr>\n",
       "    <tr>\n",
       "      <th>3</th>\n",
       "      <td>54</td>\n",
       "      <td>2</td>\n",
       "      <td>1</td>\n",
       "      <td>1</td>\n",
       "      <td>0</td>\n",
       "      <td>653</td>\n",
       "      <td>1</td>\n",
       "      <td>0</td>\n",
       "      <td>2</td>\n",
       "      <td>15</td>\n",
       "      <td>5</td>\n",
       "      <td>1</td>\n",
       "      <td>-1</td>\n",
       "      <td>0</td>\n",
       "    </tr>\n",
       "    <tr>\n",
       "      <th>4</th>\n",
       "      <td>47</td>\n",
       "      <td>4</td>\n",
       "      <td>1</td>\n",
       "      <td>2</td>\n",
       "      <td>0</td>\n",
       "      <td>0</td>\n",
       "      <td>0</td>\n",
       "      <td>0</td>\n",
       "      <td>0</td>\n",
       "      <td>19</td>\n",
       "      <td>8</td>\n",
       "      <td>2</td>\n",
       "      <td>-1</td>\n",
       "      <td>0</td>\n",
       "    </tr>\n",
       "  </tbody>\n",
       "</table>\n",
       "</div>"
      ],
      "text/plain": [
       "   age  job  marital  education  default  balance  housing  loan  contact  \\\n",
       "0   51    0        2          2        0      394        0     0        1   \n",
       "1   56    5        1          1        0      334        0     0        0   \n",
       "2   50    2        1          2        0       52        0     0        0   \n",
       "3   54    2        1          1        0      653        1     0        2   \n",
       "4   47    4        1          2        0        0        0     0        0   \n",
       "\n",
       "   day  month  campaign  pdays  previous  \n",
       "0   28      1         2     -1         0  \n",
       "1   21      7         1     -1         0  \n",
       "2   31      7         8     -1         0  \n",
       "3   15      5         1     -1         0  \n",
       "4   19      8         2     -1         0  "
      ]
     },
     "execution_count": 66,
     "metadata": {},
     "output_type": "execute_result"
    }
   ],
   "source": [
    "df_test.head()"
   ]
  },
  {
   "cell_type": "code",
   "execution_count": 67,
   "id": "0da848f0",
   "metadata": {},
   "outputs": [],
   "source": [
    "df_test = pd.get_dummies(df_test,columns = ['job','marital','education','contact','default','housing','loan'],\n",
    "               drop_first = True)"
   ]
  },
  {
   "cell_type": "code",
   "execution_count": 68,
   "id": "58389b05",
   "metadata": {
    "scrolled": false
   },
   "outputs": [
    {
     "data": {
      "text/html": [
       "<div>\n",
       "<style scoped>\n",
       "    .dataframe tbody tr th:only-of-type {\n",
       "        vertical-align: middle;\n",
       "    }\n",
       "\n",
       "    .dataframe tbody tr th {\n",
       "        vertical-align: top;\n",
       "    }\n",
       "\n",
       "    .dataframe thead th {\n",
       "        text-align: right;\n",
       "    }\n",
       "</style>\n",
       "<table border=\"1\" class=\"dataframe\">\n",
       "  <thead>\n",
       "    <tr style=\"text-align: right;\">\n",
       "      <th></th>\n",
       "      <th>age</th>\n",
       "      <th>balance</th>\n",
       "      <th>day</th>\n",
       "      <th>month</th>\n",
       "      <th>campaign</th>\n",
       "      <th>pdays</th>\n",
       "      <th>previous</th>\n",
       "      <th>job_1</th>\n",
       "      <th>job_2</th>\n",
       "      <th>job_3</th>\n",
       "      <th>...</th>\n",
       "      <th>marital_1</th>\n",
       "      <th>marital_2</th>\n",
       "      <th>education_1</th>\n",
       "      <th>education_2</th>\n",
       "      <th>education_3</th>\n",
       "      <th>contact_1</th>\n",
       "      <th>contact_2</th>\n",
       "      <th>default_1</th>\n",
       "      <th>housing_1</th>\n",
       "      <th>loan_1</th>\n",
       "    </tr>\n",
       "  </thead>\n",
       "  <tbody>\n",
       "    <tr>\n",
       "      <th>0</th>\n",
       "      <td>51</td>\n",
       "      <td>394</td>\n",
       "      <td>28</td>\n",
       "      <td>1</td>\n",
       "      <td>2</td>\n",
       "      <td>-1</td>\n",
       "      <td>0</td>\n",
       "      <td>0</td>\n",
       "      <td>0</td>\n",
       "      <td>0</td>\n",
       "      <td>...</td>\n",
       "      <td>0</td>\n",
       "      <td>1</td>\n",
       "      <td>0</td>\n",
       "      <td>1</td>\n",
       "      <td>0</td>\n",
       "      <td>1</td>\n",
       "      <td>0</td>\n",
       "      <td>0</td>\n",
       "      <td>0</td>\n",
       "      <td>0</td>\n",
       "    </tr>\n",
       "    <tr>\n",
       "      <th>1</th>\n",
       "      <td>56</td>\n",
       "      <td>334</td>\n",
       "      <td>21</td>\n",
       "      <td>7</td>\n",
       "      <td>1</td>\n",
       "      <td>-1</td>\n",
       "      <td>0</td>\n",
       "      <td>0</td>\n",
       "      <td>0</td>\n",
       "      <td>0</td>\n",
       "      <td>...</td>\n",
       "      <td>1</td>\n",
       "      <td>0</td>\n",
       "      <td>1</td>\n",
       "      <td>0</td>\n",
       "      <td>0</td>\n",
       "      <td>0</td>\n",
       "      <td>0</td>\n",
       "      <td>0</td>\n",
       "      <td>0</td>\n",
       "      <td>0</td>\n",
       "    </tr>\n",
       "    <tr>\n",
       "      <th>2</th>\n",
       "      <td>50</td>\n",
       "      <td>52</td>\n",
       "      <td>31</td>\n",
       "      <td>7</td>\n",
       "      <td>8</td>\n",
       "      <td>-1</td>\n",
       "      <td>0</td>\n",
       "      <td>0</td>\n",
       "      <td>1</td>\n",
       "      <td>0</td>\n",
       "      <td>...</td>\n",
       "      <td>1</td>\n",
       "      <td>0</td>\n",
       "      <td>0</td>\n",
       "      <td>1</td>\n",
       "      <td>0</td>\n",
       "      <td>0</td>\n",
       "      <td>0</td>\n",
       "      <td>0</td>\n",
       "      <td>0</td>\n",
       "      <td>0</td>\n",
       "    </tr>\n",
       "    <tr>\n",
       "      <th>3</th>\n",
       "      <td>54</td>\n",
       "      <td>653</td>\n",
       "      <td>15</td>\n",
       "      <td>5</td>\n",
       "      <td>1</td>\n",
       "      <td>-1</td>\n",
       "      <td>0</td>\n",
       "      <td>0</td>\n",
       "      <td>1</td>\n",
       "      <td>0</td>\n",
       "      <td>...</td>\n",
       "      <td>1</td>\n",
       "      <td>0</td>\n",
       "      <td>1</td>\n",
       "      <td>0</td>\n",
       "      <td>0</td>\n",
       "      <td>0</td>\n",
       "      <td>1</td>\n",
       "      <td>0</td>\n",
       "      <td>1</td>\n",
       "      <td>0</td>\n",
       "    </tr>\n",
       "    <tr>\n",
       "      <th>4</th>\n",
       "      <td>47</td>\n",
       "      <td>0</td>\n",
       "      <td>19</td>\n",
       "      <td>8</td>\n",
       "      <td>2</td>\n",
       "      <td>-1</td>\n",
       "      <td>0</td>\n",
       "      <td>0</td>\n",
       "      <td>0</td>\n",
       "      <td>0</td>\n",
       "      <td>...</td>\n",
       "      <td>1</td>\n",
       "      <td>0</td>\n",
       "      <td>0</td>\n",
       "      <td>1</td>\n",
       "      <td>0</td>\n",
       "      <td>0</td>\n",
       "      <td>0</td>\n",
       "      <td>0</td>\n",
       "      <td>0</td>\n",
       "      <td>0</td>\n",
       "    </tr>\n",
       "  </tbody>\n",
       "</table>\n",
       "<p>5 rows × 28 columns</p>\n",
       "</div>"
      ],
      "text/plain": [
       "   age  balance  day  month  campaign  pdays  previous  job_1  job_2  job_3  \\\n",
       "0   51      394   28      1         2     -1         0      0      0      0   \n",
       "1   56      334   21      7         1     -1         0      0      0      0   \n",
       "2   50       52   31      7         8     -1         0      0      1      0   \n",
       "3   54      653   15      5         1     -1         0      0      1      0   \n",
       "4   47        0   19      8         2     -1         0      0      0      0   \n",
       "\n",
       "   ...  marital_1  marital_2  education_1  education_2  education_3  \\\n",
       "0  ...          0          1            0            1            0   \n",
       "1  ...          1          0            1            0            0   \n",
       "2  ...          1          0            0            1            0   \n",
       "3  ...          1          0            1            0            0   \n",
       "4  ...          1          0            0            1            0   \n",
       "\n",
       "   contact_1  contact_2  default_1  housing_1  loan_1  \n",
       "0          1          0          0          0       0  \n",
       "1          0          0          0          0       0  \n",
       "2          0          0          0          0       0  \n",
       "3          0          1          0          1       0  \n",
       "4          0          0          0          0       0  \n",
       "\n",
       "[5 rows x 28 columns]"
      ]
     },
     "execution_count": 68,
     "metadata": {},
     "output_type": "execute_result"
    }
   ],
   "source": [
    "df_test.head()"
   ]
  },
  {
   "cell_type": "markdown",
   "id": "8bba1ba3",
   "metadata": {},
   "source": [
    "    Ademas los clientes tiene un compartemineto mas normal en la contratcion del producto que aquellos que no lo tiene. Es decir inicion y fines de año no parecen ser momentos propicios de contratacion."
   ]
  },
  {
   "cell_type": "markdown",
   "id": "fc0c006a",
   "metadata": {},
   "source": [
    "## Normalizacion Manual Test"
   ]
  },
  {
   "cell_type": "code",
   "execution_count": 69,
   "id": "6e71301d",
   "metadata": {
    "scrolled": false
   },
   "outputs": [
    {
     "data": {
      "text/html": [
       "<div>\n",
       "<style scoped>\n",
       "    .dataframe tbody tr th:only-of-type {\n",
       "        vertical-align: middle;\n",
       "    }\n",
       "\n",
       "    .dataframe tbody tr th {\n",
       "        vertical-align: top;\n",
       "    }\n",
       "\n",
       "    .dataframe thead th {\n",
       "        text-align: right;\n",
       "    }\n",
       "</style>\n",
       "<table border=\"1\" class=\"dataframe\">\n",
       "  <thead>\n",
       "    <tr style=\"text-align: right;\">\n",
       "      <th></th>\n",
       "      <th>age</th>\n",
       "      <th>balance</th>\n",
       "      <th>campaign</th>\n",
       "      <th>pdays</th>\n",
       "      <th>previous</th>\n",
       "      <th>day</th>\n",
       "      <th>month</th>\n",
       "      <th>job_1</th>\n",
       "      <th>job_2</th>\n",
       "      <th>job_3</th>\n",
       "      <th>...</th>\n",
       "      <th>marital_1</th>\n",
       "      <th>marital_2</th>\n",
       "      <th>education_1</th>\n",
       "      <th>education_2</th>\n",
       "      <th>education_3</th>\n",
       "      <th>contact_1</th>\n",
       "      <th>contact_2</th>\n",
       "      <th>default_1</th>\n",
       "      <th>housing_1</th>\n",
       "      <th>loan_1</th>\n",
       "    </tr>\n",
       "  </thead>\n",
       "  <tbody>\n",
       "    <tr>\n",
       "      <th>0</th>\n",
       "      <td>0.470588</td>\n",
       "      <td>0.073101</td>\n",
       "      <td>0.023810</td>\n",
       "      <td>0.0</td>\n",
       "      <td>0.0</td>\n",
       "      <td>28</td>\n",
       "      <td>1</td>\n",
       "      <td>0</td>\n",
       "      <td>0</td>\n",
       "      <td>0</td>\n",
       "      <td>...</td>\n",
       "      <td>0</td>\n",
       "      <td>1</td>\n",
       "      <td>0</td>\n",
       "      <td>1</td>\n",
       "      <td>0</td>\n",
       "      <td>1</td>\n",
       "      <td>0</td>\n",
       "      <td>0</td>\n",
       "      <td>0</td>\n",
       "      <td>0</td>\n",
       "    </tr>\n",
       "    <tr>\n",
       "      <th>1</th>\n",
       "      <td>0.544118</td>\n",
       "      <td>0.072116</td>\n",
       "      <td>0.000000</td>\n",
       "      <td>0.0</td>\n",
       "      <td>0.0</td>\n",
       "      <td>21</td>\n",
       "      <td>7</td>\n",
       "      <td>0</td>\n",
       "      <td>0</td>\n",
       "      <td>0</td>\n",
       "      <td>...</td>\n",
       "      <td>1</td>\n",
       "      <td>0</td>\n",
       "      <td>1</td>\n",
       "      <td>0</td>\n",
       "      <td>0</td>\n",
       "      <td>0</td>\n",
       "      <td>0</td>\n",
       "      <td>0</td>\n",
       "      <td>0</td>\n",
       "      <td>0</td>\n",
       "    </tr>\n",
       "    <tr>\n",
       "      <th>2</th>\n",
       "      <td>0.455882</td>\n",
       "      <td>0.067485</td>\n",
       "      <td>0.166667</td>\n",
       "      <td>0.0</td>\n",
       "      <td>0.0</td>\n",
       "      <td>31</td>\n",
       "      <td>7</td>\n",
       "      <td>0</td>\n",
       "      <td>1</td>\n",
       "      <td>0</td>\n",
       "      <td>...</td>\n",
       "      <td>1</td>\n",
       "      <td>0</td>\n",
       "      <td>0</td>\n",
       "      <td>1</td>\n",
       "      <td>0</td>\n",
       "      <td>0</td>\n",
       "      <td>0</td>\n",
       "      <td>0</td>\n",
       "      <td>0</td>\n",
       "      <td>0</td>\n",
       "    </tr>\n",
       "    <tr>\n",
       "      <th>3</th>\n",
       "      <td>0.514706</td>\n",
       "      <td>0.077355</td>\n",
       "      <td>0.000000</td>\n",
       "      <td>0.0</td>\n",
       "      <td>0.0</td>\n",
       "      <td>15</td>\n",
       "      <td>5</td>\n",
       "      <td>0</td>\n",
       "      <td>1</td>\n",
       "      <td>0</td>\n",
       "      <td>...</td>\n",
       "      <td>1</td>\n",
       "      <td>0</td>\n",
       "      <td>1</td>\n",
       "      <td>0</td>\n",
       "      <td>0</td>\n",
       "      <td>0</td>\n",
       "      <td>1</td>\n",
       "      <td>0</td>\n",
       "      <td>1</td>\n",
       "      <td>0</td>\n",
       "    </tr>\n",
       "    <tr>\n",
       "      <th>4</th>\n",
       "      <td>0.411765</td>\n",
       "      <td>0.066631</td>\n",
       "      <td>0.023810</td>\n",
       "      <td>0.0</td>\n",
       "      <td>0.0</td>\n",
       "      <td>19</td>\n",
       "      <td>8</td>\n",
       "      <td>0</td>\n",
       "      <td>0</td>\n",
       "      <td>0</td>\n",
       "      <td>...</td>\n",
       "      <td>1</td>\n",
       "      <td>0</td>\n",
       "      <td>0</td>\n",
       "      <td>1</td>\n",
       "      <td>0</td>\n",
       "      <td>0</td>\n",
       "      <td>0</td>\n",
       "      <td>0</td>\n",
       "      <td>0</td>\n",
       "      <td>0</td>\n",
       "    </tr>\n",
       "  </tbody>\n",
       "</table>\n",
       "<p>5 rows × 28 columns</p>\n",
       "</div>"
      ],
      "text/plain": [
       "        age   balance  campaign  pdays  previous  day  month  job_1  job_2  \\\n",
       "0  0.470588  0.073101  0.023810    0.0       0.0   28      1      0      0   \n",
       "1  0.544118  0.072116  0.000000    0.0       0.0   21      7      0      0   \n",
       "2  0.455882  0.067485  0.166667    0.0       0.0   31      7      0      1   \n",
       "3  0.514706  0.077355  0.000000    0.0       0.0   15      5      0      1   \n",
       "4  0.411765  0.066631  0.023810    0.0       0.0   19      8      0      0   \n",
       "\n",
       "   job_3  ...  marital_1  marital_2  education_1  education_2  education_3  \\\n",
       "0      0  ...          0          1            0            1            0   \n",
       "1      0  ...          1          0            1            0            0   \n",
       "2      0  ...          1          0            0            1            0   \n",
       "3      0  ...          1          0            1            0            0   \n",
       "4      0  ...          1          0            0            1            0   \n",
       "\n",
       "   contact_1  contact_2  default_1  housing_1  loan_1  \n",
       "0          1          0          0          0       0  \n",
       "1          0          0          0          0       0  \n",
       "2          0          0          0          0       0  \n",
       "3          0          1          0          1       0  \n",
       "4          0          0          0          0       0  \n",
       "\n",
       "[5 rows x 28 columns]"
      ]
     },
     "execution_count": 69,
     "metadata": {},
     "output_type": "execute_result"
    }
   ],
   "source": [
    "# #selecionamos las columnas que normalizaremos\n",
    "df_norm = df_test[['age','balance','campaign','pdays','previous']]\n",
    "df_prep2 = df_test.drop(columns=['age','balance','campaign','pdays','previous'])\n",
    "\n",
    "from sklearn.preprocessing import MinMaxScaler\n",
    "df_trans = MinMaxScaler()\n",
    "df_trans = df_trans.fit_transform(df_norm)\n",
    "\n",
    "df_trans = pd.DataFrame(df_trans)\n",
    "df_trans.columns = df_norm.columns\n",
    "\n",
    "df_test_trans = pd.concat([df_trans, df_prep2], axis=1,)\n",
    "df_test_trans.reindex(columns=['age','job','marital','education','default','balance','housing',\n",
    "                          'loan','contact','day','month','campaign','pdays','previous'])\n",
    "\n",
    "df_test_trans.head()"
   ]
  },
  {
   "cell_type": "markdown",
   "id": "c2e095b8",
   "metadata": {},
   "source": [
    "# Balanceo de datos"
   ]
  },
  {
   "cell_type": "markdown",
   "id": "dc4a3537",
   "metadata": {},
   "source": [
    "# Oversampling"
   ]
  },
  {
   "cell_type": "code",
   "execution_count": 70,
   "id": "19004bc5",
   "metadata": {},
   "outputs": [],
   "source": [
    "#Separamos el set de datos\n",
    "x = df_train_trans.drop(['y'], axis=1)\n",
    "y = df_train_trans['y']"
   ]
  },
  {
   "cell_type": "code",
   "execution_count": 75,
   "id": "60a86f45",
   "metadata": {
    "scrolled": false
   },
   "outputs": [
    {
     "name": "stdout",
     "output_type": "stream",
     "text": [
      "0    0.666673\n",
      "1    0.333327\n",
      "Name: y, dtype: float64\n",
      "0    35347\n",
      "1    17673\n",
      "Name: y, dtype: int64\n",
      "(53020, 29)\n"
     ]
    },
    {
     "data": {
      "text/html": [
       "<div>\n",
       "<style scoped>\n",
       "    .dataframe tbody tr th:only-of-type {\n",
       "        vertical-align: middle;\n",
       "    }\n",
       "\n",
       "    .dataframe tbody tr th {\n",
       "        vertical-align: top;\n",
       "    }\n",
       "\n",
       "    .dataframe thead th {\n",
       "        text-align: right;\n",
       "    }\n",
       "</style>\n",
       "<table border=\"1\" class=\"dataframe\">\n",
       "  <thead>\n",
       "    <tr style=\"text-align: right;\">\n",
       "      <th></th>\n",
       "      <th>age</th>\n",
       "      <th>balance</th>\n",
       "      <th>campaign</th>\n",
       "      <th>pdays</th>\n",
       "      <th>previous</th>\n",
       "      <th>day</th>\n",
       "      <th>month</th>\n",
       "      <th>job_1</th>\n",
       "      <th>job_2</th>\n",
       "      <th>job_3</th>\n",
       "      <th>...</th>\n",
       "      <th>marital_2</th>\n",
       "      <th>education_1</th>\n",
       "      <th>education_2</th>\n",
       "      <th>education_3</th>\n",
       "      <th>contact_1</th>\n",
       "      <th>contact_2</th>\n",
       "      <th>default_1</th>\n",
       "      <th>housing_1</th>\n",
       "      <th>loan_1</th>\n",
       "      <th>y</th>\n",
       "    </tr>\n",
       "  </thead>\n",
       "  <tbody>\n",
       "    <tr>\n",
       "      <th>0</th>\n",
       "      <td>0.363636</td>\n",
       "      <td>0.078187</td>\n",
       "      <td>0.032258</td>\n",
       "      <td>1.000000</td>\n",
       "      <td>0.000000</td>\n",
       "      <td>29</td>\n",
       "      <td>1</td>\n",
       "      <td>0</td>\n",
       "      <td>0</td>\n",
       "      <td>0</td>\n",
       "      <td>...</td>\n",
       "      <td>1</td>\n",
       "      <td>0</td>\n",
       "      <td>1</td>\n",
       "      <td>0</td>\n",
       "      <td>0</td>\n",
       "      <td>0</td>\n",
       "      <td>0</td>\n",
       "      <td>1</td>\n",
       "      <td>0</td>\n",
       "      <td>0</td>\n",
       "    </tr>\n",
       "    <tr>\n",
       "      <th>1</th>\n",
       "      <td>0.311688</td>\n",
       "      <td>0.086748</td>\n",
       "      <td>0.000000</td>\n",
       "      <td>0.181363</td>\n",
       "      <td>0.014545</td>\n",
       "      <td>6</td>\n",
       "      <td>8</td>\n",
       "      <td>0</td>\n",
       "      <td>0</td>\n",
       "      <td>0</td>\n",
       "      <td>...</td>\n",
       "      <td>0</td>\n",
       "      <td>0</td>\n",
       "      <td>1</td>\n",
       "      <td>0</td>\n",
       "      <td>0</td>\n",
       "      <td>0</td>\n",
       "      <td>0</td>\n",
       "      <td>0</td>\n",
       "      <td>0</td>\n",
       "      <td>0</td>\n",
       "    </tr>\n",
       "    <tr>\n",
       "      <th>2</th>\n",
       "      <td>0.194805</td>\n",
       "      <td>0.076163</td>\n",
       "      <td>0.000000</td>\n",
       "      <td>1.000000</td>\n",
       "      <td>0.000000</td>\n",
       "      <td>8</td>\n",
       "      <td>4</td>\n",
       "      <td>1</td>\n",
       "      <td>0</td>\n",
       "      <td>0</td>\n",
       "      <td>...</td>\n",
       "      <td>0</td>\n",
       "      <td>1</td>\n",
       "      <td>0</td>\n",
       "      <td>0</td>\n",
       "      <td>0</td>\n",
       "      <td>0</td>\n",
       "      <td>0</td>\n",
       "      <td>1</td>\n",
       "      <td>0</td>\n",
       "      <td>0</td>\n",
       "    </tr>\n",
       "    <tr>\n",
       "      <th>3</th>\n",
       "      <td>0.142857</td>\n",
       "      <td>0.086167</td>\n",
       "      <td>0.016129</td>\n",
       "      <td>1.000000</td>\n",
       "      <td>0.000000</td>\n",
       "      <td>18</td>\n",
       "      <td>5</td>\n",
       "      <td>1</td>\n",
       "      <td>0</td>\n",
       "      <td>0</td>\n",
       "      <td>...</td>\n",
       "      <td>1</td>\n",
       "      <td>1</td>\n",
       "      <td>0</td>\n",
       "      <td>0</td>\n",
       "      <td>0</td>\n",
       "      <td>0</td>\n",
       "      <td>0</td>\n",
       "      <td>0</td>\n",
       "      <td>0</td>\n",
       "      <td>0</td>\n",
       "    </tr>\n",
       "    <tr>\n",
       "      <th>4</th>\n",
       "      <td>0.142857</td>\n",
       "      <td>0.079767</td>\n",
       "      <td>0.000000</td>\n",
       "      <td>1.000000</td>\n",
       "      <td>0.000000</td>\n",
       "      <td>5</td>\n",
       "      <td>2</td>\n",
       "      <td>0</td>\n",
       "      <td>0</td>\n",
       "      <td>0</td>\n",
       "      <td>...</td>\n",
       "      <td>0</td>\n",
       "      <td>1</td>\n",
       "      <td>0</td>\n",
       "      <td>0</td>\n",
       "      <td>0</td>\n",
       "      <td>0</td>\n",
       "      <td>0</td>\n",
       "      <td>1</td>\n",
       "      <td>0</td>\n",
       "      <td>0</td>\n",
       "    </tr>\n",
       "  </tbody>\n",
       "</table>\n",
       "<p>5 rows × 29 columns</p>\n",
       "</div>"
      ],
      "text/plain": [
       "        age   balance  campaign     pdays  previous  day  month  job_1  job_2  \\\n",
       "0  0.363636  0.078187  0.032258  1.000000  0.000000   29      1      0      0   \n",
       "1  0.311688  0.086748  0.000000  0.181363  0.014545    6      8      0      0   \n",
       "2  0.194805  0.076163  0.000000  1.000000  0.000000    8      4      1      0   \n",
       "3  0.142857  0.086167  0.016129  1.000000  0.000000   18      5      1      0   \n",
       "4  0.142857  0.079767  0.000000  1.000000  0.000000    5      2      0      0   \n",
       "\n",
       "   job_3  ...  marital_2  education_1  education_2  education_3  contact_1  \\\n",
       "0      0  ...          1            0            1            0          0   \n",
       "1      0  ...          0            0            1            0          0   \n",
       "2      0  ...          0            1            0            0          0   \n",
       "3      0  ...          1            1            0            0          0   \n",
       "4      0  ...          0            1            0            0          0   \n",
       "\n",
       "   contact_2  default_1  housing_1  loan_1  y  \n",
       "0          0          0          1       0  0  \n",
       "1          0          0          0       0  0  \n",
       "2          0          0          1       0  0  \n",
       "3          0          0          0       0  0  \n",
       "4          0          0          1       0  0  \n",
       "\n",
       "[5 rows x 29 columns]"
      ]
     },
     "execution_count": 75,
     "metadata": {},
     "output_type": "execute_result"
    }
   ],
   "source": [
    "random_over = RandomOverSampler(sampling_strategy= 0.5,\n",
    "                               random_state=123)\n",
    "\n",
    "X_over,y_over = random_over.fit_resample(x,y)\n",
    "df_over = X_over\n",
    "df_over['y'] = y_over\n",
    "\n",
    "print(df_over.y.value_counts()/df_over.shape[0])\n",
    "print(df_over.y.value_counts())\n",
    "print(df_over.shape)\n",
    "df_over.head()"
   ]
  },
  {
   "cell_type": "markdown",
   "id": "1f29db13",
   "metadata": {},
   "source": [
    "# Multicolinealidad\n",
    "\n",
    "    ocurre cuando una variable independiente en un modelo de regresión se correlaciona linealmente con otra variable independiente.\n",
    "    \n",
    "Los coeficientes de regresión ajustados (beta hat) cambiarán sustancialmente si uno de los valores de una de las x variables se cambia solo un poco.\n",
    "\n",
    "La varianza de los coeficientes estimados se inflará, lo que significa que será difícil detectar la significación estadística. Además, es posible que el estadístico F sea significativo pero los estadísticos t individuales no lo sean.\n",
    "\n",
    "En última instancia, la multicolinealidad hace que la predicción sea menos precisa. Para un modelo dado, el supuesto subyacente es que las relaciones entre las variables predictoras, así como su relación con la variable objetivo, serán las mismas. Sin embargo, cuando existe multicolinealidad, es menos probable que sea el caso.\n"
   ]
  },
  {
   "cell_type": "markdown",
   "id": "2b6b226b",
   "metadata": {},
   "source": [
    "Donde  R2  se obtiene de la regresión del predictor  Xj  sobre los otros predictores. Esta es la opción más recomendada, los límites de referencia que se suelen emplear son:\n",
    "\n",
    "VIF = 1: ausencia total de colinealidad\n",
    "\n",
    "1 < VIF < 5: la regresión puede verse afectada por cierta colinealidad.\n",
    "\n",
    "5 < VIF < 10: la regresión puede verse altamente afectada por cierta colinealidad.\n",
    "\n",
    "El término tolerancia es  1VIF  por lo que los límites recomendables están entre 1 y 0.1."
   ]
  },
  {
   "cell_type": "code",
   "execution_count": 76,
   "id": "3e6f90f6",
   "metadata": {},
   "outputs": [],
   "source": [
    "# df_train.columns"
   ]
  },
  {
   "cell_type": "code",
   "execution_count": 77,
   "id": "bd8dc120",
   "metadata": {},
   "outputs": [],
   "source": [
    "# from statsmodels.stats.outliers_influence import variance_inflation_factor\n",
    "\n",
    "# X_variables = df [['age', 'job', 'marital', \n",
    "#                    'education','default', 'balance', \n",
    "#                    'housing','loan', 'contact', 'day', \n",
    "#                    'month', 'campaign', 'pdays', 'previous',\n",
    "#                    'poutcome', 'y']]\n",
    "# vif_data = pd.DataFrame () \n",
    "# vif_data [\"feature\"] = X_variables.columns \n",
    "# vif_data [\"VIF\"] = [varnce_inflation_factor (X_variables.values, i) for i in range (len (X_variables.columns))]"
   ]
  },
  {
   "cell_type": "code",
   "execution_count": 78,
   "id": "0f65bc92",
   "metadata": {},
   "outputs": [],
   "source": [
    "# correlation_matrix = df_train.corr()\n",
    "# sns.heatmap(correlation_matrix, annot =True)"
   ]
  },
  {
   "cell_type": "code",
   "execution_count": 79,
   "id": "6421a78d",
   "metadata": {},
   "outputs": [],
   "source": [
    "# print(df_train.corr())"
   ]
  },
  {
   "cell_type": "markdown",
   "id": "133c66b6",
   "metadata": {},
   "source": [
    "# Ejecutando Modelos "
   ]
  },
  {
   "cell_type": "code",
   "execution_count": 80,
   "id": "84cd4124",
   "metadata": {},
   "outputs": [],
   "source": [
    "#df_train_trans\n",
    "#df_over\n",
    "#df_under\n",
    "#df_train_oh"
   ]
  },
  {
   "cell_type": "code",
   "execution_count": 81,
   "id": "4cba5414",
   "metadata": {},
   "outputs": [],
   "source": [
    "#df_over = df_over.sample(frac=0.95, random_state=786)"
   ]
  },
  {
   "cell_type": "code",
   "execution_count": 82,
   "id": "b12aed30",
   "metadata": {
    "scrolled": false
   },
   "outputs": [
    {
     "data": {
      "text/html": [
       "<style  type=\"text/css\" >\n",
       "    #T_76666_ th {\n",
       "          text-align: left;\n",
       "    }#T_76666_row0_col0,#T_76666_row0_col3,#T_76666_row1_col0,#T_76666_row1_col1,#T_76666_row1_col2,#T_76666_row1_col4,#T_76666_row1_col5,#T_76666_row1_col6,#T_76666_row1_col7,#T_76666_row2_col0,#T_76666_row2_col1,#T_76666_row2_col2,#T_76666_row2_col3,#T_76666_row2_col4,#T_76666_row2_col5,#T_76666_row2_col6,#T_76666_row2_col7,#T_76666_row3_col0,#T_76666_row3_col1,#T_76666_row3_col2,#T_76666_row3_col3,#T_76666_row3_col4,#T_76666_row3_col5,#T_76666_row3_col6,#T_76666_row3_col7,#T_76666_row4_col0,#T_76666_row4_col1,#T_76666_row4_col2,#T_76666_row4_col3,#T_76666_row4_col4,#T_76666_row4_col5,#T_76666_row4_col6,#T_76666_row4_col7,#T_76666_row5_col0,#T_76666_row5_col1,#T_76666_row5_col2,#T_76666_row5_col3,#T_76666_row5_col4,#T_76666_row5_col5,#T_76666_row5_col6,#T_76666_row5_col7,#T_76666_row6_col0,#T_76666_row6_col1,#T_76666_row6_col2,#T_76666_row6_col3,#T_76666_row6_col4,#T_76666_row6_col5,#T_76666_row6_col6,#T_76666_row6_col7,#T_76666_row7_col0,#T_76666_row7_col1,#T_76666_row7_col2,#T_76666_row7_col3,#T_76666_row7_col4,#T_76666_row7_col5,#T_76666_row7_col6,#T_76666_row7_col7,#T_76666_row8_col0,#T_76666_row8_col1,#T_76666_row8_col2,#T_76666_row8_col3,#T_76666_row8_col4,#T_76666_row8_col5,#T_76666_row8_col6,#T_76666_row8_col7,#T_76666_row9_col0,#T_76666_row9_col1,#T_76666_row9_col2,#T_76666_row9_col3,#T_76666_row9_col4,#T_76666_row9_col5,#T_76666_row9_col6,#T_76666_row9_col7,#T_76666_row10_col0,#T_76666_row10_col1,#T_76666_row10_col2,#T_76666_row10_col3,#T_76666_row10_col4,#T_76666_row10_col5,#T_76666_row10_col6,#T_76666_row10_col7,#T_76666_row11_col0,#T_76666_row11_col1,#T_76666_row11_col2,#T_76666_row11_col3,#T_76666_row11_col4,#T_76666_row11_col5,#T_76666_row11_col6,#T_76666_row11_col7,#T_76666_row12_col0,#T_76666_row12_col1,#T_76666_row12_col2,#T_76666_row12_col3,#T_76666_row12_col4,#T_76666_row12_col5,#T_76666_row12_col6,#T_76666_row12_col7,#T_76666_row13_col0,#T_76666_row13_col1,#T_76666_row13_col2,#T_76666_row13_col3,#T_76666_row13_col4,#T_76666_row13_col5,#T_76666_row13_col6,#T_76666_row13_col7,#T_76666_row14_col0,#T_76666_row14_col1,#T_76666_row14_col2,#T_76666_row14_col3,#T_76666_row14_col4,#T_76666_row14_col5,#T_76666_row14_col6,#T_76666_row14_col7{\n",
       "            text-align:  left;\n",
       "            text-align:  left;\n",
       "        }#T_76666_row0_col1,#T_76666_row0_col2,#T_76666_row0_col4,#T_76666_row0_col5,#T_76666_row0_col6,#T_76666_row0_col7,#T_76666_row1_col3{\n",
       "            text-align:  left;\n",
       "            text-align:  left;\n",
       "            background-color:  yellow;\n",
       "        }#T_76666_row0_col8,#T_76666_row1_col8,#T_76666_row2_col8,#T_76666_row3_col8,#T_76666_row4_col8,#T_76666_row5_col8,#T_76666_row6_col8,#T_76666_row7_col8,#T_76666_row8_col8,#T_76666_row9_col8,#T_76666_row10_col8,#T_76666_row11_col8,#T_76666_row13_col8,#T_76666_row14_col8{\n",
       "            text-align:  left;\n",
       "            text-align:  left;\n",
       "            background-color:  lightgrey;\n",
       "        }#T_76666_row12_col8{\n",
       "            text-align:  left;\n",
       "            text-align:  left;\n",
       "            background-color:  yellow;\n",
       "            background-color:  lightgrey;\n",
       "        }</style><table id=\"T_76666_\" ><thead>    <tr>        <th class=\"blank level0\" ></th>        <th class=\"col_heading level0 col0\" >Model</th>        <th class=\"col_heading level0 col1\" >Accuracy</th>        <th class=\"col_heading level0 col2\" >AUC</th>        <th class=\"col_heading level0 col3\" >Recall</th>        <th class=\"col_heading level0 col4\" >Prec.</th>        <th class=\"col_heading level0 col5\" >F1</th>        <th class=\"col_heading level0 col6\" >Kappa</th>        <th class=\"col_heading level0 col7\" >MCC</th>        <th class=\"col_heading level0 col8\" >TT (Sec)</th>    </tr></thead><tbody>\n",
       "                <tr>\n",
       "                        <th id=\"T_76666_level0_row0\" class=\"row_heading level0 row0\" >et</th>\n",
       "                        <td id=\"T_76666_row0_col0\" class=\"data row0 col0\" >Extra Trees Classifier</td>\n",
       "                        <td id=\"T_76666_row0_col1\" class=\"data row0 col1\" >0.9557</td>\n",
       "                        <td id=\"T_76666_row0_col2\" class=\"data row0 col2\" >0.9862</td>\n",
       "                        <td id=\"T_76666_row0_col3\" class=\"data row0 col3\" >0.9583</td>\n",
       "                        <td id=\"T_76666_row0_col4\" class=\"data row0 col4\" >0.9134</td>\n",
       "                        <td id=\"T_76666_row0_col5\" class=\"data row0 col5\" >0.9353</td>\n",
       "                        <td id=\"T_76666_row0_col6\" class=\"data row0 col6\" >0.9017</td>\n",
       "                        <td id=\"T_76666_row0_col7\" class=\"data row0 col7\" >0.9024</td>\n",
       "                        <td id=\"T_76666_row0_col8\" class=\"data row0 col8\" >3.4960</td>\n",
       "            </tr>\n",
       "            <tr>\n",
       "                        <th id=\"T_76666_level0_row1\" class=\"row_heading level0 row1\" >rf</th>\n",
       "                        <td id=\"T_76666_row1_col0\" class=\"data row1 col0\" >Random Forest Classifier</td>\n",
       "                        <td id=\"T_76666_row1_col1\" class=\"data row1 col1\" >0.9530</td>\n",
       "                        <td id=\"T_76666_row1_col2\" class=\"data row1 col2\" >0.9856</td>\n",
       "                        <td id=\"T_76666_row1_col3\" class=\"data row1 col3\" >0.9631</td>\n",
       "                        <td id=\"T_76666_row1_col4\" class=\"data row1 col4\" >0.9027</td>\n",
       "                        <td id=\"T_76666_row1_col5\" class=\"data row1 col5\" >0.9319</td>\n",
       "                        <td id=\"T_76666_row1_col6\" class=\"data row1 col6\" >0.8961</td>\n",
       "                        <td id=\"T_76666_row1_col7\" class=\"data row1 col7\" >0.8972</td>\n",
       "                        <td id=\"T_76666_row1_col8\" class=\"data row1 col8\" >2.7640</td>\n",
       "            </tr>\n",
       "            <tr>\n",
       "                        <th id=\"T_76666_level0_row2\" class=\"row_heading level0 row2\" >dt</th>\n",
       "                        <td id=\"T_76666_row2_col0\" class=\"data row2 col0\" >Decision Tree Classifier</td>\n",
       "                        <td id=\"T_76666_row2_col1\" class=\"data row2 col1\" >0.9044</td>\n",
       "                        <td id=\"T_76666_row2_col2\" class=\"data row2 col2\" >0.9187</td>\n",
       "                        <td id=\"T_76666_row2_col3\" class=\"data row2 col3\" >0.9620</td>\n",
       "                        <td id=\"T_76666_row2_col4\" class=\"data row2 col4\" >0.7948</td>\n",
       "                        <td id=\"T_76666_row2_col5\" class=\"data row2 col5\" >0.8704</td>\n",
       "                        <td id=\"T_76666_row2_col6\" class=\"data row2 col6\" >0.7957</td>\n",
       "                        <td id=\"T_76666_row2_col7\" class=\"data row2 col7\" >0.8049</td>\n",
       "                        <td id=\"T_76666_row2_col8\" class=\"data row2 col8\" >0.2230</td>\n",
       "            </tr>\n",
       "            <tr>\n",
       "                        <th id=\"T_76666_level0_row3\" class=\"row_heading level0 row3\" >knn</th>\n",
       "                        <td id=\"T_76666_row3_col0\" class=\"data row3 col0\" >K Neighbors Classifier</td>\n",
       "                        <td id=\"T_76666_row3_col1\" class=\"data row3 col1\" >0.7974</td>\n",
       "                        <td id=\"T_76666_row3_col2\" class=\"data row3 col2\" >0.8814</td>\n",
       "                        <td id=\"T_76666_row3_col3\" class=\"data row3 col3\" >0.7591</td>\n",
       "                        <td id=\"T_76666_row3_col4\" class=\"data row3 col4\" >0.6748</td>\n",
       "                        <td id=\"T_76666_row3_col5\" class=\"data row3 col5\" >0.7144</td>\n",
       "                        <td id=\"T_76666_row3_col6\" class=\"data row3 col6\" >0.5583</td>\n",
       "                        <td id=\"T_76666_row3_col7\" class=\"data row3 col7\" >0.5606</td>\n",
       "                        <td id=\"T_76666_row3_col8\" class=\"data row3 col8\" >1.5270</td>\n",
       "            </tr>\n",
       "            <tr>\n",
       "                        <th id=\"T_76666_level0_row4\" class=\"row_heading level0 row4\" >xgboost</th>\n",
       "                        <td id=\"T_76666_row4_col0\" class=\"data row4 col0\" >Extreme Gradient Boosting</td>\n",
       "                        <td id=\"T_76666_row4_col1\" class=\"data row4 col1\" >0.8270</td>\n",
       "                        <td id=\"T_76666_row4_col2\" class=\"data row4 col2\" >0.8886</td>\n",
       "                        <td id=\"T_76666_row4_col3\" class=\"data row4 col3\" >0.6298</td>\n",
       "                        <td id=\"T_76666_row4_col4\" class=\"data row4 col4\" >0.8097</td>\n",
       "                        <td id=\"T_76666_row4_col5\" class=\"data row4 col5\" >0.7085</td>\n",
       "                        <td id=\"T_76666_row4_col6\" class=\"data row4 col6\" >0.5882</td>\n",
       "                        <td id=\"T_76666_row4_col7\" class=\"data row4 col7\" >0.5976</td>\n",
       "                        <td id=\"T_76666_row4_col8\" class=\"data row4 col8\" >3.7920</td>\n",
       "            </tr>\n",
       "            <tr>\n",
       "                        <th id=\"T_76666_level0_row5\" class=\"row_heading level0 row5\" >catboost</th>\n",
       "                        <td id=\"T_76666_row5_col0\" class=\"data row5 col0\" >CatBoost Classifier</td>\n",
       "                        <td id=\"T_76666_row5_col1\" class=\"data row5 col1\" >0.8163</td>\n",
       "                        <td id=\"T_76666_row5_col2\" class=\"data row5 col2\" >0.8752</td>\n",
       "                        <td id=\"T_76666_row5_col3\" class=\"data row5 col3\" >0.5994</td>\n",
       "                        <td id=\"T_76666_row5_col4\" class=\"data row5 col4\" >0.8004</td>\n",
       "                        <td id=\"T_76666_row5_col5\" class=\"data row5 col5\" >0.6854</td>\n",
       "                        <td id=\"T_76666_row5_col6\" class=\"data row5 col6\" >0.5595</td>\n",
       "                        <td id=\"T_76666_row5_col7\" class=\"data row5 col7\" >0.5712</td>\n",
       "                        <td id=\"T_76666_row5_col8\" class=\"data row5 col8\" >9.1470</td>\n",
       "            </tr>\n",
       "            <tr>\n",
       "                        <th id=\"T_76666_level0_row6\" class=\"row_heading level0 row6\" >lightgbm</th>\n",
       "                        <td id=\"T_76666_row6_col0\" class=\"data row6 col0\" >Light Gradient Boosting Machine</td>\n",
       "                        <td id=\"T_76666_row6_col1\" class=\"data row6 col1\" >0.7983</td>\n",
       "                        <td id=\"T_76666_row6_col2\" class=\"data row6 col2\" >0.8473</td>\n",
       "                        <td id=\"T_76666_row6_col3\" class=\"data row6 col3\" >0.5554</td>\n",
       "                        <td id=\"T_76666_row6_col4\" class=\"data row6 col4\" >0.7770</td>\n",
       "                        <td id=\"T_76666_row6_col5\" class=\"data row6 col5\" >0.6477</td>\n",
       "                        <td id=\"T_76666_row6_col6\" class=\"data row6 col6\" >0.5119</td>\n",
       "                        <td id=\"T_76666_row6_col7\" class=\"data row6 col7\" >0.5261</td>\n",
       "                        <td id=\"T_76666_row6_col8\" class=\"data row6 col8\" >0.5810</td>\n",
       "            </tr>\n",
       "            <tr>\n",
       "                        <th id=\"T_76666_level0_row7\" class=\"row_heading level0 row7\" >gbc</th>\n",
       "                        <td id=\"T_76666_row7_col0\" class=\"data row7 col0\" >Gradient Boosting Classifier</td>\n",
       "                        <td id=\"T_76666_row7_col1\" class=\"data row7 col1\" >0.7766</td>\n",
       "                        <td id=\"T_76666_row7_col2\" class=\"data row7 col2\" >0.7937</td>\n",
       "                        <td id=\"T_76666_row7_col3\" class=\"data row7 col3\" >0.4774</td>\n",
       "                        <td id=\"T_76666_row7_col4\" class=\"data row7 col4\" >0.7653</td>\n",
       "                        <td id=\"T_76666_row7_col5\" class=\"data row7 col5\" >0.5879</td>\n",
       "                        <td id=\"T_76666_row7_col6\" class=\"data row7 col6\" >0.4458</td>\n",
       "                        <td id=\"T_76666_row7_col7\" class=\"data row7 col7\" >0.4691</td>\n",
       "                        <td id=\"T_76666_row7_col8\" class=\"data row7 col8\" >3.2210</td>\n",
       "            </tr>\n",
       "            <tr>\n",
       "                        <th id=\"T_76666_level0_row8\" class=\"row_heading level0 row8\" >ada</th>\n",
       "                        <td id=\"T_76666_row8_col0\" class=\"data row8 col0\" >Ada Boost Classifier</td>\n",
       "                        <td id=\"T_76666_row8_col1\" class=\"data row8 col1\" >0.7595</td>\n",
       "                        <td id=\"T_76666_row8_col2\" class=\"data row8 col2\" >0.7698</td>\n",
       "                        <td id=\"T_76666_row8_col3\" class=\"data row8 col3\" >0.4439</td>\n",
       "                        <td id=\"T_76666_row8_col4\" class=\"data row8 col4\" >0.7302</td>\n",
       "                        <td id=\"T_76666_row8_col5\" class=\"data row8 col5\" >0.5520</td>\n",
       "                        <td id=\"T_76666_row8_col6\" class=\"data row8 col6\" >0.4008</td>\n",
       "                        <td id=\"T_76666_row8_col7\" class=\"data row8 col7\" >0.4240</td>\n",
       "                        <td id=\"T_76666_row8_col8\" class=\"data row8 col8\" >0.8170</td>\n",
       "            </tr>\n",
       "            <tr>\n",
       "                        <th id=\"T_76666_level0_row9\" class=\"row_heading level0 row9\" >lr</th>\n",
       "                        <td id=\"T_76666_row9_col0\" class=\"data row9 col0\" >Logistic Regression</td>\n",
       "                        <td id=\"T_76666_row9_col1\" class=\"data row9 col1\" >0.7501</td>\n",
       "                        <td id=\"T_76666_row9_col2\" class=\"data row9 col2\" >0.7562</td>\n",
       "                        <td id=\"T_76666_row9_col3\" class=\"data row9 col3\" >0.4175</td>\n",
       "                        <td id=\"T_76666_row9_col4\" class=\"data row9 col4\" >0.7155</td>\n",
       "                        <td id=\"T_76666_row9_col5\" class=\"data row9 col5\" >0.5272</td>\n",
       "                        <td id=\"T_76666_row9_col6\" class=\"data row9 col6\" >0.3729</td>\n",
       "                        <td id=\"T_76666_row9_col7\" class=\"data row9 col7\" >0.3980</td>\n",
       "                        <td id=\"T_76666_row9_col8\" class=\"data row9 col8\" >1.7230</td>\n",
       "            </tr>\n",
       "            <tr>\n",
       "                        <th id=\"T_76666_level0_row10\" class=\"row_heading level0 row10\" >lda</th>\n",
       "                        <td id=\"T_76666_row10_col0\" class=\"data row10 col0\" >Linear Discriminant Analysis</td>\n",
       "                        <td id=\"T_76666_row10_col1\" class=\"data row10 col1\" >0.7460</td>\n",
       "                        <td id=\"T_76666_row10_col2\" class=\"data row10 col2\" >0.7537</td>\n",
       "                        <td id=\"T_76666_row10_col3\" class=\"data row10 col3\" >0.4055</td>\n",
       "                        <td id=\"T_76666_row10_col4\" class=\"data row10 col4\" >0.7093</td>\n",
       "                        <td id=\"T_76666_row10_col5\" class=\"data row10 col5\" >0.5159</td>\n",
       "                        <td id=\"T_76666_row10_col6\" class=\"data row10 col6\" >0.3606</td>\n",
       "                        <td id=\"T_76666_row10_col7\" class=\"data row10 col7\" >0.3866</td>\n",
       "                        <td id=\"T_76666_row10_col8\" class=\"data row10 col8\" >0.2590</td>\n",
       "            </tr>\n",
       "            <tr>\n",
       "                        <th id=\"T_76666_level0_row11\" class=\"row_heading level0 row11\" >ridge</th>\n",
       "                        <td id=\"T_76666_row11_col0\" class=\"data row11 col0\" >Ridge Classifier</td>\n",
       "                        <td id=\"T_76666_row11_col1\" class=\"data row11 col1\" >0.7450</td>\n",
       "                        <td id=\"T_76666_row11_col2\" class=\"data row11 col2\" >0.0000</td>\n",
       "                        <td id=\"T_76666_row11_col3\" class=\"data row11 col3\" >0.3896</td>\n",
       "                        <td id=\"T_76666_row11_col4\" class=\"data row11 col4\" >0.7175</td>\n",
       "                        <td id=\"T_76666_row11_col5\" class=\"data row11 col5\" >0.5048</td>\n",
       "                        <td id=\"T_76666_row11_col6\" class=\"data row11 col6\" >0.3528</td>\n",
       "                        <td id=\"T_76666_row11_col7\" class=\"data row11 col7\" >0.3827</td>\n",
       "                        <td id=\"T_76666_row11_col8\" class=\"data row11 col8\" >0.0590</td>\n",
       "            </tr>\n",
       "            <tr>\n",
       "                        <th id=\"T_76666_level0_row12\" class=\"row_heading level0 row12\" >nb</th>\n",
       "                        <td id=\"T_76666_row12_col0\" class=\"data row12 col0\" >Naive Bayes</td>\n",
       "                        <td id=\"T_76666_row12_col1\" class=\"data row12 col1\" >0.7241</td>\n",
       "                        <td id=\"T_76666_row12_col2\" class=\"data row12 col2\" >0.7255</td>\n",
       "                        <td id=\"T_76666_row12_col3\" class=\"data row12 col3\" >0.4123</td>\n",
       "                        <td id=\"T_76666_row12_col4\" class=\"data row12 col4\" >0.6332</td>\n",
       "                        <td id=\"T_76666_row12_col5\" class=\"data row12 col5\" >0.4994</td>\n",
       "                        <td id=\"T_76666_row12_col6\" class=\"data row12 col6\" >0.3205</td>\n",
       "                        <td id=\"T_76666_row12_col7\" class=\"data row12 col7\" >0.3346</td>\n",
       "                        <td id=\"T_76666_row12_col8\" class=\"data row12 col8\" >0.0510</td>\n",
       "            </tr>\n",
       "            <tr>\n",
       "                        <th id=\"T_76666_level0_row13\" class=\"row_heading level0 row13\" >qda</th>\n",
       "                        <td id=\"T_76666_row13_col0\" class=\"data row13 col0\" >Quadratic Discriminant Analysis</td>\n",
       "                        <td id=\"T_76666_row13_col1\" class=\"data row13 col1\" >0.6031</td>\n",
       "                        <td id=\"T_76666_row13_col2\" class=\"data row13 col2\" >0.6279</td>\n",
       "                        <td id=\"T_76666_row13_col3\" class=\"data row13 col3\" >0.5394</td>\n",
       "                        <td id=\"T_76666_row13_col4\" class=\"data row13 col4\" >0.4679</td>\n",
       "                        <td id=\"T_76666_row13_col5\" class=\"data row13 col5\" >0.4548</td>\n",
       "                        <td id=\"T_76666_row13_col6\" class=\"data row13 col6\" >0.1698</td>\n",
       "                        <td id=\"T_76666_row13_col7\" class=\"data row13 col7\" >0.1808</td>\n",
       "                        <td id=\"T_76666_row13_col8\" class=\"data row13 col8\" >0.1510</td>\n",
       "            </tr>\n",
       "            <tr>\n",
       "                        <th id=\"T_76666_level0_row14\" class=\"row_heading level0 row14\" >svm</th>\n",
       "                        <td id=\"T_76666_row14_col0\" class=\"data row14 col0\" >SVM - Linear Kernel</td>\n",
       "                        <td id=\"T_76666_row14_col1\" class=\"data row14 col1\" >0.6837</td>\n",
       "                        <td id=\"T_76666_row14_col2\" class=\"data row14 col2\" >0.0000</td>\n",
       "                        <td id=\"T_76666_row14_col3\" class=\"data row14 col3\" >0.4218</td>\n",
       "                        <td id=\"T_76666_row14_col4\" class=\"data row14 col4\" >0.6605</td>\n",
       "                        <td id=\"T_76666_row14_col5\" class=\"data row14 col5\" >0.4483</td>\n",
       "                        <td id=\"T_76666_row14_col6\" class=\"data row14 col6\" >0.2594</td>\n",
       "                        <td id=\"T_76666_row14_col7\" class=\"data row14 col7\" >0.3068</td>\n",
       "                        <td id=\"T_76666_row14_col8\" class=\"data row14 col8\" >0.5350</td>\n",
       "            </tr>\n",
       "    </tbody></table>"
      ],
      "text/plain": [
       "<pandas.io.formats.style.Styler at 0x1fb8c4f6ac0>"
      ]
     },
     "metadata": {},
     "output_type": "display_data"
    }
   ],
   "source": [
    "from pycaret.classification import *\n",
    "clf1 = setup(data = df_over,\n",
    "             target = 'y',\n",
    "             train_size=0.8,\n",
    "             session_id=123,\n",
    "            )\n",
    "\n",
    "best_model = compare_models(sort = 'F1')"
   ]
  },
  {
   "cell_type": "markdown",
   "id": "7e9d313d",
   "metadata": {},
   "source": [
    "    Precision nos da la calidad de la predicción: ¿qué porcentaje de los que hemos dicho que son la clase positiva, en realidad lo son?\n",
    "    \n",
    "    Recall nos da la cantidad: ¿qué porcentaje de la clase positiva hemos sido capaces de identificar?\n",
    "    \n",
    "    F1 combina Precision y Recall en una sola medida\n",
    "    \n",
    "    La Matriz de Confusión indica qué tipos de errores se cometen"
   ]
  },
  {
   "cell_type": "code",
   "execution_count": 83,
   "id": "88d43f77",
   "metadata": {
    "scrolled": false
   },
   "outputs": [
    {
     "data": {
      "text/html": [
       "<style  type=\"text/css\" >\n",
       "#T_20d0e_row10_col0,#T_20d0e_row10_col1,#T_20d0e_row10_col2,#T_20d0e_row10_col3,#T_20d0e_row10_col4,#T_20d0e_row10_col5,#T_20d0e_row10_col6{\n",
       "            background:  yellow;\n",
       "        }</style><table id=\"T_20d0e_\" ><thead>    <tr>        <th class=\"blank level0\" ></th>        <th class=\"col_heading level0 col0\" >Accuracy</th>        <th class=\"col_heading level0 col1\" >AUC</th>        <th class=\"col_heading level0 col2\" >Recall</th>        <th class=\"col_heading level0 col3\" >Prec.</th>        <th class=\"col_heading level0 col4\" >F1</th>        <th class=\"col_heading level0 col5\" >Kappa</th>        <th class=\"col_heading level0 col6\" >MCC</th>    </tr></thead><tbody>\n",
       "                <tr>\n",
       "                        <th id=\"T_20d0e_level0_row0\" class=\"row_heading level0 row0\" >0</th>\n",
       "                        <td id=\"T_20d0e_row0_col0\" class=\"data row0 col0\" >0.9580</td>\n",
       "                        <td id=\"T_20d0e_row0_col1\" class=\"data row0 col1\" >0.9880</td>\n",
       "                        <td id=\"T_20d0e_row0_col2\" class=\"data row0 col2\" >0.9718</td>\n",
       "                        <td id=\"T_20d0e_row0_col3\" class=\"data row0 col3\" >0.9089</td>\n",
       "                        <td id=\"T_20d0e_row0_col4\" class=\"data row0 col4\" >0.9392</td>\n",
       "                        <td id=\"T_20d0e_row0_col5\" class=\"data row0 col5\" >0.9073</td>\n",
       "                        <td id=\"T_20d0e_row0_col6\" class=\"data row0 col6\" >0.9084</td>\n",
       "            </tr>\n",
       "            <tr>\n",
       "                        <th id=\"T_20d0e_level0_row1\" class=\"row_heading level0 row1\" >1</th>\n",
       "                        <td id=\"T_20d0e_row1_col0\" class=\"data row1 col0\" >0.9602</td>\n",
       "                        <td id=\"T_20d0e_row1_col1\" class=\"data row1 col1\" >0.9859</td>\n",
       "                        <td id=\"T_20d0e_row1_col2\" class=\"data row1 col2\" >0.9675</td>\n",
       "                        <td id=\"T_20d0e_row1_col3\" class=\"data row1 col3\" >0.9176</td>\n",
       "                        <td id=\"T_20d0e_row1_col4\" class=\"data row1 col4\" >0.9419</td>\n",
       "                        <td id=\"T_20d0e_row1_col5\" class=\"data row1 col5\" >0.9116</td>\n",
       "                        <td id=\"T_20d0e_row1_col6\" class=\"data row1 col6\" >0.9124</td>\n",
       "            </tr>\n",
       "            <tr>\n",
       "                        <th id=\"T_20d0e_level0_row2\" class=\"row_heading level0 row2\" >2</th>\n",
       "                        <td id=\"T_20d0e_row2_col0\" class=\"data row2 col0\" >0.9557</td>\n",
       "                        <td id=\"T_20d0e_row2_col1\" class=\"data row2 col1\" >0.9828</td>\n",
       "                        <td id=\"T_20d0e_row2_col2\" class=\"data row2 col2\" >0.9562</td>\n",
       "                        <td id=\"T_20d0e_row2_col3\" class=\"data row2 col3\" >0.9149</td>\n",
       "                        <td id=\"T_20d0e_row2_col4\" class=\"data row2 col4\" >0.9351</td>\n",
       "                        <td id=\"T_20d0e_row2_col5\" class=\"data row2 col5\" >0.9015</td>\n",
       "                        <td id=\"T_20d0e_row2_col6\" class=\"data row2 col6\" >0.9020</td>\n",
       "            </tr>\n",
       "            <tr>\n",
       "                        <th id=\"T_20d0e_level0_row3\" class=\"row_heading level0 row3\" >3</th>\n",
       "                        <td id=\"T_20d0e_row3_col0\" class=\"data row3 col0\" >0.9526</td>\n",
       "                        <td id=\"T_20d0e_row3_col1\" class=\"data row3 col1\" >0.9885</td>\n",
       "                        <td id=\"T_20d0e_row3_col2\" class=\"data row3 col2\" >0.9654</td>\n",
       "                        <td id=\"T_20d0e_row3_col3\" class=\"data row3 col3\" >0.8999</td>\n",
       "                        <td id=\"T_20d0e_row3_col4\" class=\"data row3 col4\" >0.9315</td>\n",
       "                        <td id=\"T_20d0e_row3_col5\" class=\"data row3 col5\" >0.8954</td>\n",
       "                        <td id=\"T_20d0e_row3_col6\" class=\"data row3 col6\" >0.8967</td>\n",
       "            </tr>\n",
       "            <tr>\n",
       "                        <th id=\"T_20d0e_level0_row4\" class=\"row_heading level0 row4\" >4</th>\n",
       "                        <td id=\"T_20d0e_row4_col0\" class=\"data row4 col0\" >0.9536</td>\n",
       "                        <td id=\"T_20d0e_row4_col1\" class=\"data row4 col1\" >0.9868</td>\n",
       "                        <td id=\"T_20d0e_row4_col2\" class=\"data row4 col2\" >0.9647</td>\n",
       "                        <td id=\"T_20d0e_row4_col3\" class=\"data row4 col3\" >0.9028</td>\n",
       "                        <td id=\"T_20d0e_row4_col4\" class=\"data row4 col4\" >0.9327</td>\n",
       "                        <td id=\"T_20d0e_row4_col5\" class=\"data row4 col5\" >0.8973</td>\n",
       "                        <td id=\"T_20d0e_row4_col6\" class=\"data row4 col6\" >0.8985</td>\n",
       "            </tr>\n",
       "            <tr>\n",
       "                        <th id=\"T_20d0e_level0_row5\" class=\"row_heading level0 row5\" >5</th>\n",
       "                        <td id=\"T_20d0e_row5_col0\" class=\"data row5 col0\" >0.9521</td>\n",
       "                        <td id=\"T_20d0e_row5_col1\" class=\"data row5 col1\" >0.9839</td>\n",
       "                        <td id=\"T_20d0e_row5_col2\" class=\"data row5 col2\" >0.9570</td>\n",
       "                        <td id=\"T_20d0e_row5_col3\" class=\"data row5 col3\" >0.9052</td>\n",
       "                        <td id=\"T_20d0e_row5_col4\" class=\"data row5 col4\" >0.9304</td>\n",
       "                        <td id=\"T_20d0e_row5_col5\" class=\"data row5 col5\" >0.8940</td>\n",
       "                        <td id=\"T_20d0e_row5_col6\" class=\"data row5 col6\" >0.8948</td>\n",
       "            </tr>\n",
       "            <tr>\n",
       "                        <th id=\"T_20d0e_level0_row6\" class=\"row_heading level0 row6\" >6</th>\n",
       "                        <td id=\"T_20d0e_row6_col0\" class=\"data row6 col0\" >0.9550</td>\n",
       "                        <td id=\"T_20d0e_row6_col1\" class=\"data row6 col1\" >0.9894</td>\n",
       "                        <td id=\"T_20d0e_row6_col2\" class=\"data row6 col2\" >0.9760</td>\n",
       "                        <td id=\"T_20d0e_row6_col3\" class=\"data row6 col3\" >0.8980</td>\n",
       "                        <td id=\"T_20d0e_row6_col4\" class=\"data row6 col4\" >0.9354</td>\n",
       "                        <td id=\"T_20d0e_row6_col5\" class=\"data row6 col5\" >0.9009</td>\n",
       "                        <td id=\"T_20d0e_row6_col6\" class=\"data row6 col6\" >0.9027</td>\n",
       "            </tr>\n",
       "            <tr>\n",
       "                        <th id=\"T_20d0e_level0_row7\" class=\"row_heading level0 row7\" >7</th>\n",
       "                        <td id=\"T_20d0e_row7_col0\" class=\"data row7 col0\" >0.9434</td>\n",
       "                        <td id=\"T_20d0e_row7_col1\" class=\"data row7 col1\" >0.9827</td>\n",
       "                        <td id=\"T_20d0e_row7_col2\" class=\"data row7 col2\" >0.9619</td>\n",
       "                        <td id=\"T_20d0e_row7_col3\" class=\"data row7 col3\" >0.8798</td>\n",
       "                        <td id=\"T_20d0e_row7_col4\" class=\"data row7 col4\" >0.9190</td>\n",
       "                        <td id=\"T_20d0e_row7_col5\" class=\"data row7 col5\" >0.8757</td>\n",
       "                        <td id=\"T_20d0e_row7_col6\" class=\"data row7 col6\" >0.8777</td>\n",
       "            </tr>\n",
       "            <tr>\n",
       "                        <th id=\"T_20d0e_level0_row8\" class=\"row_heading level0 row8\" >8</th>\n",
       "                        <td id=\"T_20d0e_row8_col0\" class=\"data row8 col0\" >0.9491</td>\n",
       "                        <td id=\"T_20d0e_row8_col1\" class=\"data row8 col1\" >0.9848</td>\n",
       "                        <td id=\"T_20d0e_row8_col2\" class=\"data row8 col2\" >0.9612</td>\n",
       "                        <td id=\"T_20d0e_row8_col3\" class=\"data row8 col3\" >0.8942</td>\n",
       "                        <td id=\"T_20d0e_row8_col4\" class=\"data row8 col4\" >0.9265</td>\n",
       "                        <td id=\"T_20d0e_row8_col5\" class=\"data row8 col5\" >0.8876</td>\n",
       "                        <td id=\"T_20d0e_row8_col6\" class=\"data row8 col6\" >0.8890</td>\n",
       "            </tr>\n",
       "            <tr>\n",
       "                        <th id=\"T_20d0e_level0_row9\" class=\"row_heading level0 row9\" >9</th>\n",
       "                        <td id=\"T_20d0e_row9_col0\" class=\"data row9 col0\" >0.9502</td>\n",
       "                        <td id=\"T_20d0e_row9_col1\" class=\"data row9 col1\" >0.9836</td>\n",
       "                        <td id=\"T_20d0e_row9_col2\" class=\"data row9 col2\" >0.9499</td>\n",
       "                        <td id=\"T_20d0e_row9_col3\" class=\"data row9 col3\" >0.9057</td>\n",
       "                        <td id=\"T_20d0e_row9_col4\" class=\"data row9 col4\" >0.9273</td>\n",
       "                        <td id=\"T_20d0e_row9_col5\" class=\"data row9 col5\" >0.8895</td>\n",
       "                        <td id=\"T_20d0e_row9_col6\" class=\"data row9 col6\" >0.8901</td>\n",
       "            </tr>\n",
       "            <tr>\n",
       "                        <th id=\"T_20d0e_level0_row10\" class=\"row_heading level0 row10\" >Mean</th>\n",
       "                        <td id=\"T_20d0e_row10_col0\" class=\"data row10 col0\" >0.9530</td>\n",
       "                        <td id=\"T_20d0e_row10_col1\" class=\"data row10 col1\" >0.9856</td>\n",
       "                        <td id=\"T_20d0e_row10_col2\" class=\"data row10 col2\" >0.9631</td>\n",
       "                        <td id=\"T_20d0e_row10_col3\" class=\"data row10 col3\" >0.9027</td>\n",
       "                        <td id=\"T_20d0e_row10_col4\" class=\"data row10 col4\" >0.9319</td>\n",
       "                        <td id=\"T_20d0e_row10_col5\" class=\"data row10 col5\" >0.8961</td>\n",
       "                        <td id=\"T_20d0e_row10_col6\" class=\"data row10 col6\" >0.8972</td>\n",
       "            </tr>\n",
       "            <tr>\n",
       "                        <th id=\"T_20d0e_level0_row11\" class=\"row_heading level0 row11\" >SD</th>\n",
       "                        <td id=\"T_20d0e_row11_col0\" class=\"data row11 col0\" >0.0045</td>\n",
       "                        <td id=\"T_20d0e_row11_col1\" class=\"data row11 col1\" >0.0023</td>\n",
       "                        <td id=\"T_20d0e_row11_col2\" class=\"data row11 col2\" >0.0073</td>\n",
       "                        <td id=\"T_20d0e_row11_col3\" class=\"data row11 col3\" >0.0102</td>\n",
       "                        <td id=\"T_20d0e_row11_col4\" class=\"data row11 col4\" >0.0063</td>\n",
       "                        <td id=\"T_20d0e_row11_col5\" class=\"data row11 col5\" >0.0098</td>\n",
       "                        <td id=\"T_20d0e_row11_col6\" class=\"data row11 col6\" >0.0096</td>\n",
       "            </tr>\n",
       "    </tbody></table>"
      ],
      "text/plain": [
       "<pandas.io.formats.style.Styler at 0x1fb80ec5940>"
      ]
     },
     "metadata": {},
     "output_type": "display_data"
    }
   ],
   "source": [
    "rf = create_model('rf')"
   ]
  },
  {
   "cell_type": "markdown",
   "id": "412b932e",
   "metadata": {},
   "source": [
    "# Optimizando\n",
    "###  Tuned\n",
    "\n",
    "Esta función ajusta los hiperparámetros de un modelo y lo puntúa mediante la validación cruzada estratificada. La salida imprime una cuadrícula de puntuación que muestra Precisión, AUC, Precisión de recuperación, F1 y Kappa por pliegue (por defecto = 10 pliegues). Esta función devuelve un objeto de modelo entrenado.\n"
   ]
  },
  {
   "cell_type": "code",
   "execution_count": 91,
   "id": "c535d2af",
   "metadata": {},
   "outputs": [
    {
     "data": {
      "text/html": [
       "<style  type=\"text/css\" >\n",
       "#T_af40e_row10_col0,#T_af40e_row10_col1,#T_af40e_row10_col2,#T_af40e_row10_col3,#T_af40e_row10_col4,#T_af40e_row10_col5,#T_af40e_row10_col6{\n",
       "            background:  yellow;\n",
       "        }</style><table id=\"T_af40e_\" ><thead>    <tr>        <th class=\"blank level0\" ></th>        <th class=\"col_heading level0 col0\" >Accuracy</th>        <th class=\"col_heading level0 col1\" >AUC</th>        <th class=\"col_heading level0 col2\" >Recall</th>        <th class=\"col_heading level0 col3\" >Prec.</th>        <th class=\"col_heading level0 col4\" >F1</th>        <th class=\"col_heading level0 col5\" >Kappa</th>        <th class=\"col_heading level0 col6\" >MCC</th>    </tr></thead><tbody>\n",
       "                <tr>\n",
       "                        <th id=\"T_af40e_level0_row0\" class=\"row_heading level0 row0\" >0</th>\n",
       "                        <td id=\"T_af40e_row0_col0\" class=\"data row0 col0\" >0.7157</td>\n",
       "                        <td id=\"T_af40e_row0_col1\" class=\"data row0 col1\" >0.7444</td>\n",
       "                        <td id=\"T_af40e_row0_col2\" class=\"data row0 col2\" >0.5918</td>\n",
       "                        <td id=\"T_af40e_row0_col3\" class=\"data row0 col3\" >0.5716</td>\n",
       "                        <td id=\"T_af40e_row0_col4\" class=\"data row0 col4\" >0.5815</td>\n",
       "                        <td id=\"T_af40e_row0_col5\" class=\"data row0 col5\" >0.3664</td>\n",
       "                        <td id=\"T_af40e_row0_col6\" class=\"data row0 col6\" >0.3665</td>\n",
       "            </tr>\n",
       "            <tr>\n",
       "                        <th id=\"T_af40e_level0_row1\" class=\"row_heading level0 row1\" >1</th>\n",
       "                        <td id=\"T_af40e_row1_col0\" class=\"data row1 col0\" >0.7258</td>\n",
       "                        <td id=\"T_af40e_row1_col1\" class=\"data row1 col1\" >0.7535</td>\n",
       "                        <td id=\"T_af40e_row1_col2\" class=\"data row1 col2\" >0.6052</td>\n",
       "                        <td id=\"T_af40e_row1_col3\" class=\"data row1 col3\" >0.5866</td>\n",
       "                        <td id=\"T_af40e_row1_col4\" class=\"data row1 col4\" >0.5958</td>\n",
       "                        <td id=\"T_af40e_row1_col5\" class=\"data row1 col5\" >0.3884</td>\n",
       "                        <td id=\"T_af40e_row1_col6\" class=\"data row1 col6\" >0.3885</td>\n",
       "            </tr>\n",
       "            <tr>\n",
       "                        <th id=\"T_af40e_level0_row2\" class=\"row_heading level0 row2\" >2</th>\n",
       "                        <td id=\"T_af40e_row2_col0\" class=\"data row2 col0\" >0.7357</td>\n",
       "                        <td id=\"T_af40e_row2_col1\" class=\"data row2 col1\" >0.7716</td>\n",
       "                        <td id=\"T_af40e_row2_col2\" class=\"data row2 col2\" >0.6328</td>\n",
       "                        <td id=\"T_af40e_row2_col3\" class=\"data row2 col3\" >0.5985</td>\n",
       "                        <td id=\"T_af40e_row2_col4\" class=\"data row2 col4\" >0.6152</td>\n",
       "                        <td id=\"T_af40e_row2_col5\" class=\"data row2 col5\" >0.4142</td>\n",
       "                        <td id=\"T_af40e_row2_col6\" class=\"data row2 col6\" >0.4146</td>\n",
       "            </tr>\n",
       "            <tr>\n",
       "                        <th id=\"T_af40e_level0_row3\" class=\"row_heading level0 row3\" >3</th>\n",
       "                        <td id=\"T_af40e_row3_col0\" class=\"data row3 col0\" >0.7336</td>\n",
       "                        <td id=\"T_af40e_row3_col1\" class=\"data row3 col1\" >0.7608</td>\n",
       "                        <td id=\"T_af40e_row3_col2\" class=\"data row3 col2\" >0.6264</td>\n",
       "                        <td id=\"T_af40e_row3_col3\" class=\"data row3 col3\" >0.5961</td>\n",
       "                        <td id=\"T_af40e_row3_col4\" class=\"data row3 col4\" >0.6109</td>\n",
       "                        <td id=\"T_af40e_row3_col5\" class=\"data row3 col5\" >0.4086</td>\n",
       "                        <td id=\"T_af40e_row3_col6\" class=\"data row3 col6\" >0.4089</td>\n",
       "            </tr>\n",
       "            <tr>\n",
       "                        <th id=\"T_af40e_level0_row4\" class=\"row_heading level0 row4\" >4</th>\n",
       "                        <td id=\"T_af40e_row4_col0\" class=\"data row4 col0\" >0.7235</td>\n",
       "                        <td id=\"T_af40e_row4_col1\" class=\"data row4 col1\" >0.7523</td>\n",
       "                        <td id=\"T_af40e_row4_col2\" class=\"data row4 col2\" >0.6130</td>\n",
       "                        <td id=\"T_af40e_row4_col3\" class=\"data row4 col3\" >0.5814</td>\n",
       "                        <td id=\"T_af40e_row4_col4\" class=\"data row4 col4\" >0.5968</td>\n",
       "                        <td id=\"T_af40e_row4_col5\" class=\"data row4 col5\" >0.3866</td>\n",
       "                        <td id=\"T_af40e_row4_col6\" class=\"data row4 col6\" >0.3869</td>\n",
       "            </tr>\n",
       "            <tr>\n",
       "                        <th id=\"T_af40e_level0_row5\" class=\"row_heading level0 row5\" >5</th>\n",
       "                        <td id=\"T_af40e_row5_col0\" class=\"data row5 col0\" >0.7310</td>\n",
       "                        <td id=\"T_af40e_row5_col1\" class=\"data row5 col1\" >0.7731</td>\n",
       "                        <td id=\"T_af40e_row5_col2\" class=\"data row5 col2\" >0.6323</td>\n",
       "                        <td id=\"T_af40e_row5_col3\" class=\"data row5 col3\" >0.5910</td>\n",
       "                        <td id=\"T_af40e_row5_col4\" class=\"data row5 col4\" >0.6110</td>\n",
       "                        <td id=\"T_af40e_row5_col5\" class=\"data row5 col5\" >0.4058</td>\n",
       "                        <td id=\"T_af40e_row5_col6\" class=\"data row5 col6\" >0.4063</td>\n",
       "            </tr>\n",
       "            <tr>\n",
       "                        <th id=\"T_af40e_level0_row6\" class=\"row_heading level0 row6\" >6</th>\n",
       "                        <td id=\"T_af40e_row6_col0\" class=\"data row6 col0\" >0.7295</td>\n",
       "                        <td id=\"T_af40e_row6_col1\" class=\"data row6 col1\" >0.7664</td>\n",
       "                        <td id=\"T_af40e_row6_col2\" class=\"data row6 col2\" >0.6321</td>\n",
       "                        <td id=\"T_af40e_row6_col3\" class=\"data row6 col3\" >0.5884</td>\n",
       "                        <td id=\"T_af40e_row6_col4\" class=\"data row6 col4\" >0.6095</td>\n",
       "                        <td id=\"T_af40e_row6_col5\" class=\"data row6 col5\" >0.4030</td>\n",
       "                        <td id=\"T_af40e_row6_col6\" class=\"data row6 col6\" >0.4036</td>\n",
       "            </tr>\n",
       "            <tr>\n",
       "                        <th id=\"T_af40e_level0_row7\" class=\"row_heading level0 row7\" >7</th>\n",
       "                        <td id=\"T_af40e_row7_col0\" class=\"data row7 col0\" >0.7196</td>\n",
       "                        <td id=\"T_af40e_row7_col1\" class=\"data row7 col1\" >0.7482</td>\n",
       "                        <td id=\"T_af40e_row7_col2\" class=\"data row7 col2\" >0.6137</td>\n",
       "                        <td id=\"T_af40e_row7_col3\" class=\"data row7 col3\" >0.5751</td>\n",
       "                        <td id=\"T_af40e_row7_col4\" class=\"data row7 col4\" >0.5938</td>\n",
       "                        <td id=\"T_af40e_row7_col5\" class=\"data row7 col5\" >0.3801</td>\n",
       "                        <td id=\"T_af40e_row7_col6\" class=\"data row7 col6\" >0.3806</td>\n",
       "            </tr>\n",
       "            <tr>\n",
       "                        <th id=\"T_af40e_level0_row8\" class=\"row_heading level0 row8\" >8</th>\n",
       "                        <td id=\"T_af40e_row8_col0\" class=\"data row8 col0\" >0.7404</td>\n",
       "                        <td id=\"T_af40e_row8_col1\" class=\"data row8 col1\" >0.7649</td>\n",
       "                        <td id=\"T_af40e_row8_col2\" class=\"data row8 col2\" >0.6363</td>\n",
       "                        <td id=\"T_af40e_row8_col3\" class=\"data row8 col3\" >0.6059</td>\n",
       "                        <td id=\"T_af40e_row8_col4\" class=\"data row8 col4\" >0.6207</td>\n",
       "                        <td id=\"T_af40e_row8_col5\" class=\"data row8 col5\" >0.4236</td>\n",
       "                        <td id=\"T_af40e_row8_col6\" class=\"data row8 col6\" >0.4239</td>\n",
       "            </tr>\n",
       "            <tr>\n",
       "                        <th id=\"T_af40e_level0_row9\" class=\"row_heading level0 row9\" >9</th>\n",
       "                        <td id=\"T_af40e_row9_col0\" class=\"data row9 col0\" >0.7225</td>\n",
       "                        <td id=\"T_af40e_row9_col1\" class=\"data row9 col1\" >0.7457</td>\n",
       "                        <td id=\"T_af40e_row9_col2\" class=\"data row9 col2\" >0.6031</td>\n",
       "                        <td id=\"T_af40e_row9_col3\" class=\"data row9 col3\" >0.5813</td>\n",
       "                        <td id=\"T_af40e_row9_col4\" class=\"data row9 col4\" >0.5920</td>\n",
       "                        <td id=\"T_af40e_row9_col5\" class=\"data row9 col5\" >0.3818</td>\n",
       "                        <td id=\"T_af40e_row9_col6\" class=\"data row9 col6\" >0.3820</td>\n",
       "            </tr>\n",
       "            <tr>\n",
       "                        <th id=\"T_af40e_level0_row10\" class=\"row_heading level0 row10\" >Mean</th>\n",
       "                        <td id=\"T_af40e_row10_col0\" class=\"data row10 col0\" >0.7277</td>\n",
       "                        <td id=\"T_af40e_row10_col1\" class=\"data row10 col1\" >0.7581</td>\n",
       "                        <td id=\"T_af40e_row10_col2\" class=\"data row10 col2\" >0.6187</td>\n",
       "                        <td id=\"T_af40e_row10_col3\" class=\"data row10 col3\" >0.5876</td>\n",
       "                        <td id=\"T_af40e_row10_col4\" class=\"data row10 col4\" >0.6027</td>\n",
       "                        <td id=\"T_af40e_row10_col5\" class=\"data row10 col5\" >0.3958</td>\n",
       "                        <td id=\"T_af40e_row10_col6\" class=\"data row10 col6\" >0.3962</td>\n",
       "            </tr>\n",
       "            <tr>\n",
       "                        <th id=\"T_af40e_level0_row11\" class=\"row_heading level0 row11\" >SD</th>\n",
       "                        <td id=\"T_af40e_row11_col0\" class=\"data row11 col0\" >0.0073</td>\n",
       "                        <td id=\"T_af40e_row11_col1\" class=\"data row11 col1\" >0.0101</td>\n",
       "                        <td id=\"T_af40e_row11_col2\" class=\"data row11 col2\" >0.0146</td>\n",
       "                        <td id=\"T_af40e_row11_col3\" class=\"data row11 col3\" >0.0101</td>\n",
       "                        <td id=\"T_af40e_row11_col4\" class=\"data row11 col4\" >0.0118</td>\n",
       "                        <td id=\"T_af40e_row11_col5\" class=\"data row11 col5\" >0.0169</td>\n",
       "                        <td id=\"T_af40e_row11_col6\" class=\"data row11 col6\" >0.0170</td>\n",
       "            </tr>\n",
       "    </tbody></table>"
      ],
      "text/plain": [
       "<pandas.io.formats.style.Styler at 0x1fb80fc47c0>"
      ]
     },
     "metadata": {},
     "output_type": "display_data"
    }
   ],
   "source": [
    "tuned_rf = tune_model(rf,optimize ='F1')"
   ]
  },
  {
   "cell_type": "markdown",
   "id": "068536ba",
   "metadata": {},
   "source": [
    "Optimizacion empeora el modelo con hiperparametros por defecto"
   ]
  },
  {
   "cell_type": "code",
   "execution_count": 92,
   "id": "f0abacfa",
   "metadata": {
    "scrolled": false
   },
   "outputs": [
    {
     "name": "stdout",
     "output_type": "stream",
     "text": [
      "RandomForestClassifier(bootstrap=False, ccp_alpha=0.0,\n",
      "                       class_weight='balanced_subsample', criterion='gini',\n",
      "                       max_depth=6, max_features='log2', max_leaf_nodes=None,\n",
      "                       max_samples=None, min_impurity_decrease=0.001,\n",
      "                       min_impurity_split=None, min_samples_leaf=6,\n",
      "                       min_samples_split=9, min_weight_fraction_leaf=0.0,\n",
      "                       n_estimators=190, n_jobs=-1, oob_score=False,\n",
      "                       random_state=123, verbose=0, warm_start=False)\n"
     ]
    }
   ],
   "source": [
    "print(tuned_rf)"
   ]
  },
  {
   "cell_type": "markdown",
   "id": "4545072f",
   "metadata": {},
   "source": [
    "### Ensemble Model"
   ]
  },
  {
   "cell_type": "code",
   "execution_count": 106,
   "id": "c6e44613",
   "metadata": {},
   "outputs": [
    {
     "data": {
      "text/html": [
       "<style  type=\"text/css\" >\n",
       "#T_78626_row10_col0,#T_78626_row10_col1,#T_78626_row10_col2,#T_78626_row10_col3,#T_78626_row10_col4,#T_78626_row10_col5,#T_78626_row10_col6{\n",
       "            background:  yellow;\n",
       "        }</style><table id=\"T_78626_\" ><thead>    <tr>        <th class=\"blank level0\" ></th>        <th class=\"col_heading level0 col0\" >Accuracy</th>        <th class=\"col_heading level0 col1\" >AUC</th>        <th class=\"col_heading level0 col2\" >Recall</th>        <th class=\"col_heading level0 col3\" >Prec.</th>        <th class=\"col_heading level0 col4\" >F1</th>        <th class=\"col_heading level0 col5\" >Kappa</th>        <th class=\"col_heading level0 col6\" >MCC</th>    </tr></thead><tbody>\n",
       "                <tr>\n",
       "                        <th id=\"T_78626_level0_row0\" class=\"row_heading level0 row0\" >0</th>\n",
       "                        <td id=\"T_78626_row0_col0\" class=\"data row0 col0\" >0.9293</td>\n",
       "                        <td id=\"T_78626_row0_col1\" class=\"data row0 col1\" >0.9783</td>\n",
       "                        <td id=\"T_78626_row0_col2\" class=\"data row0 col2\" >0.9188</td>\n",
       "                        <td id=\"T_78626_row0_col3\" class=\"data row0 col3\" >0.8755</td>\n",
       "                        <td id=\"T_78626_row0_col4\" class=\"data row0 col4\" >0.8966</td>\n",
       "                        <td id=\"T_78626_row0_col5\" class=\"data row0 col5\" >0.8429</td>\n",
       "                        <td id=\"T_78626_row0_col6\" class=\"data row0 col6\" >0.8435</td>\n",
       "            </tr>\n",
       "            <tr>\n",
       "                        <th id=\"T_78626_level0_row1\" class=\"row_heading level0 row1\" >1</th>\n",
       "                        <td id=\"T_78626_row1_col0\" class=\"data row1 col0\" >0.9389</td>\n",
       "                        <td id=\"T_78626_row1_col1\" class=\"data row1 col1\" >0.9780</td>\n",
       "                        <td id=\"T_78626_row1_col2\" class=\"data row1 col2\" >0.9273</td>\n",
       "                        <td id=\"T_78626_row1_col3\" class=\"data row1 col3\" >0.8938</td>\n",
       "                        <td id=\"T_78626_row1_col4\" class=\"data row1 col4\" >0.9102</td>\n",
       "                        <td id=\"T_78626_row1_col5\" class=\"data row1 col5\" >0.8640</td>\n",
       "                        <td id=\"T_78626_row1_col6\" class=\"data row1 col6\" >0.8643</td>\n",
       "            </tr>\n",
       "            <tr>\n",
       "                        <th id=\"T_78626_level0_row2\" class=\"row_heading level0 row2\" >2</th>\n",
       "                        <td id=\"T_78626_row2_col0\" class=\"data row2 col0\" >0.9371</td>\n",
       "                        <td id=\"T_78626_row2_col1\" class=\"data row2 col1\" >0.9767</td>\n",
       "                        <td id=\"T_78626_row2_col2\" class=\"data row2 col2\" >0.9329</td>\n",
       "                        <td id=\"T_78626_row2_col3\" class=\"data row2 col3\" >0.8848</td>\n",
       "                        <td id=\"T_78626_row2_col4\" class=\"data row2 col4\" >0.9082</td>\n",
       "                        <td id=\"T_78626_row2_col5\" class=\"data row2 col5\" >0.8604</td>\n",
       "                        <td id=\"T_78626_row2_col6\" class=\"data row2 col6\" >0.8611</td>\n",
       "            </tr>\n",
       "            <tr>\n",
       "                        <th id=\"T_78626_level0_row3\" class=\"row_heading level0 row3\" >3</th>\n",
       "                        <td id=\"T_78626_row3_col0\" class=\"data row3 col0\" >0.9298</td>\n",
       "                        <td id=\"T_78626_row3_col1\" class=\"data row3 col1\" >0.9806</td>\n",
       "                        <td id=\"T_78626_row3_col2\" class=\"data row3 col2\" >0.9329</td>\n",
       "                        <td id=\"T_78626_row3_col3\" class=\"data row3 col3\" >0.8668</td>\n",
       "                        <td id=\"T_78626_row3_col4\" class=\"data row3 col4\" >0.8986</td>\n",
       "                        <td id=\"T_78626_row3_col5\" class=\"data row3 col5\" >0.8450</td>\n",
       "                        <td id=\"T_78626_row3_col6\" class=\"data row3 col6\" >0.8463</td>\n",
       "            </tr>\n",
       "            <tr>\n",
       "                        <th id=\"T_78626_level0_row4\" class=\"row_heading level0 row4\" >4</th>\n",
       "                        <td id=\"T_78626_row4_col0\" class=\"data row4 col0\" >0.9333</td>\n",
       "                        <td id=\"T_78626_row4_col1\" class=\"data row4 col1\" >0.9785</td>\n",
       "                        <td id=\"T_78626_row4_col2\" class=\"data row4 col2\" >0.9308</td>\n",
       "                        <td id=\"T_78626_row4_col3\" class=\"data row4 col3\" >0.8769</td>\n",
       "                        <td id=\"T_78626_row4_col4\" class=\"data row4 col4\" >0.9030</td>\n",
       "                        <td id=\"T_78626_row4_col5\" class=\"data row4 col5\" >0.8523</td>\n",
       "                        <td id=\"T_78626_row4_col6\" class=\"data row4 col6\" >0.8531</td>\n",
       "            </tr>\n",
       "            <tr>\n",
       "                        <th id=\"T_78626_level0_row5\" class=\"row_heading level0 row5\" >5</th>\n",
       "                        <td id=\"T_78626_row5_col0\" class=\"data row5 col0\" >0.9283</td>\n",
       "                        <td id=\"T_78626_row5_col1\" class=\"data row5 col1\" >0.9757</td>\n",
       "                        <td id=\"T_78626_row5_col2\" class=\"data row5 col2\" >0.9195</td>\n",
       "                        <td id=\"T_78626_row5_col3\" class=\"data row5 col3\" >0.8727</td>\n",
       "                        <td id=\"T_78626_row5_col4\" class=\"data row5 col4\" >0.8955</td>\n",
       "                        <td id=\"T_78626_row5_col5\" class=\"data row5 col5\" >0.8411</td>\n",
       "                        <td id=\"T_78626_row5_col6\" class=\"data row5 col6\" >0.8417</td>\n",
       "            </tr>\n",
       "            <tr>\n",
       "                        <th id=\"T_78626_level0_row6\" class=\"row_heading level0 row6\" >6</th>\n",
       "                        <td id=\"T_78626_row6_col0\" class=\"data row6 col0\" >0.9309</td>\n",
       "                        <td id=\"T_78626_row6_col1\" class=\"data row6 col1\" >0.9794</td>\n",
       "                        <td id=\"T_78626_row6_col2\" class=\"data row6 col2\" >0.9273</td>\n",
       "                        <td id=\"T_78626_row6_col3\" class=\"data row6 col3\" >0.8736</td>\n",
       "                        <td id=\"T_78626_row6_col4\" class=\"data row6 col4\" >0.8996</td>\n",
       "                        <td id=\"T_78626_row6_col5\" class=\"data row6 col5\" >0.8470</td>\n",
       "                        <td id=\"T_78626_row6_col6\" class=\"data row6 col6\" >0.8479</td>\n",
       "            </tr>\n",
       "            <tr>\n",
       "                        <th id=\"T_78626_level0_row7\" class=\"row_heading level0 row7\" >7</th>\n",
       "                        <td id=\"T_78626_row7_col0\" class=\"data row7 col0\" >0.9245</td>\n",
       "                        <td id=\"T_78626_row7_col1\" class=\"data row7 col1\" >0.9742</td>\n",
       "                        <td id=\"T_78626_row7_col2\" class=\"data row7 col2\" >0.9308</td>\n",
       "                        <td id=\"T_78626_row7_col3\" class=\"data row7 col3\" >0.8558</td>\n",
       "                        <td id=\"T_78626_row7_col4\" class=\"data row7 col4\" >0.8917</td>\n",
       "                        <td id=\"T_78626_row7_col5\" class=\"data row7 col5\" >0.8340</td>\n",
       "                        <td id=\"T_78626_row7_col6\" class=\"data row7 col6\" >0.8357</td>\n",
       "            </tr>\n",
       "            <tr>\n",
       "                        <th id=\"T_78626_level0_row8\" class=\"row_heading level0 row8\" >8</th>\n",
       "                        <td id=\"T_78626_row8_col0\" class=\"data row8 col0\" >0.9300</td>\n",
       "                        <td id=\"T_78626_row8_col1\" class=\"data row8 col1\" >0.9779</td>\n",
       "                        <td id=\"T_78626_row8_col2\" class=\"data row8 col2\" >0.9216</td>\n",
       "                        <td id=\"T_78626_row8_col3\" class=\"data row8 col3\" >0.8753</td>\n",
       "                        <td id=\"T_78626_row8_col4\" class=\"data row8 col4\" >0.8978</td>\n",
       "                        <td id=\"T_78626_row8_col5\" class=\"data row8 col5\" >0.8446</td>\n",
       "                        <td id=\"T_78626_row8_col6\" class=\"data row8 col6\" >0.8453</td>\n",
       "            </tr>\n",
       "            <tr>\n",
       "                        <th id=\"T_78626_level0_row9\" class=\"row_heading level0 row9\" >9</th>\n",
       "                        <td id=\"T_78626_row9_col0\" class=\"data row9 col0\" >0.9300</td>\n",
       "                        <td id=\"T_78626_row9_col1\" class=\"data row9 col1\" >0.9774</td>\n",
       "                        <td id=\"T_78626_row9_col2\" class=\"data row9 col2\" >0.9237</td>\n",
       "                        <td id=\"T_78626_row9_col3\" class=\"data row9 col3\" >0.8737</td>\n",
       "                        <td id=\"T_78626_row9_col4\" class=\"data row9 col4\" >0.8980</td>\n",
       "                        <td id=\"T_78626_row9_col5\" class=\"data row9 col5\" >0.8448</td>\n",
       "                        <td id=\"T_78626_row9_col6\" class=\"data row9 col6\" >0.8455</td>\n",
       "            </tr>\n",
       "            <tr>\n",
       "                        <th id=\"T_78626_level0_row10\" class=\"row_heading level0 row10\" >Mean</th>\n",
       "                        <td id=\"T_78626_row10_col0\" class=\"data row10 col0\" >0.9312</td>\n",
       "                        <td id=\"T_78626_row10_col1\" class=\"data row10 col1\" >0.9777</td>\n",
       "                        <td id=\"T_78626_row10_col2\" class=\"data row10 col2\" >0.9266</td>\n",
       "                        <td id=\"T_78626_row10_col3\" class=\"data row10 col3\" >0.8749</td>\n",
       "                        <td id=\"T_78626_row10_col4\" class=\"data row10 col4\" >0.9000</td>\n",
       "                        <td id=\"T_78626_row10_col5\" class=\"data row10 col5\" >0.8476</td>\n",
       "                        <td id=\"T_78626_row10_col6\" class=\"data row10 col6\" >0.8485</td>\n",
       "            </tr>\n",
       "            <tr>\n",
       "                        <th id=\"T_78626_level0_row11\" class=\"row_heading level0 row11\" >SD</th>\n",
       "                        <td id=\"T_78626_row11_col0\" class=\"data row11 col0\" >0.0040</td>\n",
       "                        <td id=\"T_78626_row11_col1\" class=\"data row11 col1\" >0.0017</td>\n",
       "                        <td id=\"T_78626_row11_col2\" class=\"data row11 col2\" >0.0051</td>\n",
       "                        <td id=\"T_78626_row11_col3\" class=\"data row11 col3\" >0.0095</td>\n",
       "                        <td id=\"T_78626_row11_col4\" class=\"data row11 col4\" >0.0054</td>\n",
       "                        <td id=\"T_78626_row11_col5\" class=\"data row11 col5\" >0.0085</td>\n",
       "                        <td id=\"T_78626_row11_col6\" class=\"data row11 col6\" >0.0083</td>\n",
       "            </tr>\n",
       "    </tbody></table>"
      ],
      "text/plain": [
       "<pandas.io.formats.style.Styler at 0x1fb8c276ca0>"
      ]
     },
     "metadata": {},
     "output_type": "display_data"
    }
   ],
   "source": [
    "bagged_dt = ensemble_model(rf, method = 'Bagging')"
   ]
  },
  {
   "cell_type": "code",
   "execution_count": 108,
   "id": "154a6aba",
   "metadata": {},
   "outputs": [
    {
     "data": {
      "text/html": [
       "<style  type=\"text/css\" >\n",
       "#T_d4780_row10_col0,#T_d4780_row10_col1,#T_d4780_row10_col2,#T_d4780_row10_col3,#T_d4780_row10_col4,#T_d4780_row10_col5,#T_d4780_row10_col6{\n",
       "            background:  yellow;\n",
       "        }</style><table id=\"T_d4780_\" ><thead>    <tr>        <th class=\"blank level0\" ></th>        <th class=\"col_heading level0 col0\" >Accuracy</th>        <th class=\"col_heading level0 col1\" >AUC</th>        <th class=\"col_heading level0 col2\" >Recall</th>        <th class=\"col_heading level0 col3\" >Prec.</th>        <th class=\"col_heading level0 col4\" >F1</th>        <th class=\"col_heading level0 col5\" >Kappa</th>        <th class=\"col_heading level0 col6\" >MCC</th>    </tr></thead><tbody>\n",
       "                <tr>\n",
       "                        <th id=\"T_d4780_level0_row0\" class=\"row_heading level0 row0\" >0</th>\n",
       "                        <td id=\"T_d4780_row0_col0\" class=\"data row0 col0\" >0.9578</td>\n",
       "                        <td id=\"T_d4780_row0_col1\" class=\"data row0 col1\" >0.9881</td>\n",
       "                        <td id=\"T_d4780_row0_col2\" class=\"data row0 col2\" >0.9718</td>\n",
       "                        <td id=\"T_d4780_row0_col3\" class=\"data row0 col3\" >0.9083</td>\n",
       "                        <td id=\"T_d4780_row0_col4\" class=\"data row0 col4\" >0.9389</td>\n",
       "                        <td id=\"T_d4780_row0_col5\" class=\"data row0 col5\" >0.9068</td>\n",
       "                        <td id=\"T_d4780_row0_col6\" class=\"data row0 col6\" >0.9080</td>\n",
       "            </tr>\n",
       "            <tr>\n",
       "                        <th id=\"T_d4780_level0_row1\" class=\"row_heading level0 row1\" >1</th>\n",
       "                        <td id=\"T_d4780_row1_col0\" class=\"data row1 col0\" >0.9590</td>\n",
       "                        <td id=\"T_d4780_row1_col1\" class=\"data row1 col1\" >0.9849</td>\n",
       "                        <td id=\"T_d4780_row1_col2\" class=\"data row1 col2\" >0.9682</td>\n",
       "                        <td id=\"T_d4780_row1_col3\" class=\"data row1 col3\" >0.9140</td>\n",
       "                        <td id=\"T_d4780_row1_col4\" class=\"data row1 col4\" >0.9403</td>\n",
       "                        <td id=\"T_d4780_row1_col5\" class=\"data row1 col5\" >0.9091</td>\n",
       "                        <td id=\"T_d4780_row1_col6\" class=\"data row1 col6\" >0.9100</td>\n",
       "            </tr>\n",
       "            <tr>\n",
       "                        <th id=\"T_d4780_level0_row2\" class=\"row_heading level0 row2\" >2</th>\n",
       "                        <td id=\"T_d4780_row2_col0\" class=\"data row2 col0\" >0.9571</td>\n",
       "                        <td id=\"T_d4780_row2_col1\" class=\"data row2 col1\" >0.9824</td>\n",
       "                        <td id=\"T_d4780_row2_col2\" class=\"data row2 col2\" >0.9583</td>\n",
       "                        <td id=\"T_d4780_row2_col3\" class=\"data row2 col3\" >0.9169</td>\n",
       "                        <td id=\"T_d4780_row2_col4\" class=\"data row2 col4\" >0.9372</td>\n",
       "                        <td id=\"T_d4780_row2_col5\" class=\"data row2 col5\" >0.9046</td>\n",
       "                        <td id=\"T_d4780_row2_col6\" class=\"data row2 col6\" >0.9051</td>\n",
       "            </tr>\n",
       "            <tr>\n",
       "                        <th id=\"T_d4780_level0_row3\" class=\"row_heading level0 row3\" >3</th>\n",
       "                        <td id=\"T_d4780_row3_col0\" class=\"data row3 col0\" >0.9519</td>\n",
       "                        <td id=\"T_d4780_row3_col1\" class=\"data row3 col1\" >0.9883</td>\n",
       "                        <td id=\"T_d4780_row3_col2\" class=\"data row3 col2\" >0.9661</td>\n",
       "                        <td id=\"T_d4780_row3_col3\" class=\"data row3 col3\" >0.8976</td>\n",
       "                        <td id=\"T_d4780_row3_col4\" class=\"data row3 col4\" >0.9306</td>\n",
       "                        <td id=\"T_d4780_row3_col5\" class=\"data row3 col5\" >0.8939</td>\n",
       "                        <td id=\"T_d4780_row3_col6\" class=\"data row3 col6\" >0.8953</td>\n",
       "            </tr>\n",
       "            <tr>\n",
       "                        <th id=\"T_d4780_level0_row4\" class=\"row_heading level0 row4\" >4</th>\n",
       "                        <td id=\"T_d4780_row4_col0\" class=\"data row4 col0\" >0.9566</td>\n",
       "                        <td id=\"T_d4780_row4_col1\" class=\"data row4 col1\" >0.9865</td>\n",
       "                        <td id=\"T_d4780_row4_col2\" class=\"data row4 col2\" >0.9675</td>\n",
       "                        <td id=\"T_d4780_row4_col3\" class=\"data row4 col3\" >0.9085</td>\n",
       "                        <td id=\"T_d4780_row4_col4\" class=\"data row4 col4\" >0.9371</td>\n",
       "                        <td id=\"T_d4780_row4_col5\" class=\"data row4 col5\" >0.9040</td>\n",
       "                        <td id=\"T_d4780_row4_col6\" class=\"data row4 col6\" >0.9051</td>\n",
       "            </tr>\n",
       "            <tr>\n",
       "                        <th id=\"T_d4780_level0_row5\" class=\"row_heading level0 row5\" >5</th>\n",
       "                        <td id=\"T_d4780_row5_col0\" class=\"data row5 col0\" >0.9505</td>\n",
       "                        <td id=\"T_d4780_row5_col1\" class=\"data row5 col1\" >0.9841</td>\n",
       "                        <td id=\"T_d4780_row5_col2\" class=\"data row5 col2\" >0.9541</td>\n",
       "                        <td id=\"T_d4780_row5_col3\" class=\"data row5 col3\" >0.9031</td>\n",
       "                        <td id=\"T_d4780_row5_col4\" class=\"data row5 col4\" >0.9279</td>\n",
       "                        <td id=\"T_d4780_row5_col5\" class=\"data row5 col5\" >0.8903</td>\n",
       "                        <td id=\"T_d4780_row5_col6\" class=\"data row5 col6\" >0.8911</td>\n",
       "            </tr>\n",
       "            <tr>\n",
       "                        <th id=\"T_d4780_level0_row6\" class=\"row_heading level0 row6\" >6</th>\n",
       "                        <td id=\"T_d4780_row6_col0\" class=\"data row6 col0\" >0.9561</td>\n",
       "                        <td id=\"T_d4780_row6_col1\" class=\"data row6 col1\" >0.9895</td>\n",
       "                        <td id=\"T_d4780_row6_col2\" class=\"data row6 col2\" >0.9753</td>\n",
       "                        <td id=\"T_d4780_row6_col3\" class=\"data row6 col3\" >0.9014</td>\n",
       "                        <td id=\"T_d4780_row6_col4\" class=\"data row6 col4\" >0.9369</td>\n",
       "                        <td id=\"T_d4780_row6_col5\" class=\"data row6 col5\" >0.9034</td>\n",
       "                        <td id=\"T_d4780_row6_col6\" class=\"data row6 col6\" >0.9050</td>\n",
       "            </tr>\n",
       "            <tr>\n",
       "                        <th id=\"T_d4780_level0_row7\" class=\"row_heading level0 row7\" >7</th>\n",
       "                        <td id=\"T_d4780_row7_col0\" class=\"data row7 col0\" >0.9460</td>\n",
       "                        <td id=\"T_d4780_row7_col1\" class=\"data row7 col1\" >0.9820</td>\n",
       "                        <td id=\"T_d4780_row7_col2\" class=\"data row7 col2\" >0.9640</td>\n",
       "                        <td id=\"T_d4780_row7_col3\" class=\"data row7 col3\" >0.8846</td>\n",
       "                        <td id=\"T_d4780_row7_col4\" class=\"data row7 col4\" >0.9226</td>\n",
       "                        <td id=\"T_d4780_row7_col5\" class=\"data row7 col5\" >0.8813</td>\n",
       "                        <td id=\"T_d4780_row7_col6\" class=\"data row7 col6\" >0.8832</td>\n",
       "            </tr>\n",
       "            <tr>\n",
       "                        <th id=\"T_d4780_level0_row8\" class=\"row_heading level0 row8\" >8</th>\n",
       "                        <td id=\"T_d4780_row8_col0\" class=\"data row8 col0\" >0.9505</td>\n",
       "                        <td id=\"T_d4780_row8_col1\" class=\"data row8 col1\" >0.9861</td>\n",
       "                        <td id=\"T_d4780_row8_col2\" class=\"data row8 col2\" >0.9633</td>\n",
       "                        <td id=\"T_d4780_row8_col3\" class=\"data row8 col3\" >0.8962</td>\n",
       "                        <td id=\"T_d4780_row8_col4\" class=\"data row8 col4\" >0.9285</td>\n",
       "                        <td id=\"T_d4780_row8_col5\" class=\"data row8 col5\" >0.8907</td>\n",
       "                        <td id=\"T_d4780_row8_col6\" class=\"data row8 col6\" >0.8921</td>\n",
       "            </tr>\n",
       "            <tr>\n",
       "                        <th id=\"T_d4780_level0_row9\" class=\"row_heading level0 row9\" >9</th>\n",
       "                        <td id=\"T_d4780_row9_col0\" class=\"data row9 col0\" >0.9495</td>\n",
       "                        <td id=\"T_d4780_row9_col1\" class=\"data row9 col1\" >0.9840</td>\n",
       "                        <td id=\"T_d4780_row9_col2\" class=\"data row9 col2\" >0.9534</td>\n",
       "                        <td id=\"T_d4780_row9_col3\" class=\"data row9 col3\" >0.9012</td>\n",
       "                        <td id=\"T_d4780_row9_col4\" class=\"data row9 col4\" >0.9266</td>\n",
       "                        <td id=\"T_d4780_row9_col5\" class=\"data row9 col5\" >0.8882</td>\n",
       "                        <td id=\"T_d4780_row9_col6\" class=\"data row9 col6\" >0.8890</td>\n",
       "            </tr>\n",
       "            <tr>\n",
       "                        <th id=\"T_d4780_level0_row10\" class=\"row_heading level0 row10\" >Mean</th>\n",
       "                        <td id=\"T_d4780_row10_col0\" class=\"data row10 col0\" >0.9535</td>\n",
       "                        <td id=\"T_d4780_row10_col1\" class=\"data row10 col1\" >0.9856</td>\n",
       "                        <td id=\"T_d4780_row10_col2\" class=\"data row10 col2\" >0.9642</td>\n",
       "                        <td id=\"T_d4780_row10_col3\" class=\"data row10 col3\" >0.9032</td>\n",
       "                        <td id=\"T_d4780_row10_col4\" class=\"data row10 col4\" >0.9327</td>\n",
       "                        <td id=\"T_d4780_row10_col5\" class=\"data row10 col5\" >0.8972</td>\n",
       "                        <td id=\"T_d4780_row10_col6\" class=\"data row10 col6\" >0.8984</td>\n",
       "            </tr>\n",
       "            <tr>\n",
       "                        <th id=\"T_d4780_level0_row11\" class=\"row_heading level0 row11\" >SD</th>\n",
       "                        <td id=\"T_d4780_row11_col0\" class=\"data row11 col0\" >0.0041</td>\n",
       "                        <td id=\"T_d4780_row11_col1\" class=\"data row11 col1\" >0.0024</td>\n",
       "                        <td id=\"T_d4780_row11_col2\" class=\"data row11 col2\" >0.0068</td>\n",
       "                        <td id=\"T_d4780_row11_col3\" class=\"data row11 col3\" >0.0089</td>\n",
       "                        <td id=\"T_d4780_row11_col4\" class=\"data row11 col4\" >0.0058</td>\n",
       "                        <td id=\"T_d4780_row11_col5\" class=\"data row11 col5\" >0.0090</td>\n",
       "                        <td id=\"T_d4780_row11_col6\" class=\"data row11 col6\" >0.0088</td>\n",
       "            </tr>\n",
       "    </tbody></table>"
      ],
      "text/plain": [
       "<pandas.io.formats.style.Styler at 0x1fb8077ff40>"
      ]
     },
     "metadata": {},
     "output_type": "display_data"
    }
   ],
   "source": [
    "boosted_dt = ensemble_model(rf, method = 'Boosting', n_estimators = 100)"
   ]
  },
  {
   "cell_type": "markdown",
   "id": "8662b8ef",
   "metadata": {},
   "source": [
    "Bagging:\n",
    "Bagging, also known as Bootstrap aggregating, is a machine learning ensemble meta-algorithm designed to improve the stability and accuracy of machine learning algorithms used in statistical classification and regression. It also reduces variance and helps to avoid overfitting. Although it is usually applied to decision tree methods, it can be used with any type of method. Bagging is a special case of the model averaging approach.\n",
    "\n",
    " \n",
    "\n",
    "Boosting:\n",
    "Boosting is an ensemble meta-algorithm for primarily reducing bias and variance in supervised learning. Boosting is in the family of machine learning algorithms that convert weak learners to strong ones. A weak learner is defined to be a classifier that is only slightly correlated with the true classification (it can label examples better than random guessing). In contrast, a strong learner is a classifier that is arbitrarily well-correlated with the true classification."
   ]
  },
  {
   "cell_type": "markdown",
   "id": "90e69323",
   "metadata": {},
   "source": [
    "### BLEND"
   ]
  },
  {
   "cell_type": "code",
   "execution_count": null,
   "id": "7b8ad7e9",
   "metadata": {},
   "outputs": [],
   "source": [
    "clf2 = setup(data = df_over,\n",
    "             target = 'y',\n",
    "             train_size=0.3,\n",
    "             session_id=123,\n",
    "             ignore_low_variance = True\n",
    "            )\n",
    "top3 = compare_models(n_select = 3)\n",
    "blender = blend_models(top3)"
   ]
  },
  {
   "cell_type": "code",
   "execution_count": 84,
   "id": "50e682dc",
   "metadata": {},
   "outputs": [
    {
     "name": "stdout",
     "output_type": "stream",
     "text": [
      "RandomForestClassifier(bootstrap=True, ccp_alpha=0.0, class_weight=None,\n",
      "                       criterion='gini', max_depth=None, max_features='auto',\n",
      "                       max_leaf_nodes=None, max_samples=None,\n",
      "                       min_impurity_decrease=0.0, min_impurity_split=None,\n",
      "                       min_samples_leaf=1, min_samples_split=2,\n",
      "                       min_weight_fraction_leaf=0.0, n_estimators=100,\n",
      "                       n_jobs=-1, oob_score=False, random_state=123, verbose=0,\n",
      "                       warm_start=False)\n"
     ]
    }
   ],
   "source": [
    "print(rf)"
   ]
  },
  {
   "cell_type": "code",
   "execution_count": 85,
   "id": "5f6ce3bb",
   "metadata": {
    "scrolled": false
   },
   "outputs": [
    {
     "data": {
      "image/png": "[encoded data removed]",
      "text/plain": [
       "<Figure size 576x396 with 1 Axes>"
      ]
     },
     "metadata": {},
     "output_type": "display_data"
    }
   ],
   "source": [
    "plot_model(estimator = rf, plot = 'vc') #revisar"
   ]
  },
  {
   "cell_type": "code",
   "execution_count": 86,
   "id": "6d718c78",
   "metadata": {},
   "outputs": [
    {
     "data": {
      "image/png": "[encoded data removed]",
      "text/plain": [
       "<Figure size 576x396 with 1 Axes>"
      ]
     },
     "metadata": {},
     "output_type": "display_data"
    }
   ],
   "source": [
    "plot_model(rf, plot = 'confusion_matrix')"
   ]
  },
  {
   "cell_type": "code",
   "execution_count": 87,
   "id": "95997356",
   "metadata": {},
   "outputs": [
    {
     "data": {
      "image/png": "[encoded data removed]",
      "text/plain": [
       "<Figure size 576x396 with 1 Axes>"
      ]
     },
     "metadata": {},
     "output_type": "display_data"
    }
   ],
   "source": [
    "plot_model(rf, plot = 'auc')"
   ]
  },
  {
   "cell_type": "code",
   "execution_count": 88,
   "id": "4daff34e",
   "metadata": {
    "scrolled": false
   },
   "outputs": [
    {
     "data": {
      "image/png": "[encoded data removed]",
      "text/plain": [
       "<Figure size 800x500 with 1 Axes>"
      ]
     },
     "metadata": {},
     "output_type": "display_data"
    }
   ],
   "source": [
    "plot_model(rf, plot = 'feature')"
   ]
  },
  {
   "cell_type": "code",
   "execution_count": 89,
   "id": "e9fd3236",
   "metadata": {},
   "outputs": [],
   "source": [
    "#evaluate_model(rf)"
   ]
  },
  {
   "cell_type": "markdown",
   "id": "4933fe30",
   "metadata": {},
   "source": [
    "## Auto_Mod"
   ]
  },
  {
   "cell_type": "code",
   "execution_count": 90,
   "id": "3dbe8bf8",
   "metadata": {},
   "outputs": [],
   "source": [
    "# auto_mod = setup(data = df_over,  target = 'y')\n",
    "# top3 = compare_models(n_select = 2)\n",
    "# tuned_top3 = [tune_model(i) for i in top3]\n",
    "# blender = blend_models(tuned_top3)\n",
    "# stacker = stack_models(tuned_top3)\n",
    "# best_f1_model = automl(optimize = 'F1')"
   ]
  },
  {
   "cell_type": "markdown",
   "id": "120272a2",
   "metadata": {},
   "source": [
    "# Prediccion"
   ]
  },
  {
   "cell_type": "code",
   "execution_count": 93,
   "id": "fa9379fb",
   "metadata": {
    "scrolled": true
   },
   "outputs": [
    {
     "data": {
      "text/html": [
       "<style  type=\"text/css\" >\n",
       "</style><table id=\"T_50d2b_\" ><thead>    <tr>        <th class=\"blank level0\" ></th>        <th class=\"col_heading level0 col0\" >Model</th>        <th class=\"col_heading level0 col1\" >Accuracy</th>        <th class=\"col_heading level0 col2\" >AUC</th>        <th class=\"col_heading level0 col3\" >Recall</th>        <th class=\"col_heading level0 col4\" >Prec.</th>        <th class=\"col_heading level0 col5\" >F1</th>        <th class=\"col_heading level0 col6\" >Kappa</th>        <th class=\"col_heading level0 col7\" >MCC</th>    </tr></thead><tbody>\n",
       "                <tr>\n",
       "                        <th id=\"T_50d2b_level0_row0\" class=\"row_heading level0 row0\" >0</th>\n",
       "                        <td id=\"T_50d2b_row0_col0\" class=\"data row0 col0\" >Random Forest Classifier</td>\n",
       "                        <td id=\"T_50d2b_row0_col1\" class=\"data row0 col1\" >0.9585</td>\n",
       "                        <td id=\"T_50d2b_row0_col2\" class=\"data row0 col2\" >0.9871</td>\n",
       "                        <td id=\"T_50d2b_row0_col3\" class=\"data row0 col3\" >0.9692</td>\n",
       "                        <td id=\"T_50d2b_row0_col4\" class=\"data row0 col4\" >0.9111</td>\n",
       "                        <td id=\"T_50d2b_row0_col5\" class=\"data row0 col5\" >0.9393</td>\n",
       "                        <td id=\"T_50d2b_row0_col6\" class=\"data row0 col6\" >0.9078</td>\n",
       "                        <td id=\"T_50d2b_row0_col7\" class=\"data row0 col7\" >0.9088</td>\n",
       "            </tr>\n",
       "    </tbody></table>"
      ],
      "text/plain": [
       "<pandas.io.formats.style.Styler at 0x1fb810942b0>"
      ]
     },
     "metadata": {},
     "output_type": "display_data"
    }
   ],
   "source": [
    "predict_model(rf);"
   ]
  },
  {
   "cell_type": "code",
   "execution_count": null,
   "id": "f5af44a2",
   "metadata": {},
   "outputs": [],
   "source": [
    "#interpret_model(rf)"
   ]
  },
  {
   "cell_type": "markdown",
   "id": "14992c2b",
   "metadata": {},
   "source": [
    "### Finalizando el Modelo"
   ]
  },
  {
   "cell_type": "code",
   "execution_count": 94,
   "id": "b9fa8289",
   "metadata": {
    "scrolled": false
   },
   "outputs": [
    {
     "name": "stdout",
     "output_type": "stream",
     "text": [
      "RandomForestClassifier(bootstrap=True, ccp_alpha=0.0, class_weight=None,\n",
      "                       criterion='gini', max_depth=None, max_features='auto',\n",
      "                       max_leaf_nodes=None, max_samples=None,\n",
      "                       min_impurity_decrease=0.0, min_impurity_split=None,\n",
      "                       min_samples_leaf=1, min_samples_split=2,\n",
      "                       min_weight_fraction_leaf=0.0, n_estimators=100,\n",
      "                       n_jobs=-1, oob_score=False, random_state=123, verbose=0,\n",
      "                       warm_start=False)\n"
     ]
    }
   ],
   "source": [
    "rf_final = finalize_model(rf)\n",
    "#Parámetros finales del modelo Random Forest para su despliegue a producción\n",
    "print(rf_final)"
   ]
  },
  {
   "cell_type": "markdown",
   "id": "e39ba689",
   "metadata": {},
   "source": [
    "    Al utilizar pycaret no es recomendable utilizar el predict luego de finalizar, dado que estariamos intentando predecir los mismo datos que entrenamos."
   ]
  },
  {
   "cell_type": "markdown",
   "id": "0ab5b00d",
   "metadata": {},
   "source": [
    "# Testeando resultados."
   ]
  },
  {
   "cell_type": "markdown",
   "id": "fba4faf2",
   "metadata": {},
   "source": [
    "###### Evaluacion en datos de Train"
   ]
  },
  {
   "cell_type": "code",
   "execution_count": 121,
   "id": "890e34b3",
   "metadata": {},
   "outputs": [
    {
     "data": {
      "text/html": [
       "<div>\n",
       "<style scoped>\n",
       "    .dataframe tbody tr th:only-of-type {\n",
       "        vertical-align: middle;\n",
       "    }\n",
       "\n",
       "    .dataframe tbody tr th {\n",
       "        vertical-align: top;\n",
       "    }\n",
       "\n",
       "    .dataframe thead th {\n",
       "        text-align: right;\n",
       "    }\n",
       "</style>\n",
       "<table border=\"1\" class=\"dataframe\">\n",
       "  <thead>\n",
       "    <tr style=\"text-align: right;\">\n",
       "      <th></th>\n",
       "      <th>age</th>\n",
       "      <th>balance</th>\n",
       "      <th>campaign</th>\n",
       "      <th>pdays</th>\n",
       "      <th>previous</th>\n",
       "      <th>day</th>\n",
       "      <th>month</th>\n",
       "      <th>job_1</th>\n",
       "      <th>job_2</th>\n",
       "      <th>job_3</th>\n",
       "      <th>...</th>\n",
       "      <th>education_2</th>\n",
       "      <th>education_3</th>\n",
       "      <th>contact_1</th>\n",
       "      <th>contact_2</th>\n",
       "      <th>default_1</th>\n",
       "      <th>housing_1</th>\n",
       "      <th>loan_1</th>\n",
       "      <th>y</th>\n",
       "      <th>Label</th>\n",
       "      <th>Score</th>\n",
       "    </tr>\n",
       "  </thead>\n",
       "  <tbody>\n",
       "    <tr>\n",
       "      <th>0</th>\n",
       "      <td>0.363636</td>\n",
       "      <td>0.078187</td>\n",
       "      <td>0.032258</td>\n",
       "      <td>1.000000</td>\n",
       "      <td>0.000000</td>\n",
       "      <td>29</td>\n",
       "      <td>1</td>\n",
       "      <td>0</td>\n",
       "      <td>0</td>\n",
       "      <td>0</td>\n",
       "      <td>...</td>\n",
       "      <td>1</td>\n",
       "      <td>0</td>\n",
       "      <td>0</td>\n",
       "      <td>0</td>\n",
       "      <td>0</td>\n",
       "      <td>1</td>\n",
       "      <td>0</td>\n",
       "      <td>0</td>\n",
       "      <td>0</td>\n",
       "      <td>1.00</td>\n",
       "    </tr>\n",
       "    <tr>\n",
       "      <th>1</th>\n",
       "      <td>0.311688</td>\n",
       "      <td>0.086748</td>\n",
       "      <td>0.000000</td>\n",
       "      <td>0.181363</td>\n",
       "      <td>0.014545</td>\n",
       "      <td>6</td>\n",
       "      <td>8</td>\n",
       "      <td>0</td>\n",
       "      <td>0</td>\n",
       "      <td>0</td>\n",
       "      <td>...</td>\n",
       "      <td>1</td>\n",
       "      <td>0</td>\n",
       "      <td>0</td>\n",
       "      <td>0</td>\n",
       "      <td>0</td>\n",
       "      <td>0</td>\n",
       "      <td>0</td>\n",
       "      <td>0</td>\n",
       "      <td>1</td>\n",
       "      <td>0.79</td>\n",
       "    </tr>\n",
       "    <tr>\n",
       "      <th>2</th>\n",
       "      <td>0.194805</td>\n",
       "      <td>0.076163</td>\n",
       "      <td>0.000000</td>\n",
       "      <td>1.000000</td>\n",
       "      <td>0.000000</td>\n",
       "      <td>8</td>\n",
       "      <td>4</td>\n",
       "      <td>1</td>\n",
       "      <td>0</td>\n",
       "      <td>0</td>\n",
       "      <td>...</td>\n",
       "      <td>0</td>\n",
       "      <td>0</td>\n",
       "      <td>0</td>\n",
       "      <td>0</td>\n",
       "      <td>0</td>\n",
       "      <td>1</td>\n",
       "      <td>0</td>\n",
       "      <td>0</td>\n",
       "      <td>0</td>\n",
       "      <td>0.93</td>\n",
       "    </tr>\n",
       "    <tr>\n",
       "      <th>3</th>\n",
       "      <td>0.142857</td>\n",
       "      <td>0.086167</td>\n",
       "      <td>0.016129</td>\n",
       "      <td>1.000000</td>\n",
       "      <td>0.000000</td>\n",
       "      <td>18</td>\n",
       "      <td>5</td>\n",
       "      <td>1</td>\n",
       "      <td>0</td>\n",
       "      <td>0</td>\n",
       "      <td>...</td>\n",
       "      <td>0</td>\n",
       "      <td>0</td>\n",
       "      <td>0</td>\n",
       "      <td>0</td>\n",
       "      <td>0</td>\n",
       "      <td>0</td>\n",
       "      <td>0</td>\n",
       "      <td>0</td>\n",
       "      <td>0</td>\n",
       "      <td>0.93</td>\n",
       "    </tr>\n",
       "    <tr>\n",
       "      <th>4</th>\n",
       "      <td>0.142857</td>\n",
       "      <td>0.079767</td>\n",
       "      <td>0.000000</td>\n",
       "      <td>1.000000</td>\n",
       "      <td>0.000000</td>\n",
       "      <td>5</td>\n",
       "      <td>2</td>\n",
       "      <td>0</td>\n",
       "      <td>0</td>\n",
       "      <td>0</td>\n",
       "      <td>...</td>\n",
       "      <td>0</td>\n",
       "      <td>0</td>\n",
       "      <td>0</td>\n",
       "      <td>0</td>\n",
       "      <td>0</td>\n",
       "      <td>1</td>\n",
       "      <td>0</td>\n",
       "      <td>0</td>\n",
       "      <td>0</td>\n",
       "      <td>0.97</td>\n",
       "    </tr>\n",
       "  </tbody>\n",
       "</table>\n",
       "<p>5 rows × 31 columns</p>\n",
       "</div>"
      ],
      "text/plain": [
       "        age   balance  campaign     pdays  previous  day  month  job_1  job_2  \\\n",
       "0  0.363636  0.078187  0.032258  1.000000  0.000000   29      1      0      0   \n",
       "1  0.311688  0.086748  0.000000  0.181363  0.014545    6      8      0      0   \n",
       "2  0.194805  0.076163  0.000000  1.000000  0.000000    8      4      1      0   \n",
       "3  0.142857  0.086167  0.016129  1.000000  0.000000   18      5      1      0   \n",
       "4  0.142857  0.079767  0.000000  1.000000  0.000000    5      2      0      0   \n",
       "\n",
       "   job_3  ...  education_2  education_3  contact_1  contact_2  default_1  \\\n",
       "0      0  ...            1            0          0          0          0   \n",
       "1      0  ...            1            0          0          0          0   \n",
       "2      0  ...            0            0          0          0          0   \n",
       "3      0  ...            0            0          0          0          0   \n",
       "4      0  ...            0            0          0          0          0   \n",
       "\n",
       "   housing_1  loan_1  y  Label  Score  \n",
       "0          1       0  0      0   1.00  \n",
       "1          0       0  0      1   0.79  \n",
       "2          1       0  0      0   0.93  \n",
       "3          0       0  0      0   0.93  \n",
       "4          1       0  0      0   0.97  \n",
       "\n",
       "[5 rows x 31 columns]"
      ]
     },
     "execution_count": 121,
     "metadata": {},
     "output_type": "execute_result"
    }
   ],
   "source": [
    "test_predictions_train = predict_model(rf, data = df_over)\n",
    "test_predictions_train.head()"
   ]
  },
  {
   "cell_type": "code",
   "execution_count": 126,
   "id": "7f734778",
   "metadata": {},
   "outputs": [
    {
     "data": {
      "text/html": [
       "<style  type=\"text/css\" >\n",
       "</style><table id=\"T_d7366_\" ><thead>    <tr>        <th class=\"blank level0\" ></th>        <th class=\"col_heading level0 col0\" >Model</th>        <th class=\"col_heading level0 col1\" >Accuracy</th>        <th class=\"col_heading level0 col2\" >AUC</th>        <th class=\"col_heading level0 col3\" >Recall</th>        <th class=\"col_heading level0 col4\" >Prec.</th>        <th class=\"col_heading level0 col5\" >F1</th>        <th class=\"col_heading level0 col6\" >Kappa</th>        <th class=\"col_heading level0 col7\" >MCC</th>    </tr></thead><tbody>\n",
       "                <tr>\n",
       "                        <th id=\"T_d7366_level0_row0\" class=\"row_heading level0 row0\" >0</th>\n",
       "                        <td id=\"T_d7366_row0_col0\" class=\"data row0 col0\" >Random Forest Classifier</td>\n",
       "                        <td id=\"T_d7366_row0_col1\" class=\"data row0 col1\" >0.9585</td>\n",
       "                        <td id=\"T_d7366_row0_col2\" class=\"data row0 col2\" >0.9871</td>\n",
       "                        <td id=\"T_d7366_row0_col3\" class=\"data row0 col3\" >0.9692</td>\n",
       "                        <td id=\"T_d7366_row0_col4\" class=\"data row0 col4\" >0.9111</td>\n",
       "                        <td id=\"T_d7366_row0_col5\" class=\"data row0 col5\" >0.9393</td>\n",
       "                        <td id=\"T_d7366_row0_col6\" class=\"data row0 col6\" >0.9078</td>\n",
       "                        <td id=\"T_d7366_row0_col7\" class=\"data row0 col7\" >0.9088</td>\n",
       "            </tr>\n",
       "    </tbody></table>"
      ],
      "text/plain": [
       "<pandas.io.formats.style.Styler at 0x1fb8d0e4b50>"
      ]
     },
     "metadata": {},
     "output_type": "display_data"
    }
   ],
   "source": [
    "predict_model(rf);"
   ]
  },
  {
   "cell_type": "code",
   "execution_count": 122,
   "id": "2fb47bf3",
   "metadata": {},
   "outputs": [
    {
     "name": "stdout",
     "output_type": "stream",
     "text": [
      "Confidence Score :   0.94\n"
     ]
    }
   ],
   "source": [
    "print(\"Confidence Score :   {}\".format(round(test_predictions_train.Score.mean(),2)))#Confidence Score"
   ]
  },
  {
   "cell_type": "code",
   "execution_count": 123,
   "id": "9a4d8866",
   "metadata": {
    "scrolled": false
   },
   "outputs": [
    {
     "data": {
      "text/plain": [
       "0.9917"
      ]
     },
     "execution_count": 123,
     "metadata": {},
     "output_type": "execute_result"
    }
   ],
   "source": [
    "from pycaret.utils import check_metric\n",
    "check_metric(test_predictions_train['y'], test_predictions_train['Label'], metric = 'Accuracy')"
   ]
  },
  {
   "cell_type": "code",
   "execution_count": 124,
   "id": "99628698",
   "metadata": {},
   "outputs": [
    {
     "data": {
      "text/plain": [
       "0.9876"
      ]
     },
     "execution_count": 124,
     "metadata": {},
     "output_type": "execute_result"
    }
   ],
   "source": [
    "check_metric(test_predictions_train['y'], test_predictions_train['Label'], metric = 'F1')"
   ]
  },
  {
   "cell_type": "code",
   "execution_count": 125,
   "id": "b94bd2af",
   "metadata": {},
   "outputs": [
    {
     "data": {
      "text/plain": [
       "0.9939"
      ]
     },
     "execution_count": 125,
     "metadata": {},
     "output_type": "execute_result"
    }
   ],
   "source": [
    "check_metric(test_predictions_train.y, test_predictions_train.Label, metric = 'Recall')"
   ]
  },
  {
   "cell_type": "markdown",
   "id": "296fb11b",
   "metadata": {},
   "source": [
    "##### Evaluacion en data de Test "
   ]
  },
  {
   "cell_type": "code",
   "execution_count": 127,
   "id": "441eb0ee",
   "metadata": {
    "scrolled": false
   },
   "outputs": [
    {
     "data": {
      "text/html": [
       "<div>\n",
       "<style scoped>\n",
       "    .dataframe tbody tr th:only-of-type {\n",
       "        vertical-align: middle;\n",
       "    }\n",
       "\n",
       "    .dataframe tbody tr th {\n",
       "        vertical-align: top;\n",
       "    }\n",
       "\n",
       "    .dataframe thead th {\n",
       "        text-align: right;\n",
       "    }\n",
       "</style>\n",
       "<table border=\"1\" class=\"dataframe\">\n",
       "  <thead>\n",
       "    <tr style=\"text-align: right;\">\n",
       "      <th></th>\n",
       "      <th>age</th>\n",
       "      <th>balance</th>\n",
       "      <th>campaign</th>\n",
       "      <th>pdays</th>\n",
       "      <th>previous</th>\n",
       "      <th>day</th>\n",
       "      <th>month</th>\n",
       "      <th>job_1</th>\n",
       "      <th>job_2</th>\n",
       "      <th>job_3</th>\n",
       "      <th>...</th>\n",
       "      <th>education_1</th>\n",
       "      <th>education_2</th>\n",
       "      <th>education_3</th>\n",
       "      <th>contact_1</th>\n",
       "      <th>contact_2</th>\n",
       "      <th>default_1</th>\n",
       "      <th>housing_1</th>\n",
       "      <th>loan_1</th>\n",
       "      <th>Label</th>\n",
       "      <th>Score</th>\n",
       "    </tr>\n",
       "  </thead>\n",
       "  <tbody>\n",
       "    <tr>\n",
       "      <th>0</th>\n",
       "      <td>0.470588</td>\n",
       "      <td>0.073101</td>\n",
       "      <td>0.023810</td>\n",
       "      <td>0.0</td>\n",
       "      <td>0.0</td>\n",
       "      <td>28</td>\n",
       "      <td>1</td>\n",
       "      <td>0</td>\n",
       "      <td>0</td>\n",
       "      <td>0</td>\n",
       "      <td>...</td>\n",
       "      <td>0</td>\n",
       "      <td>1</td>\n",
       "      <td>0</td>\n",
       "      <td>1</td>\n",
       "      <td>0</td>\n",
       "      <td>0</td>\n",
       "      <td>0</td>\n",
       "      <td>0</td>\n",
       "      <td>0</td>\n",
       "      <td>0.90</td>\n",
       "    </tr>\n",
       "    <tr>\n",
       "      <th>1</th>\n",
       "      <td>0.544118</td>\n",
       "      <td>0.072116</td>\n",
       "      <td>0.000000</td>\n",
       "      <td>0.0</td>\n",
       "      <td>0.0</td>\n",
       "      <td>21</td>\n",
       "      <td>7</td>\n",
       "      <td>0</td>\n",
       "      <td>0</td>\n",
       "      <td>0</td>\n",
       "      <td>...</td>\n",
       "      <td>1</td>\n",
       "      <td>0</td>\n",
       "      <td>0</td>\n",
       "      <td>0</td>\n",
       "      <td>0</td>\n",
       "      <td>0</td>\n",
       "      <td>0</td>\n",
       "      <td>0</td>\n",
       "      <td>0</td>\n",
       "      <td>0.73</td>\n",
       "    </tr>\n",
       "    <tr>\n",
       "      <th>2</th>\n",
       "      <td>0.455882</td>\n",
       "      <td>0.067485</td>\n",
       "      <td>0.166667</td>\n",
       "      <td>0.0</td>\n",
       "      <td>0.0</td>\n",
       "      <td>31</td>\n",
       "      <td>7</td>\n",
       "      <td>0</td>\n",
       "      <td>1</td>\n",
       "      <td>0</td>\n",
       "      <td>...</td>\n",
       "      <td>0</td>\n",
       "      <td>1</td>\n",
       "      <td>0</td>\n",
       "      <td>0</td>\n",
       "      <td>0</td>\n",
       "      <td>0</td>\n",
       "      <td>0</td>\n",
       "      <td>0</td>\n",
       "      <td>0</td>\n",
       "      <td>0.81</td>\n",
       "    </tr>\n",
       "    <tr>\n",
       "      <th>3</th>\n",
       "      <td>0.514706</td>\n",
       "      <td>0.077355</td>\n",
       "      <td>0.000000</td>\n",
       "      <td>0.0</td>\n",
       "      <td>0.0</td>\n",
       "      <td>15</td>\n",
       "      <td>5</td>\n",
       "      <td>0</td>\n",
       "      <td>1</td>\n",
       "      <td>0</td>\n",
       "      <td>...</td>\n",
       "      <td>1</td>\n",
       "      <td>0</td>\n",
       "      <td>0</td>\n",
       "      <td>0</td>\n",
       "      <td>1</td>\n",
       "      <td>0</td>\n",
       "      <td>1</td>\n",
       "      <td>0</td>\n",
       "      <td>0</td>\n",
       "      <td>0.81</td>\n",
       "    </tr>\n",
       "    <tr>\n",
       "      <th>4</th>\n",
       "      <td>0.411765</td>\n",
       "      <td>0.066631</td>\n",
       "      <td>0.023810</td>\n",
       "      <td>0.0</td>\n",
       "      <td>0.0</td>\n",
       "      <td>19</td>\n",
       "      <td>8</td>\n",
       "      <td>0</td>\n",
       "      <td>0</td>\n",
       "      <td>0</td>\n",
       "      <td>...</td>\n",
       "      <td>0</td>\n",
       "      <td>1</td>\n",
       "      <td>0</td>\n",
       "      <td>0</td>\n",
       "      <td>0</td>\n",
       "      <td>0</td>\n",
       "      <td>0</td>\n",
       "      <td>0</td>\n",
       "      <td>0</td>\n",
       "      <td>0.82</td>\n",
       "    </tr>\n",
       "  </tbody>\n",
       "</table>\n",
       "<p>5 rows × 30 columns</p>\n",
       "</div>"
      ],
      "text/plain": [
       "        age   balance  campaign  pdays  previous  day  month  job_1  job_2  \\\n",
       "0  0.470588  0.073101  0.023810    0.0       0.0   28      1      0      0   \n",
       "1  0.544118  0.072116  0.000000    0.0       0.0   21      7      0      0   \n",
       "2  0.455882  0.067485  0.166667    0.0       0.0   31      7      0      1   \n",
       "3  0.514706  0.077355  0.000000    0.0       0.0   15      5      0      1   \n",
       "4  0.411765  0.066631  0.023810    0.0       0.0   19      8      0      0   \n",
       "\n",
       "   job_3  ...  education_1  education_2  education_3  contact_1  contact_2  \\\n",
       "0      0  ...            0            1            0          1          0   \n",
       "1      0  ...            1            0            0          0          0   \n",
       "2      0  ...            0            1            0          0          0   \n",
       "3      0  ...            1            0            0          0          1   \n",
       "4      0  ...            0            1            0          0          0   \n",
       "\n",
       "   default_1  housing_1  loan_1  Label  Score  \n",
       "0          0          0       0      0   0.90  \n",
       "1          0          0       0      0   0.73  \n",
       "2          0          0       0      0   0.81  \n",
       "3          0          1       0      0   0.81  \n",
       "4          0          0       0      0   0.82  \n",
       "\n",
       "[5 rows x 30 columns]"
      ]
     },
     "execution_count": 127,
     "metadata": {},
     "output_type": "execute_result"
    }
   ],
   "source": [
    "test_predictions = predict_model(rf_final, data = df_test_trans)\n",
    "test_predictions.head()"
   ]
  },
  {
   "cell_type": "code",
   "execution_count": 128,
   "id": "ad241ab7",
   "metadata": {
    "scrolled": true
   },
   "outputs": [
    {
     "name": "stdout",
     "output_type": "stream",
     "text": [
      "Confidence Score :   0.78\n"
     ]
    }
   ],
   "source": [
    "print(\"Confidence Score :   {}\".format(round(test_predictions.Score.mean(),2)))#Confidence Score"
   ]
  },
  {
   "cell_type": "markdown",
   "id": "70d44347",
   "metadata": {},
   "source": [
    "# Guardando datos para carga"
   ]
  },
  {
   "cell_type": "code",
   "execution_count": null,
   "id": "6084c22e",
   "metadata": {},
   "outputs": [],
   "source": [
    "test_predictions['Label'].replace([1,0],['yes','no'],inplace=True)"
   ]
  },
  {
   "cell_type": "code",
   "execution_count": null,
   "id": "3d3861cf",
   "metadata": {},
   "outputs": [],
   "source": [
    "label = test_predictions[['Label']]"
   ]
  },
  {
   "cell_type": "code",
   "execution_count": null,
   "id": "177a2b34",
   "metadata": {},
   "outputs": [],
   "source": [
    "label.to_csv('example_bagged.csv',index=False , header = False )"
   ]
  }
 ],
 "metadata": {
  "kernelspec": {
   "display_name": "Python 3",
   "language": "python",
   "name": "python3"
  },
  "language_info": {
   "codemirror_mode": {
    "name": "ipython",
    "version": 3
   },
   "file_extension": ".py",
   "mimetype": "text/x-python",
   "name": "python",
   "nbconvert_exporter": "python",
   "pygments_lexer": "ipython3",
   "version": "3.8.8"
  }
 },
 "nbformat": 4,
 "nbformat_minor": 5
}
