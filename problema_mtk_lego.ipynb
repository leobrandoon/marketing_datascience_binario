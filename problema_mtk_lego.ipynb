{
 "cells": [
  {
   "cell_type": "markdown",
   "id": "b224bdde",
   "metadata": {},
   "source": [
    "# Descripción\n",
    "   ### Los datos están relacionados con campañas de marketing directo de una institución bancaria. Las campañas de marketing se basaron en llamadas telefónicas. A menudo, se requería más de un contacto con el mismo cliente, para poder acceder si el producto (depósito a plazo bancario) estaría ('sí') o no ('no') suscrito.\n",
    "\n",
    "\n",
    "    Reglas y método de evaluación\n",
    "    \n",
    "    El desafío consistirá en que cada grupo formado deberá entregar un arreglo con los resultados ('yes' o 'no') y se medirá la medida de desempeño F1 score (macro).\n",
    "    \n",
    "    EL archivo de entrega debe ser en formato csv sin indice. Debe ser una sola columna con valores ´yes´ o ´no´ en 5210 filas\n",
    "\n",
    "\n",
    "#### Variables de entrada:\n",
    "\n",
    "# datos del cliente bancario:\n",
    "1 - edad (numérico)\n",
    "\n",
    "2 - trabajo: tipo de trabajo (categórico: 'admin.', 'Obrero', 'emprendedor', 'empleada doméstica', 'gerencia', 'jubilado', 'autónomo', 'servicios', 'estudiante' , 'técnico', 'desempleado', 'desconocido')\n",
    "\n",
    "3 - marital: estado civil (categórico: 'divorciado', 'casado', 'soltero', 'desconocido'; nota: 'divorciado' significa divorciado o viudo)\n",
    "\n",
    "4 - educación (categórica: 'básico.4y', 'básico.6y', 'básico.9y', 'escuela secundaria', 'analfabeto', 'curso.profesional', 'título universitario', 'desconocido')\n",
    "\n",
    "5 - incumplimiento: ¿tiene crédito en incumplimiento? (categórico: 'no', 'sí', 'desconocido')\n",
    "\n",
    "6 - vivienda: ¿tiene préstamo para vivienda? (categórico: 'no', 'sí', 'desconocido')\n",
    "\n",
    "7 - préstamo: ¿tiene préstamo personal? (categórico: 'no', 'sí', 'desconocido')\n",
    "\n",
    "# relacionado con el último contacto de la campaña actual:\n",
    "\n",
    "8 - contacto: tipo de comunicación de contacto (categórico: 'celular', 'teléfono')\n",
    "\n",
    "9 - mes: último mes de contacto del año (categórico: 'jan', 'feb', 'mar', ..., 'nov', 'dec')\n",
    "\n",
    "10 - day_of_week: último día de contacto de la semana (categórico: 'lun', 'tue', 'mié', 'jue', 'vie')\n",
    "\n",
    "11 - duración: duración del último contacto, en segundos (numérico). Nota importante: este atributo afecta en gran medida el objetivo de salida (por ejemplo, si duración = 0, entonces y = 'no'). Sin embargo, se desconoce la duración antes de realizar una llamada. Además, después de la finalización de la llamada y, obviamente, se conoce. Por lo tanto, esta entrada solo debe incluirse con fines de referencia y debe descartarse si la intención es tener un modelo predictivo realista.\n",
    "\n",
    "# otros atributos:\n",
    "\n",
    "12 - campaña: número de contactos realizados durante esta campaña y para este cliente (numérico, incluye último contacto)\n",
    "\n",
    "13 - pdays: número de días que pasaron después de que el cliente fue contactado por última vez desde una campaña anterior (numérico; 999 significa que el cliente no fue contactado previamente)\n",
    "\n",
    "14 - anterior: número de contactos realizados antes de esta campaña y para este cliente (numérico)\n",
    "\n",
    "15 - poutcome: resultado de la campaña de marketing anterior (categórico: 'fracaso', 'inexistente', 'éxito')\n",
    "\n",
    "Variable de salida (objetivo deseado):\n",
    "\n",
    "21 - y - ¿el cliente ha suscrito un depósito a plazo? (binario: 'sí', 'no')\n"
   ]
  },
  {
   "cell_type": "markdown",
   "id": "26c3dd6e",
   "metadata": {},
   "source": [
    "# Comenzando"
   ]
  },
  {
   "cell_type": "code",
   "execution_count": null,
   "id": "e00eafb3",
   "metadata": {},
   "outputs": [],
   "source": [
    "import numpy as np\n",
    "import pandas as pd\n",
    "import pylab as plt\n",
    "from scipy.optimize import curve_fit\n",
    "import matplotlib.pyplot as plt\n",
    "import seaborn as sns\n",
    "from sklearn import preprocessing\n",
    "\n",
    "\n",
    "from imblearn.over_sampling import RandomOverSampler\n",
    "import imblearn"
   ]
  },
  {
   "cell_type": "code",
   "execution_count": null,
   "id": "2629e828",
   "metadata": {},
   "outputs": [],
   "source": [
    "df_train = pd.read_csv('Trainset.csv', index_col= 'Unnamed: 0')\n",
    "df_test = pd.read_csv('TestFeatures.csv')\n",
    "final = pd.read_csv('submission_example.csv')"
   ]
  },
  {
   "cell_type": "code",
   "execution_count": null,
   "id": "7f3efed6",
   "metadata": {},
   "outputs": [],
   "source": [
    "df_train.info()"
   ]
  },
  {
   "cell_type": "code",
   "execution_count": null,
   "id": "826646c4",
   "metadata": {
    "scrolled": false
   },
   "outputs": [],
   "source": [
    "df_train.head()"
   ]
  },
  {
   "cell_type": "markdown",
   "id": "f1848cbf",
   "metadata": {},
   "source": [
    "## Eliminar Columnas\n",
    "duration   \n",
    "\n"
   ]
  },
  {
   "cell_type": "code",
   "execution_count": null,
   "id": "402367d5",
   "metadata": {
    "scrolled": false
   },
   "outputs": [],
   "source": [
    "df_train = df_train.drop(['duration'], axis=1)\n",
    "df_train.head()"
   ]
  },
  {
   "cell_type": "markdown",
   "id": "0ed8b6ce",
   "metadata": {},
   "source": [
    "## Distribution"
   ]
  },
  {
   "cell_type": "code",
   "execution_count": null,
   "id": "812f48a7",
   "metadata": {
    "scrolled": false
   },
   "outputs": [],
   "source": [
    "# df_train.hist(figsize=(12,12), color = 'darkblue')\n",
    "# plt.show()"
   ]
  },
  {
   "cell_type": "markdown",
   "id": "445ab35b",
   "metadata": {},
   "source": [
    "### Mayormente los usuarios NO tiene contratado el producto"
   ]
  },
  {
   "cell_type": "code",
   "execution_count": null,
   "id": "267a4bb0",
   "metadata": {},
   "outputs": [],
   "source": [
    "df_train.y.value_counts()"
   ]
  },
  {
   "cell_type": "code",
   "execution_count": null,
   "id": "8c56a6fd",
   "metadata": {},
   "outputs": [],
   "source": [
    "df_train.y.value_counts()/df_train.shape[0]"
   ]
  },
  {
   "cell_type": "markdown",
   "id": "a4320b27",
   "metadata": {},
   "source": [
    "# Preproceso de datos Ecoding Test Train"
   ]
  },
  {
   "cell_type": "markdown",
   "id": "7f6666cd",
   "metadata": {},
   "source": [
    "### Copias de los datos."
   ]
  },
  {
   "cell_type": "code",
   "execution_count": null,
   "id": "14646774",
   "metadata": {
    "scrolled": true
   },
   "outputs": [],
   "source": [
    "# Datos sin balanceo\n",
    "df_prep = df_train.copy()"
   ]
  },
  {
   "cell_type": "markdown",
   "id": "573b9fc8",
   "metadata": {},
   "source": [
    "# Encoding de datos Train"
   ]
  },
  {
   "cell_type": "markdown",
   "id": "b3f3d053",
   "metadata": {},
   "source": [
    "## encoding datos"
   ]
  },
  {
   "cell_type": "code",
   "execution_count": null,
   "id": "d799b3b2",
   "metadata": {},
   "outputs": [],
   "source": [
    "from sklearn.preprocessing import LabelEncoder\n",
    "labelencoder=LabelEncoder()\n",
    "\n",
    "df_prep['job']=labelencoder.fit_transform(df_prep['job'].values)\n",
    "df_prep['marital']=labelencoder.fit_transform(df_prep['marital'].values)\n",
    "df_prep['education']=labelencoder.fit_transform(df_prep['education'].values)\n",
    "df_prep['contact']=labelencoder.fit_transform(df_prep['contact'].values)\n",
    "df_prep['poutcome']=labelencoder.fit_transform(df_prep['poutcome'].values)\n",
    "\n",
    "df_prep['default'].replace(['yes','no'],[1,0],inplace=True)\n",
    "df_prep['housing'].replace(['yes','no'],[1,0],inplace=True)\n",
    "df_prep['loan'].replace(['yes','no'],[1,0],inplace=True)\n",
    "df_prep['y'].replace(['yes','no'],[1,0],inplace=True)\n",
    "df_prep['month'].replace(['jan','feb','mar','apr','may','jun','jul','aug' , 'sep','oct','nov','dec'],\n",
    "                         [1,2,3,4,5,6,7,8,9,10,11,12],inplace=True)\n",
    "\n",
    "\n",
    "\n",
    "#CATEGORICAS ['job','marital','education','contact','month','poutcome']\n",
    "#NUMERICAS ['age','balance','day','campaign','pdays','previous']\n",
    "#BINARIAS  ['default','housing','loan']  "
   ]
  },
  {
   "cell_type": "code",
   "execution_count": null,
   "id": "df8c1e6c",
   "metadata": {},
   "outputs": [],
   "source": [
    "df_prep.head()"
   ]
  },
  {
   "cell_type": "code",
   "execution_count": null,
   "id": "d704a99c",
   "metadata": {},
   "outputs": [],
   "source": [
    "df_prep['y'].unique(),df_prep['y'].value_counts()"
   ]
  },
  {
   "cell_type": "markdown",
   "id": "62cdf4d2",
   "metadata": {},
   "source": [
    "## Normalizacion Train"
   ]
  },
  {
   "cell_type": "code",
   "execution_count": null,
   "id": "3b5a14fe",
   "metadata": {
    "scrolled": false
   },
   "outputs": [],
   "source": [
    "# #selecionamos las columnas que normalizaremos\n",
    "df_norm = df_prep[['age','balance','campaign','pdays','previous','poutcome']]\n",
    "df_prep2 = df_prep.drop(columns=['age','balance','campaign','pdays','previous','poutcome'])\n",
    "\n",
    "from sklearn.preprocessing import MinMaxScaler\n",
    "df_trans = MinMaxScaler()\n",
    "df_trans = df_trans.fit_transform(df_norm)\n",
    "\n",
    "df_trans = pd.DataFrame(df_trans)\n",
    "df_trans.columns = df_norm.columns\n",
    "\n",
    "df_train_trans = pd.concat([df_trans, df_prep2], axis=1,)\n",
    "df_train_trans.reindex(columns=['age','job','marital','education','default','balance','housing',\n",
    "                          'loan','contact','day','month','campaign','pdays','previous','poutcome','y'])\n",
    "\n",
    "df_train_trans.head()"
   ]
  },
  {
   "cell_type": "code",
   "execution_count": null,
   "id": "a859bf1b",
   "metadata": {},
   "outputs": [],
   "source": [
    "# from sklearn.preprocessing import MinMaxScaler\n",
    "# train_trans  = MinMaxScaler()\n",
    "# train_trans  = train_trans.fit_transform(df_prep)\n",
    "\n",
    "# from sklearn.preprocessing import Normalizer\n",
    "# test_trans  = Normalizer()\n",
    "# test_trans  = test_trans.fit_transform(df_prep)\n",
    "\n",
    "\n",
    "# #crearmamos el dataset\n",
    "# train_trans = pd.DataFrame(train_trans)\n",
    "# train_trans.columns = df_prep.columns\n",
    "# train_trans.reindex(columns=['age','job','marital','education','default','balance','housing',\n",
    "#                          'loan','contact','day','month','campaign','pdays','previous','poutcome','y'])\n"
   ]
  },
  {
   "cell_type": "markdown",
   "id": "52483daf",
   "metadata": {},
   "source": [
    "# Preproceso datos test\n",
    "\n",
    "## encoding datos sin balanceo\n",
    "\n",
    "#### Esto es necesario para poder probar el modelo sobre la misma estructura de datos pre_procesados de train."
   ]
  },
  {
   "cell_type": "code",
   "execution_count": null,
   "id": "bb90b4bd",
   "metadata": {},
   "outputs": [],
   "source": [
    "from sklearn.preprocessing import LabelEncoder\n",
    "labelencoder=LabelEncoder()\n",
    "df_test['job']=labelencoder.fit_transform(df_test['job'].values)\n",
    "df_test['marital']=labelencoder.fit_transform(df_test['marital'].values)\n",
    "df_test['education']=labelencoder.fit_transform(df_test['education'].values)\n",
    "df_test['contact']=labelencoder.fit_transform(df_test['contact'].values)\n",
    "df_test['poutcome']=labelencoder.fit_transform(df_test['poutcome'].values)\n",
    "\n",
    "df_test['default'].replace(['yes','no'],[1,0],inplace=True)\n",
    "df_test['housing'].replace(['yes','no'],[1,0],inplace=True)\n",
    "df_test['loan'].replace(['yes','no'],[1,0],inplace=True)\n",
    "df_test['month'].replace(['jan','feb','mar','apr','may','jun','jul','aug' , 'sep','oct','nov','dec'],\n",
    "                         [1,2,3,4,5,6,7,8,9,10,11,12],inplace=True)\n",
    "\n",
    "#CATEGORICAS ['job','marital','education','contact','month','poutcome']\n",
    "#NUMERICAS ['age','balance','day','campaign','pdays','previous']\n",
    "#BINARIAS  ['default','housing','loan']  "
   ]
  },
  {
   "cell_type": "code",
   "execution_count": null,
   "id": "3c1c5708",
   "metadata": {},
   "outputs": [],
   "source": [
    "test_trans = df_test"
   ]
  },
  {
   "cell_type": "markdown",
   "id": "9883b728",
   "metadata": {},
   "source": [
    "## Normalizacion Test"
   ]
  },
  {
   "cell_type": "code",
   "execution_count": null,
   "id": "0ba4c598",
   "metadata": {},
   "outputs": [],
   "source": [
    "df_norm_test = df_test[['age','balance','campaign','pdays','previous']]\n",
    "df_prep_test = df_test.drop(columns=['age','balance','campaign','pdays','previous','duration'])\n",
    "from sklearn.preprocessing import MinMaxScaler\n",
    "df_trans = MinMaxScaler()\n",
    "df_trans = df_trans.fit_transform(df_norm_test)\n",
    "df_trans = pd.DataFrame(df_trans)\n",
    "df_trans.columns = df_norm_test.columns\n",
    "test_trans = pd.concat([df_trans, df_prep_test], axis=1,)\n",
    "test_trans.reindex(columns=['age','job','marital','education','balance','housing',\n",
    "                         'loan','contact','day','month','campaign','pdays','previous','poutcome'])\n",
    "\n",
    "test_trans.head()"
   ]
  },
  {
   "cell_type": "code",
   "execution_count": null,
   "id": "0244b99d",
   "metadata": {},
   "outputs": [],
   "source": [
    "# from sklearn.preprocessing import MinMaxScaler\n",
    "# test_trans  = MinMaxScaler()\n",
    "# test_trans  = test_trans.fit_transform(df_test)\n",
    "\n",
    "# from sklearn.preprocessing import Normalizer\n",
    "# test_trans  = Normalizer()\n",
    "# test_trans  = test_trans.fit_transform(df_test)"
   ]
  },
  {
   "cell_type": "code",
   "execution_count": null,
   "id": "698cdd94",
   "metadata": {},
   "outputs": [],
   "source": [
    "# #rearmamos el dataset\n",
    "# test_trans = pd.DataFrame(test_trans)\n",
    "# test_trans.columns = df_test.columns"
   ]
  },
  {
   "cell_type": "markdown",
   "id": "c2e095b8",
   "metadata": {},
   "source": [
    "# Balanceo de datos"
   ]
  },
  {
   "cell_type": "markdown",
   "id": "dc4a3537",
   "metadata": {},
   "source": [
    "# Oversampling"
   ]
  },
  {
   "cell_type": "code",
   "execution_count": null,
   "id": "19004bc5",
   "metadata": {},
   "outputs": [],
   "source": [
    "#Separamos el set de datos\n",
    "x = df_train_trans.drop(['y'], axis=1)\n",
    "y = df_train_trans['y']"
   ]
  },
  {
   "cell_type": "code",
   "execution_count": null,
   "id": "60a86f45",
   "metadata": {},
   "outputs": [],
   "source": [
    "random_over = RandomOverSampler(sampling_strategy='auto',\n",
    "                               random_state=123)\n",
    "\n",
    "X_over,y_over = random_over.fit_resample(x,y)\n",
    "df_over = X_over\n",
    "df_over['y'] = y_over\n",
    "\n",
    "print(df_over.y.value_counts()/df_over.shape[0])\n",
    "print(df_over.y.value_counts())\n",
    "print(df_over.shape)\n",
    "df_over.head()"
   ]
  },
  {
   "cell_type": "markdown",
   "id": "e82ad325",
   "metadata": {},
   "source": [
    "# Undersampling"
   ]
  },
  {
   "cell_type": "code",
   "execution_count": null,
   "id": "70c6984d",
   "metadata": {
    "scrolled": true
   },
   "outputs": [],
   "source": [
    "from sklearn.utils import resample, shuffle\n",
    "\n",
    "#set the minority class to a seperate dataframe\n",
    "df_yes = df_train_trans[df_train['y'] == 'yes']\n",
    "#set other classes to another dataframe\n",
    "df_no = df_train_trans[df_train['y'] == 'no']  \n",
    "\n",
    "#upsample the class\n",
    "df_no_upsampled = resample(df_no,\n",
    "                           random_state=123,\n",
    "                           n_samples=len(df_yes),\n",
    "                           replace=False)\n",
    "\n",
    "#concatenate the upsampled dataframe\n",
    "df_under = pd.concat([df_no_upsampled,df_yes])\n",
    "\n",
    "print(df_under.y.value_counts()/df_under.shape[0])\n",
    "print(df_under.y.value_counts())\n",
    "print(df_under.shape)\n",
    "df_under.head()"
   ]
  },
  {
   "cell_type": "markdown",
   "id": "cd926e22",
   "metadata": {},
   "source": [
    "#### Tenemos dos set de datos Balanceados en dos formas diferentes"
   ]
  },
  {
   "cell_type": "markdown",
   "id": "133c66b6",
   "metadata": {},
   "source": [
    "# Ejecutando Modelos "
   ]
  },
  {
   "cell_type": "code",
   "execution_count": null,
   "id": "84cd4124",
   "metadata": {},
   "outputs": [],
   "source": [
    "#df = df_train_trans\n",
    "#df = df_over\n",
    "#df = df_under\n",
    "#df_prep"
   ]
  },
  {
   "cell_type": "code",
   "execution_count": null,
   "id": "9878a479",
   "metadata": {},
   "outputs": [],
   "source": [
    "#df_over = df_over.sample(frac=0.95, random_state=786)"
   ]
  },
  {
   "cell_type": "code",
   "execution_count": null,
   "id": "b12aed30",
   "metadata": {
    "scrolled": false
   },
   "outputs": [],
   "source": [
    "from pycaret.classification import *\n",
    "clf1 = setup(data = df_prep,\n",
    "             target = 'y',\n",
    "             train_size=0.3,\n",
    "             session_id=123,\n",
    "             fold_shuffle=True,\n",
    "             data_split_shuffle=False,\n",
    "             normalize = True,\n",
    "             normalize_method = robust\n",
    "            \n",
    "            )"
   ]
  },
  {
   "cell_type": "code",
   "execution_count": null,
   "id": "99699ad0",
   "metadata": {
    "scrolled": false
   },
   "outputs": [],
   "source": [
    "best_model = compare_models(sort = 'F1')"
   ]
  },
  {
   "cell_type": "markdown",
   "id": "7e9d313d",
   "metadata": {},
   "source": [
    "    Precision nos da la calidad de la predicción: ¿qué porcentaje de los que hemos dicho que son la clase positiva, en realidad lo son?\n",
    "    \n",
    "    Recall nos da la cantidad: ¿qué porcentaje de la clase positiva hemos sido capaces de identificar?\n",
    "    \n",
    "    F1 combina Precision y Recall en una sola medida\n",
    "    \n",
    "    La Matriz de Confusión indica qué tipos de errores se cometen"
   ]
  },
  {
   "cell_type": "markdown",
   "id": "e3619b60",
   "metadata": {},
   "source": [
    "###### Evaluando F1 antes de continuar con los modelos\n",
    "\n",
    "    modelo_1 = \n",
    "\n",
    "    modelo_2 = \n",
    "\n",
    "    modelo_3 = 0.3472 xgboost\n",
    "    \n",
    "    modelo_4 = 0.3478 qda\n",
    "    \n",
    "    modelo_5 = 0.3262 qda   \n",
    "    \n",
    "    modelo_6_over = 0.88 RF\n",
    "    \n",
    "    modelo_7_under = 0.77 gbc"
   ]
  },
  {
   "cell_type": "code",
   "execution_count": null,
   "id": "d944ff55",
   "metadata": {
    "scrolled": true
   },
   "outputs": [],
   "source": [
    "print(best_model)"
   ]
  },
  {
   "cell_type": "code",
   "execution_count": null,
   "id": "600895d5",
   "metadata": {},
   "outputs": [],
   "source": [
    "models()"
   ]
  },
  {
   "cell_type": "code",
   "execution_count": null,
   "id": "88d43f77",
   "metadata": {},
   "outputs": [],
   "source": [
    "rf = create_model('catboost')"
   ]
  },
  {
   "cell_type": "markdown",
   "id": "412b932e",
   "metadata": {},
   "source": [
    "# Optimizando Hiperparametros\n",
    "### por F1"
   ]
  },
  {
   "cell_type": "code",
   "execution_count": null,
   "id": "c535d2af",
   "metadata": {},
   "outputs": [],
   "source": [
    "tuned_rf = tune_model(rf)"
   ]
  },
  {
   "cell_type": "code",
   "execution_count": null,
   "id": "f0abacfa",
   "metadata": {
    "scrolled": false
   },
   "outputs": [],
   "source": [
    "print(tuned_rf)"
   ]
  },
  {
   "cell_type": "markdown",
   "id": "4ac37603",
   "metadata": {},
   "source": [
    "# Ensamble"
   ]
  },
  {
   "cell_type": "code",
   "execution_count": null,
   "id": "330865da",
   "metadata": {},
   "outputs": [],
   "source": [
    "#boosted_dt = ensemble_model (ctb, method = 'Boosting', n_estimators = 100)\n",
    "\n",
    "# entrenar un clasificador de ensacado en dt\n",
    "bagged_dt = ensemble_model ( dt, method = 'Embolsado' )\n",
    "# entrenar un clasificador adaboost en dt con 100 estimadores\n",
    "boosted_dt = ensemble_model ( dt, method = 'Boosting' , n_estimators = 100 )"
   ]
  },
  {
   "cell_type": "markdown",
   "id": "120272a2",
   "metadata": {},
   "source": [
    "# Prediccion"
   ]
  },
  {
   "cell_type": "code",
   "execution_count": null,
   "id": "f3023524",
   "metadata": {
    "scrolled": true
   },
   "outputs": [],
   "source": [
    "# predict_model(boosted_dt);"
   ]
  },
  {
   "cell_type": "code",
   "execution_count": null,
   "id": "b9fa8289",
   "metadata": {},
   "outputs": [],
   "source": [
    "rf_final = finalize_model(rf)\n",
    "#Parámetros finales del modelo Random Forest para su despliegue a producción\n",
    "print(rf)"
   ]
  },
  {
   "cell_type": "code",
   "execution_count": null,
   "id": "fa9379fb",
   "metadata": {
    "scrolled": false
   },
   "outputs": [],
   "source": [
    "predict_model(rf);"
   ]
  },
  {
   "cell_type": "markdown",
   "id": "0ab5b00d",
   "metadata": {},
   "source": [
    "# Testeando resultados."
   ]
  },
  {
   "cell_type": "code",
   "execution_count": null,
   "id": "441eb0ee",
   "metadata": {},
   "outputs": [],
   "source": [
    "test_predictions = predict_model(rf_final, data = test_trans)\n",
    "test_predictions.head()"
   ]
  },
  {
   "cell_type": "code",
   "execution_count": null,
   "id": "483f3963",
   "metadata": {},
   "outputs": [],
   "source": [
    "test_predictions.info()"
   ]
  },
  {
   "cell_type": "markdown",
   "id": "727a9b12",
   "metadata": {},
   "source": [
    "# Resultado"
   ]
  },
  {
   "cell_type": "code",
   "execution_count": null,
   "id": "9a4d8866",
   "metadata": {},
   "outputs": [],
   "source": [
    "from pycaret.utils import check_metric\n",
    "\n",
    "check_metric(test_predictions['default'], test_predictions['Label'], metric = 'Accuracy')"
   ]
  },
  {
   "cell_type": "markdown",
   "id": "23128162",
   "metadata": {},
   "source": [
    "accura_m1 =\n",
    "\n",
    "accura_m2 = 0.9232 - puntaje 49.2757\n",
    "\n",
    "    fix_imbalance = True, \n",
    "                 train_size = 0.2, \n",
    "                 iterative_imputation_iters = 5,\n",
    "                 normalize = True,\n",
    "                 normalize_method = 'minmax',\n",
    "                 transformation = True,\n",
    "                 high_cardinality_features = ['job','education','month'],\n",
    "                 numeric_features = ['age','balance','day','campaign','pdays','previous'] )\n",
    "             \n",
    "accura_m3 = 0.9378  - puntaje \n",
    "     \n",
    "     Es necesario preprocesar datos de test y train\n",
    "      \n",
    "accura_m3 = 0.9798\n",
    "     \n",
    "     Aplicamos modelo qda\n",
    "\n",
    "\n",
    "\n",
    "accura_m3 = 0.9384 \n",
    "\n",
    "    Aplicamos catboost\n",
    "    \n",
    "accura_m4_over = 0.7417\n",
    "\n",
    "accura_m6_over_prep =0.9313\n",
    "\n",
    "\n"
   ]
  },
  {
   "cell_type": "markdown",
   "id": "70d44347",
   "metadata": {},
   "source": [
    "# Guardando datos para carga"
   ]
  },
  {
   "cell_type": "code",
   "execution_count": null,
   "id": "6084c22e",
   "metadata": {},
   "outputs": [],
   "source": [
    "test_predictions['Label'].replace([1,0],['yes','no'],inplace=True)"
   ]
  },
  {
   "cell_type": "code",
   "execution_count": null,
   "id": "3d3861cf",
   "metadata": {},
   "outputs": [],
   "source": [
    "label = test_predictions[['Label']]"
   ]
  },
  {
   "cell_type": "code",
   "execution_count": null,
   "id": "177a2b34",
   "metadata": {},
   "outputs": [],
   "source": [
    "label.to_csv('example_4.csv',index=False , header = False )"
   ]
  },
  {
   "cell_type": "code",
   "execution_count": null,
   "id": "67b798d8",
   "metadata": {},
   "outputs": [],
   "source": []
  }
 ],
 "metadata": {
  "kernelspec": {
   "display_name": "Python 3",
   "language": "python",
   "name": "python3"
  },
  "language_info": {
   "codemirror_mode": {
    "name": "ipython",
    "version": 3
   },
   "file_extension": ".py",
   "mimetype": "text/x-python",
   "name": "python",
   "nbconvert_exporter": "python",
   "pygments_lexer": "ipython3",
   "version": "3.8.8"
  }
 },
 "nbformat": 4,
 "nbformat_minor": 5
}
